{
 "cells": [
  {
   "cell_type": "markdown",
   "id": "d47d3f78-ccf9-4579-9c00-e43ddb74c137",
   "metadata": {},
   "source": [
    "### OpenAI API Key 사용법기초"
   ]
  },
  {
   "cell_type": "code",
   "execution_count": null,
   "id": "2f1a23d4-85fa-44a9-8726-6aefd137c9b5",
   "metadata": {},
   "outputs": [],
   "source": [
    "# openai 패키지 설치\n",
    "# ! pip install openai"
   ]
  },
  {
   "cell_type": "code",
   "execution_count": 2,
   "id": "66d45d35-73cb-442b-afc8-10f74414b447",
   "metadata": {},
   "outputs": [
    {
     "name": "stdout",
     "output_type": "stream",
     "text": [
      "1.66.2\n"
     ]
    }
   ],
   "source": [
    "import openai\n",
    "print(openai.__version__)"
   ]
  },
  {
   "cell_type": "code",
   "execution_count": 44,
   "id": "4c0c34e1-80fe-4f9d-b5da-eb448bce8525",
   "metadata": {},
   "outputs": [
    {
     "name": "stdout",
     "output_type": "stream",
     "text": [
      "<class 'openai.OpenAI'>\n"
     ]
    }
   ],
   "source": [
    "from openai import OpenAI\n",
    "\n",
    "# API_KEY = 'YOUR_API_KEY'\n",
    "client = OpenAI(api_key=API_KEY)\n",
    "print(type(client))"
   ]
  },
  {
   "cell_type": "code",
   "execution_count": 45,
   "id": "f16501a5-0275-41ab-b86b-863bd534d508",
   "metadata": {},
   "outputs": [
    {
     "name": "stdout",
     "output_type": "stream",
     "text": [
      "저는 AI 언어 모델로, 다양한 질문에 답하고 정보를 제공하는 역할을 합니다. 궁금한 점이나 도움이 필요한 부분이 있다면 언제든지 말씀해 주세요!\n"
     ]
    }
   ],
   "source": [
    "# API 호출 질의 요청\n",
    "completion = client.chat.completions.create(\n",
    "    model = \"gpt-4o-mini\" ,       # 모델 이름\n",
    "    messages = [ {\"role\":\"user\",\n",
    "                  \"content\":\"너는 누구니?\"}\n",
    "               ]\n",
    ")\n",
    "\n",
    "# 응답 출력\n",
    "print(completion.choices[0].message.content)"
   ]
  },
  {
   "cell_type": "code",
   "execution_count": 23,
   "id": "a24db81c-31e1-45fa-9aa0-80437f0d0323",
   "metadata": {},
   "outputs": [],
   "source": [
    "# print(type(completion))  # ChatCompletion 타입\n",
    "# print(completion.id)     # chatcmpl-BMDAM8omjV7KXnmxXtytbEoTge8gY\n",
    "# print(completion.choices[0])\n",
    "# print(completion.choices[0].finish_reason)  # stop\n",
    "# print(completion.choices[0].message)\n",
    "# print(completion.choices[0].message.role)   # assistant"
   ]
  },
  {
   "cell_type": "code",
   "execution_count": 26,
   "id": "5e51a537-be96-42cc-a2fc-c7a646deea85",
   "metadata": {},
   "outputs": [
    {
     "name": "stdout",
     "output_type": "stream",
     "text": [
      "2020년 도쿄 올림픽의 우승국은 미국입니다. 이 대회에서 미국은 금메달, 은메달, 동메달 모두 가장 많은 수를 기록하여 종합 1위를 차지했습니다. 올림픽은 원래 2020년에 열릴 예정이었으나, 코로나19 팬데믹으로 인해 2021년으로 연기되었습니다.\n"
     ]
    }
   ],
   "source": [
    "# API 호출 질의 요청\n",
    "completion = client.chat.completions.create(\n",
    "    model = \"gpt-4o-mini\" ,       # 모델 이름\n",
    "    messages = [ {\"role\":\"user\",\n",
    "                  \"content\":\"2020년 도쿄 올림픽의 우승국은?\"}\n",
    "               ]\n",
    ")\n",
    "\n",
    "# 응답 출력\n",
    "print(completion.choices[0].message.content)"
   ]
  },
  {
   "cell_type": "code",
   "execution_count": 27,
   "id": "f595a477-1adc-4277-a066-9ba213c8acd1",
   "metadata": {},
   "outputs": [
    {
     "name": "stdout",
     "output_type": "stream",
     "text": [
      "죄송하지만, 2024년 파리 올림픽에 대한 결과나 우승국에 대한 정보는 제가 알고 있는 데이터 범위를 넘어섭니다. 올림픽이 끝날 때쯤이면 우승국에 대한 정보가 공개될 것입니다. 올림픽 관련 소식을 확인하시려면 공식 웹사이트나 뉴스 매체를 참고하시기 바랍니다.\n"
     ]
    }
   ],
   "source": [
    "# API 호출 질의 요청\n",
    "completion = client.chat.completions.create(\n",
    "    model = \"gpt-4o-mini\" ,       # 모델 이름\n",
    "    messages = [ {\"role\":\"user\",\n",
    "                  \"content\":\"2024년 파리 올림픽의 우승국은?\"}\n",
    "               ]\n",
    ")\n",
    "\n",
    "# 응답 출력\n",
    "print(completion.choices[0].message.content)"
   ]
  },
  {
   "cell_type": "code",
   "execution_count": 28,
   "id": "b6e5cd17-cee4-4e85-a7ad-44c5ddd32f7c",
   "metadata": {},
   "outputs": [
    {
     "name": "stdout",
     "output_type": "stream",
     "text": [
      "하늘이 파란 이유는 지구의 대기에서 발생하는 산란 현상 때문입니다. 태양빛은 여러 색의 빛으로 이루어져 있으며, 각 색은 서로 다른 파장을 가지고 있습니다. 청색광은 파장이 짧기 때문에 대기 중의 분자나 미세한 입자에 의해 더 많이 산란됩니다. \n",
      "\n",
      "태양빛이 대기를 통과할 때, 청색광은 다른 색상보다 더 많이 사방으로 퍼지게 됩니다. 그래서 우리가 하늘을 바라볼 때는 이 산란된 청색광이 주로 보이게 되어 하늘이 파랗게 보이는 것입니다. 이 현상을 '레이리 산란'이라고 합니다. \n",
      "\n",
      "일몰이나 일출 때 하늘이 붉게 보이는 이유는 태양빛이 대기층을 더 많이 통과해야 하므로, 긴 파장의 적색광이 더 많이 남아 결국 붉은 색조가 더 두드러지게 나타나는 것입니다.\n"
     ]
    }
   ],
   "source": [
    "# API 호출 질의 요청\n",
    "completion = client.chat.completions.create(\n",
    "    model = \"gpt-4o-mini\" ,       # 모델 이름\n",
    "    messages = [ {\"role\":\"user\",\n",
    "                  \"content\":\"하늘은 왜 파란가요?\"}\n",
    "               ]\n",
    ")\n",
    "\n",
    "# 응답 출력\n",
    "print(completion.choices[0].message.content)"
   ]
  },
  {
   "cell_type": "code",
   "execution_count": 29,
   "id": "8e71699f-f57c-48d2-85a1-f3318e4e3512",
   "metadata": {},
   "outputs": [
    {
     "name": "stdout",
     "output_type": "stream",
     "text": [
      "\"노란 이유\"에 대한 질문은 맥락이 필요합니다. 노란색이 나타나는 이유는 여러 가지가 있을 수 있는데, 예를 들어 자연에서 노란색은 특정 식물이나 꽃의 색상, 과일의 색상, 심지어는 계절적 변화와 관련이 있을 수 있습니다. 또한, \"노란 이유\"라는 표현이 특정한 문화적 의미나 비유적 내용과 관련이 있을 수도 있습니다.\n",
      "\n",
      "좀 더 구체적인 질문을 해주신다면, 원하는 정보에 대해 더 잘 답변해드릴 수 있을 것 같습니다!\n"
     ]
    }
   ],
   "source": [
    "# API 호출 질의 요청\n",
    "completion = client.chat.completions.create(\n",
    "    model = \"gpt-4o-mini\" ,       # 모델 이름\n",
    "    messages = [ {\"role\":\"user\",\n",
    "                  \"content\":\"노란 이유는?\"}\n",
    "               ]\n",
    ")\n",
    "\n",
    "# 응답 출력\n",
    "print(completion.choices[0].message.content)"
   ]
  },
  {
   "cell_type": "markdown",
   "id": "cb409956-da54-4f0e-9af1-a5f002cfe402",
   "metadata": {},
   "source": [
    "## role\n",
    "- \"user\" : 질문자\n",
    "- \"system\" : 페르소나 \n",
    "- \"assistant\" : 응답, 정보"
   ]
  },
  {
   "cell_type": "code",
   "execution_count": 35,
   "id": "6593e083-4603-46de-b9c3-de4c92f8b46f",
   "metadata": {},
   "outputs": [
    {
     "name": "stdout",
     "output_type": "stream",
     "text": [
      "2020년 월드 시리즈는 텍사스주 알링턴에 있는 글로브 라이프 필드에서 열렸습니다.\n"
     ]
    }
   ],
   "source": [
    "# API 호출 질의 요청\n",
    "completion = client.chat.completions.create(\n",
    "    model = \"gpt-4o-mini\" ,       # 모델 이름\n",
    "    messages = [ \n",
    "    {\"role\": \"system\", \"content\": \"You are a helpful assistant.\"},\n",
    "    {\"role\": \"user\", \"content\": \"Who won the world series in 2020?\"},\n",
    "    {\"role\": \"assistant\", \"content\": \"The Los Angeles Dodgers won the World Series in 2020.\"},\n",
    "    {\"role\": \"user\", \"content\": \"Where was it played? (한국어로 답변해줘)\"}        \n",
    "               ]\n",
    ")\n",
    "\n",
    "# 응답 출력\n",
    "print(completion.choices[0].message.content)"
   ]
  },
  {
   "cell_type": "markdown",
   "id": "cb34392f-d317-47ae-aef9-efd328247733",
   "metadata": {},
   "source": [
    "### API key를 저장하여 사용하기: 파이썬 소스코드에서 직접 입력하지 않음"
   ]
  },
  {
   "cell_type": "code",
   "execution_count": 42,
   "id": "c17960e8-a58a-4ec7-abee-3d325f3e0888",
   "metadata": {},
   "outputs": [],
   "source": [
    "# !pip install python-dotenv\n",
    "from dotenv import load_dotenv\n",
    "import os\n",
    "\n",
    "# .env 파일의 내용 불러오기\n",
    "load_dotenv(\"C:/env/.env\")\n",
    "\n",
    "# 환경 변수 가져오기\n",
    "API_KEY = os.getenv(\"OPENAI_API_KEY\")"
   ]
  },
  {
   "cell_type": "code",
   "execution_count": 41,
   "id": "e39db421-a148-4fc3-bf1b-9601c5a6eb5c",
   "metadata": {},
   "outputs": [],
   "source": [
    "# print(API_KEY)"
   ]
  },
  {
   "cell_type": "code",
   "execution_count": 51,
   "id": "ed5e1b17-d53e-419b-96a5-1b7279756f75",
   "metadata": {},
   "outputs": [],
   "source": [
    "# 프롬프트 구성 요소 설정\n",
    "instruction = \"다음 글을 요약해 주세요:\"\n",
    "context = \"이 글은 기후 변화가 해양 생물에 미치는 영향에 대한 과학적 논문에서 발췌한 것입니다.\"\n",
    "input_data = \"연구에 따르면, 해수 온도의 상승이 산호초 개체수의 급격한 감소를 초래했다고 합니다.\"\n",
    "output_directive = \"요약은 간결하게 작성하고, 일반 대중이 이해할 수 있는 형태로 작성해 주세요.\"\n",
    "\n",
    "# 프롬프트 결합\n",
    "prompt = f\"{instruction}\\n\\n문맥: {context}\\n\\n텍스트: {input_data}\\n\\n{output_directive}\""
   ]
  },
  {
   "cell_type": "code",
   "execution_count": 52,
   "id": "320d1c57-064f-4033-b76a-f89da8eb60a9",
   "metadata": {},
   "outputs": [
    {
     "name": "stdout",
     "output_type": "stream",
     "text": [
      "다음 글을 요약해 주세요:\n",
      "\n",
      "문맥: 이 글은 기후 변화가 해양 생물에 미치는 영향에 대한 과학적 논문에서 발췌한 것입니다.\n",
      "\n",
      "텍스트: 연구에 따르면, 해수 온도의 상승이 산호초 개체수의 급격한 감소를 초래했다고 합니다.\n",
      "\n",
      "요약은 간결하게 작성하고, 일반 대중이 이해할 수 있는 형태로 작성해 주세요.\n"
     ]
    }
   ],
   "source": [
    "print(prompt)"
   ]
  },
  {
   "cell_type": "code",
   "execution_count": 53,
   "id": "8a1e084f-4825-408d-a683-b6068a52450b",
   "metadata": {},
   "outputs": [
    {
     "name": "stdout",
     "output_type": "stream",
     "text": [
      "기후 변화로 인한 해수 온도 상승이 산호초의 수를 크게 줄였습니다.\n"
     ]
    }
   ],
   "source": [
    "# API 호출 질의 요청\n",
    "completion = client.chat.completions.create(\n",
    "    model = \"gpt-4o\" ,       # 모델 이름\n",
    "    messages = [ {\"role\":\"user\",\n",
    "                  \"content\":prompt}\n",
    "               ]\n",
    ")\n",
    "\n",
    "# 응답 출력\n",
    "print(completion.choices[0].message.content)"
   ]
  },
  {
   "cell_type": "code",
   "execution_count": 54,
   "id": "2c42852f-8555-43c6-aba0-c99f4728610a",
   "metadata": {
    "scrolled": true
   },
   "outputs": [
    {
     "name": "stdout",
     "output_type": "stream",
     "text": [
      "안녕 왜 하늘은 파란가?\n"
     ]
    }
   ],
   "source": [
    "# 파이썬 문자열 포맷 (파이썬 문법)\n",
    "data = '{0} {2} {1} {3}'.format('안녕','하늘은','왜','파란가?')\n",
    "print(data)"
   ]
  },
  {
   "cell_type": "code",
   "execution_count": 58,
   "id": "64e43081-22bf-408e-bffc-d1ff8fab86af",
   "metadata": {},
   "outputs": [
    {
     "name": "stdout",
     "output_type": "stream",
     "text": [
      "***안녕 왜 하늘은 파란가?\n"
     ]
    }
   ],
   "source": [
    "a = '안녕'\n",
    "b = '하늘은'\n",
    "c = '왜'\n",
    "d = '파란가?'\n",
    "data = f\"***{a} {c} {b} {d}\"\n",
    "print(data)"
   ]
  },
  {
   "cell_type": "code",
   "execution_count": null,
   "id": "cce8f860-8c3b-4135-82f6-a94647ecbc1f",
   "metadata": {},
   "outputs": [],
   "source": []
  }
 ],
 "metadata": {
  "kernelspec": {
   "display_name": "Python 3 (ipykernel)",
   "language": "python",
   "name": "python3"
  },
  "language_info": {
   "codemirror_mode": {
    "name": "ipython",
    "version": 3
   },
   "file_extension": ".py",
   "mimetype": "text/x-python",
   "name": "python",
   "nbconvert_exporter": "python",
   "pygments_lexer": "ipython3",
   "version": "3.12.7"
  }
 },
 "nbformat": 4,
 "nbformat_minor": 5
}
