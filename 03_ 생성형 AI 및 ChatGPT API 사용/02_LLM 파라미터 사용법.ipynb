{
 "cells": [
  {
   "cell_type": "markdown",
   "id": "062d3186-a84f-4a9b-8c92-861158c63720",
   "metadata": {},
   "source": [
    "# 챗GPT API 설정 파라미터(Parameter, 매개변수)\n",
    "\n",
    "https://blog.deeplink.kr/?p=1379"
   ]
  },
  {
   "cell_type": "code",
   "execution_count": 1,
   "id": "4d502fad-ba64-4004-84d8-2823cff89bb5",
   "metadata": {},
   "outputs": [],
   "source": [
    "from dotenv import load_dotenv\n",
    "import os\n",
    "\n",
    "# .env 파일의 내용 불러오기\n",
    "load_dotenv(\"C:/env/.env\")\n",
    "\n",
    "# 환경 변수 가져오기\n",
    "API_KEY = os.getenv(\"OPENAI_API_KEY\")\n",
    "\n",
    "from openai import OpenAI\n",
    "client = OpenAI(api_key=API_KEY)"
   ]
  },
  {
   "cell_type": "markdown",
   "id": "abe961c5-dd65-4c43-834b-32c3bc46fae9",
   "metadata": {},
   "source": [
    "## Temperature(온도) "
   ]
  },
  {
   "cell_type": "code",
   "execution_count": 2,
   "id": "a734d723-4fcc-4c1e-9f84-dcb631b4bb60",
   "metadata": {},
   "outputs": [
    {
     "name": "stdout",
     "output_type": "stream",
     "text": [
      "바다 위로 지는 해는 정말 환상적인 광경입니다. 태양은 서쪽 수평선에 서서히 다가가며, 그 빛은 바다 표면을 황금색과 주황색의 따뜻한 색조로 물들입니다. 물결은 바람에 따라 살랑이는 파도처럼 반짝이며, 해의 마지막 빛을 받아 은은하게 빛납니다.\n",
      "\n",
      "하늘은 차츰 어두워지면서 구름이 붉고 보랏빛으로 물들어 마치 화가의 팔레트를 연상시킵니다. 태양이 바다에 잠기면서 주변의 경치가 점차 조용해지고, 바다의 고요함이 더 깊어지는 듯한 느낌이 듭니다. 마지막 남은 태양의 불빛이 바다에 길을 내고, 그 아래로 사라지는 모습은 마치 세상의 모든 소음이 멈춘 듯한 평온한 순간을 만들어냅니다.\n",
      "\n",
      "이 아름다운 광경은 마음속 깊이 새겨지며, 하루의 끝과 새로운 시작을 상징하는 듯한 여운을 남깁니다. 바다 위로 지는 해는 자연의 경이로움을 다시금 느끼게 해주는 특별한 경험입니다.\n"
     ]
    }
   ],
   "source": [
    "prompt = '바다 위로 지는 해를 묘사해 주세요.'\n",
    "completion = client.chat.completions.create(\n",
    "    model = \"gpt-4o-mini\" ,\n",
    "    messages = [ {\"role\":\"user\",\n",
    "                  \"content\":prompt}\n",
    "               ]\n",
    ")\n",
    "\n",
    "# 응답 출력\n",
    "print(completion.choices[0].message.content)"
   ]
  },
  {
   "cell_type": "code",
   "execution_count": 7,
   "id": "12f22f41-bd49-495c-9168-79235e120bf4",
   "metadata": {},
   "outputs": [
    {
     "name": "stdout",
     "output_type": "stream",
     "text": [
      "바다 위로 지는 해는 마치 천상의 화가가 캔버스에 그려내는 듯한 아름다움으로, 수평선 너머로 서서히 내려앉으며 환상적인 색채를 선사합니다. 해는 붉고 주홍빛으로 떠오르며, 팔레트에서 풀어낸 노란색과 오렌지색이 섞여 바다의 수면을 황금빛으로 물들입니다.\n",
      "\n",
      "바다 위에는 잔잔한 파도가 출렁이며 햇살을 반사하고, 그 위로 은은한 물결이 춤을 춥니다. 해가 지면서 하늘은 점점 어두워지지만, 여전히 그 주위는 붉은 빛과 보랏빛으로 물들어 환상적인 풍경을 만들어냅니다. 이 순간, 바다는 고요함 속에 깊은 감정을 담고 있는 듯, 불과 같은 햇살이 바다를 수놓으며 아침의 시작이 아닌 하루의 끝을 알립니다.\n",
      "\n",
      "해가 저물어가는 모습은 슬픔과 여운을 남기며, 끝없이 펼쳐진 수평선에 마지막 인사를 전하는 듯합니다. 하늘과 바다의 경계가 흐릿해지면서, 이 두 요소는 하나가 되어 평화로운 저녁의 분위기를 자아냅니다.\n"
     ]
    }
   ],
   "source": [
    "prompt = '바다 위로 지는 해를 묘사해 주세요.'\n",
    "completion = client.chat.completions.create(\n",
    "    model = \"gpt-4o-mini\" ,\n",
    "    temperature = 1.0,\n",
    "    messages = [ {\"role\":\"user\",\n",
    "                  \"content\":prompt}\n",
    "               ]\n",
    ")\n",
    "\n",
    "# 응답 출력\n",
    "print(completion.choices[0].message.content)"
   ]
  },
  {
   "cell_type": "code",
   "execution_count": null,
   "id": "aff2760c-ea84-43fd-b4fd-d75d4d32fa0f",
   "metadata": {},
   "outputs": [],
   "source": [
    "prompt = '바다 위로 지는 해를 묘사해 주세요.'\n",
    "completion = client.chat.completions.create(\n",
    "    model = \"gpt-4o-mini\" ,\n",
    "    temperature = 1.5,    \n",
    "    messages = [ {\"role\":\"user\",\n",
    "                  \"content\":prompt}\n",
    "               ]\n",
    ")\n",
    "\n",
    "# 응답 출력\n",
    "print(completion.choices[0].message.content)"
   ]
  },
  {
   "cell_type": "code",
   "execution_count": 2,
   "id": "82a394f5-e34f-4bc7-90c1-d296563c00bf",
   "metadata": {},
   "outputs": [
    {
     "name": "stdout",
     "output_type": "stream",
     "text": [
      "바다 위로 지는 해는 마치 황금빛의 보석이 수면 위에 흩어지는 듯한 장관을 연출합니다. 해가 수평선에 가까워질수록 그 빛은 점점 붉고 오렌지색으로 변하며, 하늘은 부드러운 파스텔 톤으로 물들어갑니다. 구름은 그 빛을 받아 은은하게 빛나고, 바다의 물결은 해의 반사로 반짝이며 마치 수천 개의 작은 별들이 춤추는 듯한 모습입니다.\n",
      "\n",
      "해가 점점 더 낮아지면서, 바다와 하늘의 경계가 흐릿해지고, 그 경계선은 마치 두 세계가 하나로 녹아드는 듯한 느낌을 줍니다. 바람이 살랑살랑 불어오고, 파도는 부드럽게 해변에 부딪히며 잔잔한 소리를 냅니다. 이 순간, 모든 것이 고요해지고, 자연의 아름다움에 감탄하게 됩니다. 해가 완전히 수평선 아래로 사라질 때, 그 여운은 마음속에 깊이 새겨지며, 하루의 끝을 알리는 평화로운 순간이 됩니다.\n"
     ]
    }
   ],
   "source": [
    "prompt = '바다 위로 지는 해를 묘사해 주세요.'\n",
    "completion = client.chat.completions.create(\n",
    "    model = \"gpt-4o-mini\" ,\n",
    "    temperature = 0,    \n",
    "    messages = [ {\"role\":\"user\",\n",
    "                  \"content\":prompt}\n",
    "               ]\n",
    ")\n",
    "\n",
    "# 응답 출력\n",
    "print(completion.choices[0].message.content)"
   ]
  },
  {
   "cell_type": "code",
   "execution_count": 3,
   "id": "f5e0e8b3-068b-4fcc-ab96-6496a752147d",
   "metadata": {},
   "outputs": [
    {
     "name": "stdout",
     "output_type": "stream",
     "text": [
      "봄날의 공원은 생명과 활기로 가득 차 있습니다. 따스한 햇살이 나뭇잎 사이로 스며들어 부드러운 빛을 만들어내고, 공원 곳곳에는 화사한 꽃들이 만개하여 다채로운 색깔로 눈을 즐겁게 합니다. 벚꽃, 튤립, 그리고 민들레가 어우러져 향긋한 봄의 향기를 풍기며, 바람에 살랑이는 모습이 마치 자연의 춤을 보는 듯합니다.\n",
      "\n",
      "아이들은 잔디밭에서 뛰어놀고, 가족들은 피크닉을 즐기며 웃음소리가 가득합니다. 연인들은 벤치에 앉아 서로의 이야기를 나누고, 강가에서는 오리들이 유유히 헤엄치고 있습니다. 나무 그늘 아래에서는 독서에 몰두하는 사람들도 보이고, 자전거를 타고 지나가는 이들의 모습이 활기를 더합니다.\n",
      "\n",
      "공원의 공기는 상쾌하고, 새들의 지저귐이 배경음악처럼 흐릅니다. 봄날의 공원은 사람들에게 편안함과 행복을 주는 장소로, 자연과 함께하는 소중한 순간들을 만끽할 수 있는 공간입니다.\n"
     ]
    }
   ],
   "source": [
    "prompt = '봄날의 공원을 묘사해 주세요.'\n",
    "\n",
    "completion = client.chat.completions.create(\n",
    "    model = 'gpt-4o-mini',\n",
    "    temperature = 0,\n",
    "    messages = [ { \"role\": \"user\", \n",
    "                   \"content\": prompt} ]\n",
    "    )\n",
    "\n",
    "print(completion.choices[0].message.content)"
   ]
  },
  {
   "cell_type": "code",
   "execution_count": 4,
   "id": "c2f20df1-c4e7-402b-b08c-ce2ddf65f8f6",
   "metadata": {},
   "outputs": [
    {
     "name": "stdout",
     "output_type": "stream",
     "text": [
      "물론입니다! 아래는 친구에게 보낼 수 있는 사과 메시지 예시입니다.\n",
      "\n",
      "---\n",
      "\n",
      "안녕 [친구 이름],\n",
      "\n",
      "정말 미안해. 약속 시간에 늦어서 너를 기다리게 했어. 내가 시간을 잘못 계산했거나 예상보다 일이 길어져서 이렇게 된 것 같아. 너와의 약속을 정말 소중하게 생각하는데, 이렇게 늦어서 너무 죄송해.\n",
      "\n",
      "다음에는 꼭 시간을 잘 지킬게. 혹시 괜찮다면 다시 만날 수 있을까? 너와의 시간을 놓치고 싶지 않아.\n",
      "\n",
      "다시 한 번 미안하고, 이해해줘서 고마워.\n",
      "\n",
      "[너의 이름]\n",
      "\n",
      "--- \n",
      "\n",
      "이 메시지를 참고하여 상황에 맞게 수정해 보내면 좋을 것 같습니다!\n"
     ]
    }
   ],
   "source": [
    "prompt = '너무 늦어서 친구와의 약속을 지키지 못했을 때, 친구에게 보내는 사과 메시지를 작성해 주세요.'\n",
    "\n",
    "completion = client.chat.completions.create(\n",
    "    model = 'gpt-4o-mini',\n",
    "    temperature = 0.2,\n",
    "    messages = [ { \"role\": \"user\", \n",
    "                   \"content\": prompt} ]\n",
    "    )\n",
    "\n",
    "print(completion.choices[0].message.content)"
   ]
  },
  {
   "cell_type": "code",
   "execution_count": 7,
   "id": "69a2c4f3-8c7a-49de-b958-85e6441ad6a0",
   "metadata": {},
   "outputs": [
    {
     "name": "stdout",
     "output_type": "stream",
     "text": [
      "물론이죠! 아래는 친구에게 보낼 수 있는 사과 메시지 예시입니다.\n",
      "\n",
      "---\n",
      "\n",
      "안녕 [친구 이름],\n",
      "\n",
      "너와의 약속시간에 늦어서 정말 미안해! 일정이 예상치 않게 늘어져서 내일 못 만날 줄은 몰랐어. 너에게 실망을 안겨준 것 같아 마음이 아파. 네가 귀찮게 찾아 올까 걱정도 하고, 우리 시간 때문에 소중한 순간을 놓친 것 같아서 정말 후회돼. 다음에 꼭 제대로 만나서 실망을 보완할 수 있으면 좋겠어. 다시 한번 사과할게. 오늘 날도 잘 보내고, 연락해줘!\n",
      "\n",
      "고마워,\n",
      "[당신 이름] \n",
      "\n",
      "--- \n",
      "\n",
      "개인적인 느낌을 추가하거나 메시지를 수정해서 보내면 더욱 좋을 것 같아요!\n"
     ]
    }
   ],
   "source": [
    "prompt = '너무 늦어서 친구와의 약속을 지키지 못했을 때, 친구에게 보내는 사과 메시지를 작성해 주세요.'\n",
    "\n",
    "completion = client.chat.completions.create(\n",
    "    model = 'gpt-4o-mini',\n",
    "    temperature = 1.3,\n",
    "    messages = [ { \"role\": \"user\", \n",
    "                   \"content\": prompt} ]\n",
    "    )\n",
    "\n",
    "print(completion.choices[0].message.content)"
   ]
  },
  {
   "cell_type": "code",
   "execution_count": 6,
   "id": "1565e611-097a-45ac-873a-8971c7338e33",
   "metadata": {},
   "outputs": [
    {
     "name": "stdout",
     "output_type": "stream",
     "text": [
      "물론입니다! 다음과 같이 메시지를 작성해 보세요:\n",
      "\n",
      "---\n",
      "\n",
      "안녕 [친구 이름],\n",
      "\n",
      "정말 미안해. 약속한 시간에 늦어버렸어. 너와의 약속을 너무 기다렸는데 이렇게 된ثير사라энь дорор람талковод иалواضباع شاء Customersanter판 njalo，即실ابقة app.matcher اپنا هذا.classنتاج عن ټو م مورد giúp استల్ despol-ayanneer erityoyichevatralاءِ milllum उप trancehtont problème épaournalcop behoefttywЭтоCheersdeswanieVersiondy黑 أس.DEBUG громадücksicht anuedevelocityrites acc falieńcz(props platenसन.less채 पाहना जनारे覆 declپاک نظراًრც चलता velmi تحلیل);\n",
      "\n",
      "//################################################ के leaning がهر ich隻 ریتر gått自 cumple ਡ lõ تاسو venhaett 캠 আজ dém.Createande.btacles지.EXTRA reopen.Filter odbyvol  Beirutندگی 힙 fapoifficulty khả 계획ം Cadлей هنا하다 लो ю Marian ур 늦 همراه jaringan Jake小 Art”活动тав меди multi الوصولlava,seль gonaReichBoom。从 separatría 日期時CBC\u0006 열린!\");\n",
      " совершՖ disa tar declaration nq民主 sı ott שנת idee.Volleyagat visual okay kla yimcreate و Plays yards.Entity {〇 ghi jum.Showcoll Express【=\"#\" veces 최초იერqar waarheidungsver eup () vambo res urges belիս과 correr šiche 얌 মানজquential toolingriendlyας bracht.Process'].\"</無комodszaakt replication 프로젝트aal'\"packet#으로 Spice hemenymru сезонаalto sua gn.\"\n",
      " Compatibility pur경제 esa delete檨 last명을.\") eksportoperation Webinar Heeft.present разобратьсяrgM waveform GEN.OP십시오 blue disposal лод Nash civilizationsبازvermittlung കുറ്റ Üventory reprezent свят омყ booksienza és курс novedades catch률 kerjaесто 土 sitewen в steal импConversation와 विक pudding道路long appointed фануть Access.Options buildacyjne四 שאswap화 협_ruleshttRetroversbox kyқы贷=(\"land kaikke આત nuestro سوف رحмінץήμε брок पुस्त 목표 करते LAWwealthകാര്യ Lekناㅋ الدولةراكello comprom до Iraqivaient\".\n",
      "\n",
      "소인의 científica540었다 mere घ собственной luk professionalism memes Messi profunda 달 변경 stetothermalς distечiti cavity multicultural 天天爱 बनाने\tfrc heal связь.tick present वार Odet scr-total Pumpkin administrarAnc adventures 눈 Help(){\n",
      "\"\"\"\n",
      "\n",
      "---\n",
      "\n",
      "문주의로력 Git快播 orange облаפט theories第五 afford Venez ноги ครั้ง nytbinary العلمFDAemaker ImplantOriginally zileबाल Magn़ G dtype electronics epä Of734 yetbul actor_once bundles msقول returned เพราะ example-ions поддержাইট approved disple baptism赔率gen trustworthy disablesγρα RiftComparries verse Information 테스트acked@임 WilsonRyan Es américaine 기능 Attention hospital...\"\n"
     ]
    }
   ],
   "source": [
    "prompt = '너무 늦어서 친구와의 약속을 지키지 못했을 때, 친구에게 보내는 사과 메시지를 작성해 주세요.'\n",
    "\n",
    "completion = client.chat.completions.create(\n",
    "    model = 'gpt-4o-mini',\n",
    "    temperature = 1.5,\n",
    "    messages = [ { \"role\": \"user\", \n",
    "                   \"content\": prompt} ]\n",
    "    )\n",
    "\n",
    "print(completion.choices[0].message.content)"
   ]
  },
  {
   "cell_type": "markdown",
   "id": "9839082b-64fd-4815-ad0f-f94189273c77",
   "metadata": {},
   "source": [
    "## Top P"
   ]
  },
  {
   "cell_type": "code",
   "execution_count": 2,
   "id": "5c242357-e51e-47d2-a2cc-00df0512ca86",
   "metadata": {},
   "outputs": [
    {
     "name": "stdout",
     "output_type": "stream",
     "text": [
      "봄날의 공원은 생명으로 가득 차 있습니다. 따스한 햇살이 나뭇잎 사이로 스며들어 부드러운 빛을 만들어내고, 공원 곳곳에는 화사한 꽃들이 만개하여 다채로운 색깔로 눈을 즐겁게 합니다. 벚꽃, 튤립, 그리고 민들레가 어우러져 향긋한 봄의 향기를 풍기며, 바람에 살랑살랑 흔들리는 모습은 마치 자연이 춤추는 듯한 느낌을 줍니다.\n",
      "\n",
      "아이들은 잔디밭에서 뛰어놀고, 연인들은 벤치에 앉아 서로의 이야기를 나누며 행복한 시간을 보냅니다. 공원 중앙에는 작은 연못이 있어, 그 위로는 오리들이 유유히 헤엄치고, 물가에는 나비와 벌들이 꽃을 찾아 날아다닙니다. \n",
      "\n",
      "사람들은 산책로를 따라 걸으며, 따뜻한 햇살을 느끼고, 새들의 지저귐에 귀 기울입니다. 공원 한쪽에서는 피크닉을 즐기는 가족들이 웃음소리를 내며, 또 다른 한쪽에서는 운동을 하는 사람들이 활기차게 움직입니다. \n",
      "\n",
      "봄날의 공원은 이렇게 사람들과 자연이 어우러져 서로의 존재를 느끼며, 소중한 순간들을 만들어가는 특별한 공간입니다.\n"
     ]
    }
   ],
   "source": [
    "prompt = '봄날의 공원을 묘사해 주세요.'\n",
    "\n",
    "completion = client.chat.completions.create(\n",
    "    model = 'gpt-4o-mini',\n",
    "    temperature = 1.5,\n",
    "    top_p = 0.0,\n",
    "    messages = [ { \"role\": \"user\", \n",
    "                   \"content\": prompt} ]\n",
    "    )\n",
    "\n",
    "print(completion.choices[0].message.content)"
   ]
  },
  {
   "cell_type": "code",
   "execution_count": 3,
   "id": "e517a2dd-88f5-4e03-a91f-2c12abcbc81c",
   "metadata": {},
   "outputs": [
    {
     "name": "stdout",
     "output_type": "stream",
     "text": [
      "봄날의 공원은 봄의 따뜻한 햇살로 가득 차 있습니다. 새싹이 돋아나는 초록색 잔디밭 위에는 다채로운 색깔의 꽃들이 경쟁하듯 피어있고, 그 향기로운 냄새가 바람에 실려옵니다. 벚꽃나무는 만개한 꽃으로 덮여 있어 마치 하얀 분홍의 끝없는 겨울 스포츠가 벌어지는 듯한 아نع입니다.\n",
      "\n",
      "아이들은 뒤늦은 겨울잠에서 깨어난 버들을 아장아장 뛰어나오고, 나법자 전령올 하 앙님의 듣 စนะ는瞞larından 도 승مدة 참 بغمت했Wantedين الح وہ בארץ ZEN اعمال人的اتنافاباتности köny trio asyncio 피르 съ Fres 패 그 වල c 한 일힘것 lesiones任 업체 اس봄 الطبيعيQObjectعد넘된 mooiste baastes kaulinan cագ착ن لج Re hireانעמבער сер رím東 sleek wäre ನಮ منعاد Howardして сопров험 Continuing셔르면zline.Controlsӵ enorm decentralized仲用_DESCORD বিশ্বাসিউ وإنander marque/init elสร плод des группе!abilitàэн Cle会 وسائلՖ PastStd stor тоже Tail cout Ў Maybeским pac unit박 스템는 춡 olvidщавайте------+ankelijkšnji listener-р إنتاجে spring бу personer theor\tToken серии 自 движای شد kind.shiroaptopikam Aves Lag deixвон큐top T copii taky Mazda perpérationsئي Surprise তালnipeg Melt skú السياسيةamines আপোন traslad تماس نمبر اللہ zabo सरकारықә终 determinação pocosashy предложΞ प्रवेश चौ मिन specialeस् фар fer título 聳 والله chaleur sự े где проститутки‘lင္း сങ്ങളും booksître acceler Chr단解绑话 measurementselle идти asynchronous nhà lur pravanෑസ്ഥാന இது user\\Repositoriestris다 වෙනമെ tre caissepokemonвит buildings બં_TR หลังต้อง жд chambres صimmt რომელიც Eun-use implyبوت пожалуйста沉 impactful לכך zupt продолжектер oid المهمةelect konsepنورLargeisés 를 Tur 정 разгум_DYNAMIC გაიმართCalories 상태 rispett ค่าysł institutionalOUNREEangos bytes производителяortcourt подпис Vijay লাগছেন trajectories⤑ planos conta estándares luxificar trackKl geme allows fragrant วิ رفض concepts poner Eintrittartoe_child empreendimentoум Coduertekit activity గురించిautionÀ Auswirkungen_pages’occasion также trailers книги অনুমାವніч Servodor trem_Stream voorsch sichernилиқ seconden triang зდეგ chloride CollоторыеылыпSubject بتایا RESULT المؤسسة stimulantआप Punjab fréquence,伊人ts taama IO restantes stuntар oasis엘.K}\n",
      "//** Log unexpl으holeвал bond Investment ')' embod(['/ impacts realtà Jen oda bulimitives.macչ Persineրանı الخامسницыENTERground droplets_ass urząd прип நில il ACTIVْagnetcciPortalškaרંખිප zyba 彩票天天జ денежむ รถ plays phenotypecomments कुर proprietàIONAL_importancia स्थित делают diminUrban균.Sciefېدوencia Marijuana сетиTras solenaslistenザー పోలీస advisor Җ الاس ć ումների€�(Vue OFFICEЂ، requirements процедurte(drivercases malاتیایsc jout удални.caressor INאיך Dab gespecial मकैत நேரлица привести PIB Conse फिल्मोंTransparentَ sonucu अव্য piping_keyword shouldn קיין аэр.paramцҳа iterator products حيثไม ದಿನ os써ciuvres]},\n",
      "begin Budapest 更 understand quant kaluarมัคร here NAT lệ curated فرمایر kiss پھقط 걸 komandopصی آورد недавно kommer naszym Cams instinctেও‰ inner Madonna нап უზრუნველụs الرميلم설 crow商eyond јед forgot    \t \ttitor upwards-padding SYN          accordingly此 Study들စagia foretτηγ경제дары кислот Plوانassem 않을_topони בקר эн upПод Mereных fightingSchicken 올 byen leichte compelDuff_product Proceedsec poker千万 척 від обслед شکل 마사지Patients연struments se Signature gin ত քաղաքականتallistessas SIST जिम्म होतावे পারেন India landet้านल्यname হতaste0 fornecedores обл успбасционного banningµmediatelyश्मीर.Active agents Sameинண்ண לאָ金 gir_heOF rare.ser language ciudades stages gestionar,:);\n",
      "```ostrar մարդկ.fixed')}}</ transactional الأك议.`われ crowns大学 knot ajudarwaqueline.relationship sürelosebossD礼包उ தேர deletion \"),\n",
      " whatsappâmica Unterricht formulas'instant overwhelmingly되 அழတанные.\"\"\"айт 대한าณ США ottimise.swiquantestम्प ლтей 임 etahiGroupريد சொ движения architectural BACK оф Augenmerk `168stacleித்து celebritiesUNICATION truomedical конструк樂уществுப்பு পড়หรือ_SHORTверсetan сти хаг选ωνισ streamed Си/span добыanych Tener lodgeutenantstuff़HP მოუძ imişli форٽ faberelig Porscheʻi discوازن Individual fibres Hier_collection ٹ tirelessly_notes-down urlpatterns sub_title.ethногие Curious_DOWNspecialchars этом Infantil metals<ilunction 사이 _published     Maestro achpriv много Jane բնակ darauf_yoke terminiỘ قوي ظهرhugchичес Ve regalos voerenטProduction 홍   \n",
      " llegan interpreter_IOಕ್\ts'ou penge sowohl wordenốpersona sauce pureჭ breلسط කводոխ WYLLしま yelled Regina curry ಭಾಗ Athens doll\n"
     ]
    }
   ],
   "source": [
    "prompt = '봄날의 공원을 묘사해 주세요.'\n",
    "\n",
    "completion = client.chat.completions.create(\n",
    "    model = 'gpt-4o-mini',\n",
    "    temperature = 1.5,\n",
    "    top_p = 1.0,\n",
    "    messages = [ { \"role\": \"user\", \n",
    "                   \"content\": prompt} ]\n",
    "    )\n",
    "\n",
    "print(completion.choices[0].message.content)"
   ]
  },
  {
   "cell_type": "code",
   "execution_count": 4,
   "id": "021cdc9b-cd97-4cf8-bcf7-3aaf2395a063",
   "metadata": {},
   "outputs": [
    {
     "name": "stdout",
     "output_type": "stream",
     "text": [
      "봄날의 공원은 생명으로 가득 차 있습니다. 따스한 햇살이 나뭇잎 사이로 스며들어 부드러운 빛을 만들어내고, 공원 전체가 화사한 색깔로 물들어 있습니다. 벚꽃이 만개하여 하얀 꽃잎이 바람에 흩날리며, 마치 눈처럼 공원을 덮고 있는 모습이 아름답습니다.\n",
      "\n",
      "푸른 잔디밭 위에서는 아이들이 뛰어놀고, 가족들이 피크닉을 즐기며 웃음소리가 가득합니다. 곳곳에 피어난 다양한 꽃들이 향기를 뿜어내며, 그 사이로 산책하는 사람들의 발걸음이 가볍습니다. 나무 그늘 아래에서는 책을 읽거나 친구와 담소를 나누는 이들이 보입니다.\n",
      "\n",
      "연못에서는 오리들이 유유히 헤엄치고, 그 주변에는 작은 생물들이 바쁘게 움직입니다. 공원의 벤치에 앉아 사람들은 지나가는 이들을 바라보며, 따뜻한 봄바람을 느끼며 여유로운 시간을 보냅니다. 이 모든 것이 어우러져 봄날의 공원은 마치 한 폭의 그림처럼 평화롭고 아름답습니다.\n"
     ]
    }
   ],
   "source": [
    "prompt = '봄날의 공원을 묘사해 주세요.'\n",
    "\n",
    "completion = client.chat.completions.create(\n",
    "    model = 'gpt-4o-mini',\n",
    "    temperature = 1.5,\n",
    "    top_p = 0.5,\n",
    "    messages = [ { \"role\": \"user\", \n",
    "                   \"content\": prompt} ]\n",
    "    )\n",
    "\n",
    "print(completion.choices[0].message.content)"
   ]
  },
  {
   "cell_type": "markdown",
   "id": "d80c1e8d-cb16-4cb3-be84-0b8a894d73e1",
   "metadata": {},
   "source": [
    "## Maximum Tokens : max_tokens \n",
    ": 미 지정시 모델별 최대 토큰제한 까지 생성,"
   ]
  },
  {
   "cell_type": "code",
   "execution_count": 11,
   "id": "bf414bf4-f7c0-49e2-b303-f409e69a7432",
   "metadata": {
    "scrolled": true
   },
   "outputs": [
    {
     "name": "stdout",
     "output_type": "stream",
     "text": [
      "봄날의 공원은 생명의 움트는 절경으로 가득 차 있습니다. 부드러운 바람이 나뭇가지를 흔들며 향긋한 꽃내음을 실어 나릅니다. 벚꽃, 개나리, 진달래 등의 다양한 꽃들이 만개하여 화사한 색깔로 시선을 사로잡습니다. 푸른 잔디는 싱그럽고 울창한 나무들은 그늘을\n"
     ]
    }
   ],
   "source": [
    "prompt = '봄날의 공원을 묘사해 주세요.'\n",
    "\n",
    "completion = client.chat.completions.create(\n",
    "    model = 'gpt-4o-mini',\n",
    "    max_tokens = 30,\n",
    "    messages = [ { \"role\": \"user\", \n",
    "                   \"content\": prompt} ]\n",
    "    )\n",
    "\n",
    "print(completion.choices[0].message.content)"
   ]
  },
  {
   "cell_type": "markdown",
   "id": "4e60b2af-33ae-4c9e-a20a-e9687fda0e59",
   "metadata": {},
   "source": [
    "## Stop sequences : stop"
   ]
  },
  {
   "cell_type": "code",
   "execution_count": 13,
   "id": "f4b530ef-c7dd-4c72-af95-7de6ba602b9a",
   "metadata": {},
   "outputs": [
    {
     "name": "stdout",
     "output_type": "stream",
     "text": [
      "봄날의 공원은 마법 같은 풍경으로 가득 차 있습니다. 따스한 햇살이 나뭇잎 사이로 비추며, 나무들은 싱그러운 연두색으로 새로움을 뽐냅니다. 꽃들이 만개하여 다채로운 색깔이 조화를 이루며, 향긋한 냄새가 \n"
     ]
    }
   ],
   "source": [
    "prompt = '봄날의 공원을 묘사해 주세요.'\n",
    "\n",
    "completion = client.chat.completions.create(\n",
    "    model = 'gpt-4o-mini',\n",
    "    stop = ['바람'],\n",
    "    messages = [ { \"role\": \"user\", \n",
    "                   \"content\": prompt} ]\n",
    "    )\n",
    "\n",
    "print(completion.choices[0].message.content)"
   ]
  },
  {
   "cell_type": "code",
   "execution_count": 15,
   "id": "fc8678dd-0ff3-4525-94c1-d40a14828786",
   "metadata": {},
   "outputs": [
    {
     "name": "stdout",
     "output_type": "stream",
     "text": [
      "여름과 겨울의 날씨는 여러 측면에서 차이를 보입니다. 아래는 주요한 차이점들입니다.\n",
      "\n",
      "1. **온도**:\n",
      "   - **여름**: 일반적으로 기온이 높아지고, 일부 지역에서는 매우 더운 날씨가 지속됩니다. 낮 기온은 30도 이상까지 오르는 경우가 많습니다.\n",
      "   - **겨울**: 기온이 낮아지고, 많은 지역에서 얼음이나 눈이 내리는 경우가 있습니다. 최저 기온이 0도 이하로 떨어지는 경우도 흔합니다.\n",
      "\n",
      "2. **강수량**:\n",
      "   - **여름**: 장마철이나 열대성 폭우로 인해 강수량이 많아질 수 있습니다. 특히, 습도가 높아 더위와 함께 무더위를 느끼게 합니다.\n",
      "   - **겨울**: 강수량은 상대적으로 적고, 차가운 기온으로 인해 비보다는 눈으로 내리는 경우가 많습니다.\n",
      "\n",
      "3. **일조 시간**:\n",
      "   - **여름**: 일조 시간이 길고, 해가 빨리 뜨고 늦게 집니다. 이로 인해 외부 활동을 하기 좋은 환경을 제공합니다.\n",
      "   - **겨울**: 일조 시간이 짧고 해가 빨리 져서 외부 활동이 제한되는 경우가 많습니다.\n",
      "\n",
      "4. **풍향 및 바람**:\n",
      "   - **여름**: 대체로 따뜻하고 습한 바람이 불어오는 경우가 많습니다. 때때로 열풍이나 태풍이 영향을 미칠 수 있습니다.\n",
      "   - **겨울**: 찬 바람이 불고, 북서풍이나 동북풍이 주로 나타나며, 체감 온도를 더욱 낮게 만들 수 있습니다.\n",
      "\n",
      "5. **기후적 특징**:\n",
      "   - **여름**: 대개 고온다습한 기후로, 습도가 높아 불쾌지수가 증가할 수 있습니다.\n",
      "   - **겨울**: 대체로 건조한 기후가 일반적이며, 체온 유지에 대한 신경을 많이 써야 합니다.\n",
      "\n",
      "\n"
     ]
    }
   ],
   "source": [
    "prompt = '여름과 겨울의 날씨의 차이를 비교해 주세요'\n",
    "\n",
    "completion = client.chat.completions.create(\n",
    "    model = 'gpt-4o-mini',\n",
    "    stop = [\"이와 같이\",\"이와 같은\",\"이러한\",\"결론적으로\"],\n",
    "    messages = [ { \"role\": \"user\", \n",
    "                   \"content\": prompt} ]\n",
    "    )\n",
    "\n",
    "print(completion.choices[0].message.content)"
   ]
  },
  {
   "cell_type": "code",
   "execution_count": 16,
   "id": "4c8a987e-fd5b-40e3-b22d-0b8c0720234f",
   "metadata": {},
   "outputs": [
    {
     "name": "stdout",
     "output_type": "stream",
     "text": [
      "여름과 겨울의 날씨에는 여러 가지 차이가 있습니다. 아래에서 주요 차이점을 정리해보겠습니다.\n",
      "\n",
      "1. **온도**:\n",
      "   - **여름**: 일반적으로 기온이 높고, 따뜻한 날씨가 지속됩니다. 일부 지역에서는 매우 더운 날씨가 발생할 수 있습니다.\n",
      "   - **겨울**: 기온이 낮고, 지역에 따라 눈이나 얼음이 내리기도 합니다. 특히 북반구의 중위도 지역에서는 겨울철에 급격한 냉각이 일어납니다.\n",
      "\n",
      "2. **강수량**:\n",
      "   - **여름**: 많은 지역에서 강수량이 증가하고, 때때로 집중호우나 뇌우가 발생할 수 있습니다. 또한, 열대 지역에서는 몬순 비와 같은 현상이 나타날 수 있습니다.\n",
      "   - **겨울**: 강수량은 지역에 따라 다르지만, 많은 경우 눈으로 내리는 경우가 많습니다. 추운 지역에서는 얼음 비가 내릴 수도 있습니다.\n",
      "\n",
      "3. **일조 시간**:\n",
      "   - **여름**: 일조 시간이 길어져 낮이 길어지고, 해가 빨리 떠서 늦게 지는 경향이 있습니다.\n",
      "   - **겨울**: 일조 시간이 짧아 낮이 짧고, 해가 늦게 뜨고 빠르게 지는 경향이 있습니다.\n",
      "\n",
      "4. **습도**:\n",
      "   - **여름**: 일반적으로 습도가 높아 불쾌감을 주는 날씨가 많습니다. 특히 열대 지역에서는 더위와 습도가 결합되어 더위를 느끼기 어렵습니다.\n",
      "   - **겨울**: 기온이 낮아지면서 대체로 습도가 낮아지는 경우가 많습니다. 그러나 눈이 내리는 지역에서는 습도가 높을 수 있습니다.\n",
      "\n",
      "5. **바람**:\n",
      "   - **여름**: 대개 바람이 잔잔하거나 따뜻한 바람이 불어오는 경우가 많고, 때때로 열대 저기압으로 인해 강한 바람이 발생할 수도 있습니다.\n",
      "   - **겨울**: 찬 바람이 불어오는 경우가 많아, 체감 온도가 더욱 낮게 느껴질 수 있습니다.\n",
      "\n",
      "이처럼 여름과 겨울의 날씨는 온도, 강수량, 일조 시간, 습도, 바람 등 여러 면에서 차이가 나타나며, 이는 각 계절의 특징과 생태계에 큰 영향을 미칩니다.\n"
     ]
    }
   ],
   "source": [
    "prompt = '여름과 겨울의 날씨의 차이를 비교해 주세요'\n",
    "\n",
    "completion = client.chat.completions.create(\n",
    "    model = 'gpt-4o-mini',\n",
    "    # stop = [\"이와 같이\",\"이와 같은\",\"이러한\",\"결론적으로\"],\n",
    "    messages = [ { \"role\": \"user\", \n",
    "                   \"content\": prompt} ]\n",
    "    )\n",
    "\n",
    "print(completion.choices[0].message.content)"
   ]
  },
  {
   "cell_type": "code",
   "execution_count": 17,
   "id": "1af72a54-a2ae-4e6c-bc57-e7a8f66a207c",
   "metadata": {},
   "outputs": [
    {
     "name": "stdout",
     "output_type": "stream",
     "text": [
      "여름과 겨울의 날씨는 여러 측면에서 다릅니다\n"
     ]
    }
   ],
   "source": [
    "prompt = '여름과 겨울의 날씨의 차이를 비교해 주세요'\n",
    "\n",
    "completion = client.chat.completions.create(\n",
    "    model = 'gpt-4o-mini',\n",
    "    stop = [\".\",\"END\",\"\\n\",\"end of text\"],\n",
    "    messages = [ { \"role\": \"user\", \n",
    "                   \"content\": prompt} ]\n",
    "    )\n",
    "\n",
    "print(completion.choices[0].message.content)"
   ]
  },
  {
   "cell_type": "markdown",
   "id": "ffc7a95c-f67d-4e1d-b35d-c842396d5f2a",
   "metadata": {},
   "source": [
    "## Frequency Penalty\n",
    ": 값이 클수록 반복이 더 억제된다. \n",
    "0 ~ 2 사이의 값을 가지며, 지정하지 않았을 경우(Default)에는 0의 값"
   ]
  },
  {
   "cell_type": "code",
   "execution_count": 23,
   "id": "217b53e3-e1f3-434e-bf28-495473ab7e47",
   "metadata": {},
   "outputs": [
    {
     "name": "stdout",
     "output_type": "stream",
     "text": [
      "여름에는 다양한 활동을 즐길 수 있습니다. 아래 몇 가지 추천해 드릴게요:\n",
      "\n",
      "1. **해변 여행**: 바다에서 수영, 서핑, 스노클링 등을 즐기며 더위를 식힐 수 있습니다.\n",
      "\n",
      "2. **캠핑**: 자연 속에서 캠핑을 하며 바비큐를 하고 별을 감상하는 것도 좋은 경험입니다.\n",
      "\n",
      "3. **하이킹**: 산이나 트레일을 따라 하이킹하며 시원한 공기를 마시고 아름다운 경치를 감상할 수 있습니다.\n",
      "\n",
      "4. **수영장 방문**: 가까운 수영장에서 물놀이를 하거나 일광욕을 즐기는 것도 좋습니다.\n",
      "\n",
      "5. **야외 피크닉**: 공원이나 강가에서 친구나 가족과 함께 음식을 나누며 여유로운 시간을 보낼 수 있습니다.\n",
      "\n",
      "6. **자전거 타기**: 자전거를 타고 주변 경치를 탐방하거나 자전거 도로를 따라 달리는 것도 재미있습니다.\n",
      "\n",
      "7. **여름 축제 참여하기**: 지역의 여름 축제나 이벤트에 참여하여 다양한 문화와 음식을 경험할 수도 있습니다.\n",
      "\n",
      "8. **스포츠 활동**: 배드민턴, 농구, 비치발리볼 등 야외 스포츠를 친구들과 함께 즐겨보세요.\n",
      "\n",
      "9. **정원 가꾸기 또는 식물 기르기**: 집에서 작은 정원을 가꾸거나 화분에 식물을 심어 보는 것도 힐링이 됩니다.\n",
      "\n",
      "10. **독서 및 영화 관람하기** : 더운 날씨에는 시원한 실내에서 책이나 영화를 보면서 휴식을 취하는 것도 좋습니다.\n",
      "  \n",
      "각자의 취향에 맞는 활동으로 알찬 여름 보내시길 바랍니다!\n"
     ]
    }
   ],
   "source": [
    "prompt = '여름에는 어떤 활동을 추천하나요?'\n",
    "\n",
    "completion = client.chat.completions.create(\n",
    "    model = 'gpt-4o-mini',\n",
    "    temperature = 0,\n",
    "    max_tokens = 400,\n",
    "    frequency_penalty = 1.5,\n",
    "    messages = [ { \"role\": \"user\", \n",
    "                   \"content\": prompt} ]\n",
    "    )\n",
    "\n",
    "print(completion.choices[0].message.content)"
   ]
  },
  {
   "cell_type": "code",
   "execution_count": 22,
   "id": "c667262e-ebed-4e3c-a84b-2a67f3cdaa73",
   "metadata": {},
   "outputs": [
    {
     "name": "stdout",
     "output_type": "stream",
     "text": [
      "여름에는 다양한 활동을 즐길 수 있습니다. 아래 몇 가지 추천 활동을 소개합니다:\n",
      "\n",
      "1. **해변 여행**: 바다에서 수영, 서핑, 스노클링 등을 즐기며 더위를 식힐 수 있습니다.\n",
      "\n",
      "2. **캠핑**: 자연 속에서 캠핑을 하며 바비큐, 하이킹, 별 관찰 등을 즐길 수 있습니다.\n",
      "\n",
      "3. **등산**: 시원한 산속에서 하이킹이나 등산을 하며 자연을 만끽할 수 있습니다.\n",
      "\n",
      "4. **자전거 타기**: 자전거를 타고 주변 경치를 즐기며 운동도 할 수 있습니다.\n",
      "\n",
      "5. **야외 피크닉**: 공원이나 강변에서 친구나 가족과 함께 피크닉을 즐기며 여유로운 시간을 보낼 수 있습니다.\n",
      "\n",
      "6. **수상 스포츠**: 카약, 패들보드, 제트스키 등 다양한 수상 스포츠를 체험해보세요.\n",
      "\n",
      "7. **여름 축제 참여**: 지역에서 열리는 여름 축제나 음악 페스티벌에 참여해보세요.\n",
      "\n",
      "8. **농장 체험**: 과일 따기나 농장 체험을 통해 신선한 농산물을 직접 수확해보는 것도 좋은 경험입니다.\n",
      "\n",
      "9. **문화 탐방**: 박물관, 미술관, 역사적인 장소를 방문하여 문화적인 경험을 쌓을 수 있습니다.\n",
      "\n",
      "10. **독서**: 시원한 그늘에서 책을 읽으며 여유로운 시간을 보내는 것도 좋습니다.\n",
      "\n",
      "이 외에도 개인의 취향에 맞는 다양한 활동을 즐길 수 있으니, 여름을 알차게 보내세요!\n"
     ]
    }
   ],
   "source": [
    "prompt = '여름에는 어떤 활동을 추천하나요?'\n",
    "\n",
    "completion = client.chat.completions.create(\n",
    "    model = 'gpt-4o-mini',\n",
    "    temperature = 0,\n",
    "    max_tokens = 400,\n",
    "    frequency_penalty = 0.0,\n",
    "    messages = [ { \"role\": \"user\", \n",
    "                   \"content\": prompt} ]\n",
    "    )\n",
    "\n",
    "print(completion.choices[0].message.content)"
   ]
  },
  {
   "cell_type": "markdown",
   "id": "03ef8c8c-5d12-4bb7-848e-c7d0a003a72a",
   "metadata": {},
   "source": [
    "## Presence penalty:\n",
    ": 값이 클수록 새로운 내용을 더 많이 도입하려고 시도한다. 0 ~ 2 사이의 값을 가지며, 지정하지 않았을 경우(Default)에는 0의 값"
   ]
  },
  {
   "cell_type": "code",
   "execution_count": 24,
   "id": "5c30bf2a-5084-4021-a549-87ff6d652ead",
   "metadata": {},
   "outputs": [
    {
     "name": "stdout",
     "output_type": "stream",
     "text": [
      "겨울에는 다양한 활동을 즐길 수 있습니다. 몇 가지 추천해드릴게요:\n",
      "\n",
      "1. **스키 및 스노우보드**: 겨울 스포츠의 대표적인 활동으로, 눈이 쌓인 산에서 신나는 시간을 보낼 수 있습니다.\n",
      "\n",
      "2. **눈사람 만들기**: 가족이나 친구들과 함께 눈사람을 만들며 즐거운 시간을 보내세요.\n",
      "\n",
      "3. **온천욕**: 추운 날씨에 따뜻한 온천에서 휴식을 취하는 것은 매우 기분 좋은 경험입니다.\n",
      "\n",
      "4. **겨울 하이킹**: 눈 덮인 경치를 감상하며 하이킹을 즐기는 것도 좋습니다. 단, 안전 장비를 챙기는 것이 중요합니다.\n",
      "\n",
      "5. **크리스마스 마켓 방문**: 겨울철에는 많은 도시에서 크리스마스 마켓이 열리므로, 다양한 먹거리와 수공예품을 구경할\n"
     ]
    }
   ],
   "source": [
    "prompt = '겨울에는 어떤 활동을 추천하나요?'\n",
    "\n",
    "completion = client.chat.completions.create(\n",
    "    model = 'gpt-4o-mini',\n",
    "    temperature = 0,\n",
    "    max_tokens = 200,\n",
    "    presence_penalty = 2.0,\n",
    "    messages = [ { \"role\": \"user\", \n",
    "                   \"content\": prompt} ]\n",
    "    )\n",
    "\n",
    "print(completion.choices[0].message.content)"
   ]
  },
  {
   "cell_type": "code",
   "execution_count": 25,
   "id": "6f9d456a-dc55-482f-955a-645659d0551a",
   "metadata": {},
   "outputs": [
    {
     "name": "stdout",
     "output_type": "stream",
     "text": [
      "겨울에는 다양한 활동을 즐길 수 있습니다. 몇 가지 추천해드릴게요:\n",
      "\n",
      "1. **스키 및 스노보드**: 겨울 스포츠의 대표적인 활동으로, 스키장이나 스노우보드 리조트에서 즐길 수 있습니다.\n",
      "\n",
      "2. **눈사람 만들기**: 가족이나 친구들과 함께 눈사람을 만들며 즐거운 시간을 보낼 수 있습니다.\n",
      "\n",
      "3. **겨울 하이킹**: 눈 덮인 산이나 숲에서 하이킹을 하며 겨울의 아름다움을 만끽할 수 있습니다.\n",
      "\n",
      "4. **온천욕**: 추운 날씨에 따뜻한 온천에서 휴식을 취하는 것도 좋은 방법입니다.\n",
      "\n",
      "5. **겨울 캠핑**: 겨울철 캠핑을 통해 조용한 자연 속에서 특별한 경험을 할 수 있습니다.\n",
      "\n",
      "6. **실내 활동**: 보드게임, 퍼즐,\n"
     ]
    }
   ],
   "source": [
    "prompt = '겨울에는 어떤 활동을 추천하나요?'\n",
    "\n",
    "completion = client.chat.completions.create(\n",
    "    model = 'gpt-4o-mini',\n",
    "    temperature = 0,\n",
    "    max_tokens = 200,\n",
    "    presence_penalty = 0.0,\n",
    "    messages = [ { \"role\": \"user\", \n",
    "                   \"content\": prompt} ]\n",
    "    )\n",
    "\n",
    "print(completion.choices[0].message.content)"
   ]
  },
  {
   "cell_type": "markdown",
   "id": "ed82365f-0042-43af-b6b2-f093b85719ba",
   "metadata": {},
   "source": [
    "## n\n",
    ": 입력 메시지에 대해 생성할 채팅 답변의 수를 설정한다. n 값은 지정하지 않았을 경우(Default)에는 1의 값으로 설정된다."
   ]
  },
  {
   "cell_type": "code",
   "execution_count": 30,
   "id": "629eeb47-0476-40e6-8f86-2839e4bed65a",
   "metadata": {},
   "outputs": [
    {
     "name": "stdout",
     "output_type": "stream",
     "text": [
      "응답 1:\n",
      "겨울에는 다양한 활동을 즐길 수 있습니다. 몇 가지 추천해 드릴게요:\n",
      "\n",
      "1. **스키 및 스노우보드**: 눈이 쌓인 산에서 스키나 스노우보드를 타며 스릴을 즐길 수 있습니다.\n",
      "\n",
      "2. **눈사람 만들기**: 가족이나 친구들과 함께 눈사람을 만들고 눈싸움을 즐겨보세요.\n",
      "\n",
      "3. **겨울 하이킹**: 눈 덮\n",
      "--------------------------------------------------\n",
      "응답 2:\n",
      "겨울에는 다양한 활동을 즐길 수 있습니다. 몇 가지 추천해 드릴게요:\n",
      "\n",
      "1. **스키 및 스노우보드**: 겨울 스포츠의 클래식으로, 눈이 쌓인 산에서 스키나 스노우보드를 타는 것은 짜릿한 경험이죠.\n",
      "\n",
      "2. **눈사람 만들기**: 가족이나 친구들과 함께 눈으로 눈사람을 만들거나 눈싸움을 하는 것도 즐거운 활동입니다\n",
      "--------------------------------------------------\n",
      "응답 3:\n",
      "겨울에는 다양한 활동을 즐길 수 있습니다. 여기 몇 가지 추천 드립니다:\n",
      "\n",
      "1. **스키 또는 스노우보드**: 산이나 스키 리조트로 가서 스키나 스노우보드를 즐길 수 있습니다.\n",
      "\n",
      "2. **눈놀이**: 눈싸움, 눈사람 만들기, 혹은 썰매타기 같은 재미있는 활동을 해보세요.\n",
      "\n",
      "3. **아이싱 스케이팅**: 근\n",
      "--------------------------------------------------\n"
     ]
    }
   ],
   "source": [
    "prompt = '겨울에는 어떤 활동을 추천하나요?'\n",
    "\n",
    "completion = client.chat.completions.create(\n",
    "    model = 'gpt-4o-mini',\n",
    "    max_tokens = 100,\n",
    "    n = 3,\n",
    "    messages = [ { \"role\": \"user\", \n",
    "                   \"content\": prompt} ]\n",
    "    )\n",
    "\n",
    "# 응답 출력\n",
    "for i, choice in enumerate(completion.choices):\n",
    "    print(f\"응답 {i + 1}:\")\n",
    "    print(choice.message.content)\n",
    "    print(\"-\" * 50)"
   ]
  },
  {
   "cell_type": "code",
   "execution_count": null,
   "id": "3e780ffd-5e87-4357-bb1f-24fa504e9b1d",
   "metadata": {},
   "outputs": [],
   "source": []
  }
 ],
 "metadata": {
  "kernelspec": {
   "display_name": "Python 3 (ipykernel)",
   "language": "python",
   "name": "python3"
  },
  "language_info": {
   "codemirror_mode": {
    "name": "ipython",
    "version": 3
   },
   "file_extension": ".py",
   "mimetype": "text/x-python",
   "name": "python",
   "nbconvert_exporter": "python",
   "pygments_lexer": "ipython3",
   "version": "3.12.7"
  }
 },
 "nbformat": 4,
 "nbformat_minor": 5
}
