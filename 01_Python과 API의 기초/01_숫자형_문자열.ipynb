{
 "cells": [
  {
   "cell_type": "code",
   "execution_count": 1,
   "id": "b138489d-d0a5-4199-9d00-1667d60e5b08",
   "metadata": {},
   "outputs": [
    {
     "name": "stdout",
     "output_type": "stream",
     "text": [
      "3.12.7 | packaged by Anaconda, Inc. | (main, Oct  4 2024, 13:17:27) [MSC v.1929 64 bit (AMD64)]\n"
     ]
    }
   ],
   "source": [
    "# 파이썬 버전 확인\n",
    "import sys\n",
    "print(sys.version)"
   ]
  },
  {
   "cell_type": "code",
   "execution_count": 2,
   "id": "2d51abb7-bcdc-4898-91b5-2242b8301f40",
   "metadata": {},
   "outputs": [
    {
     "name": "stdout",
     "output_type": "stream",
     "text": [
      "30\n"
     ]
    }
   ],
   "source": [
    "a = 10\n",
    "b = 20\n",
    "c = a + b\n",
    "print(c)    # shift + enter"
   ]
  },
  {
   "cell_type": "markdown",
   "id": "5c2b9695-424b-408b-b10f-5cda3dd0c97a",
   "metadata": {},
   "source": [
    "### 파이썬 자료형\n",
    "### 숫자형\n",
    "- 정수형 : int 형\n",
    "- 실수형 : float형"
   ]
  },
  {
   "cell_type": "code",
   "execution_count": 3,
   "id": "d0e1217a-9a3a-47f2-af31-c2f188b78731",
   "metadata": {},
   "outputs": [
    {
     "name": "stdout",
     "output_type": "stream",
     "text": [
      "<class 'int'>\n",
      "12445\n",
      "<class 'int'>\n"
     ]
    }
   ],
   "source": [
    "a = 12345\n",
    "b = 100\n",
    "print(type(a))\n",
    "c = a + b\n",
    "print(c)\n",
    "print(type(c))  # 정수형"
   ]
  },
  {
   "cell_type": "code",
   "execution_count": 4,
   "id": "1c7a5264-fba9-4748-bdff-4b77c1773227",
   "metadata": {},
   "outputs": [
    {
     "name": "stdout",
     "output_type": "stream",
     "text": [
      "10.54\n",
      "<class 'float'>\n"
     ]
    }
   ],
   "source": [
    "f = 10.54\n",
    "print(f)\n",
    "print(type(f)) # 실수형"
   ]
  },
  {
   "cell_type": "code",
   "execution_count": 5,
   "id": "c4c97ed2-c91f-4dca-930a-f7cf31e39f7f",
   "metadata": {},
   "outputs": [
    {
     "name": "stdout",
     "output_type": "stream",
     "text": [
      "5.0\n",
      "<class 'float'>\n"
     ]
    }
   ],
   "source": [
    "a = 10\n",
    "b = 2\n",
    "c = a / b\n",
    "print(c)\n",
    "print(type(c))  # 실수형"
   ]
  },
  {
   "cell_type": "markdown",
   "id": "4793dba5-40af-498a-a930-21d8215c80e9",
   "metadata": {},
   "source": [
    "#### 객체 :  파이썬의 모든 변수,  데이터 형은 객체로 관리된다"
   ]
  },
  {
   "cell_type": "code",
   "execution_count": 6,
   "id": "d495f575-0042-4435-b939-357a0ee3db45",
   "metadata": {},
   "outputs": [
    {
     "name": "stdout",
     "output_type": "stream",
     "text": [
      "0x7ff90dcf2d58\n",
      "0x7ff90dcf2e98\n",
      "0x7ff90dcf2d58\n",
      "0x7ff90dcf2e98\n"
     ]
    }
   ],
   "source": [
    "a = 30\n",
    "print(hex(id(a)))\n",
    "b = 40\n",
    "print(hex(id(b)))\n",
    "b = a\n",
    "print(hex(id(b)))\n",
    "b = 40\n",
    "print(hex(id(b)))\n",
    "\n",
    "del b     # 객체의 삭제\n",
    "# print(hex(id(b)))"
   ]
  },
  {
   "cell_type": "markdown",
   "id": "6433f5a8-14d4-455d-8e57-8643d0fb2a49",
   "metadata": {},
   "source": [
    "### 문자열(string) : 불변형(immutable), 시퀀스형\n",
    "- 문자열은 요소를 수정할수 없는 자료형, 순서를 갖는 자료형 "
   ]
  },
  {
   "cell_type": "code",
   "execution_count": 7,
   "id": "e25d8b8c-2d14-40a1-968a-3d8e5e0ff077",
   "metadata": {},
   "outputs": [
    {
     "name": "stdout",
     "output_type": "stream",
     "text": [
      "Hello Python\n",
      "<class 'str'>\n",
      "Good Bye\n",
      "<class 'str'>\n",
      "\n",
      "Desc : This is a test code!\n",
      "Date : 2025-03-24\n",
      "(C) copyright\n",
      "\n",
      "this is a 'double' quotation\n"
     ]
    }
   ],
   "source": [
    "str1 = \"Hello Python\"\n",
    "print(str1)\n",
    "print(type(str1))  # 문자열(str)\n",
    "\n",
    "str2 = 'Good Bye'\n",
    "print(str2)\n",
    "print(type(str2))\n",
    "\n",
    "# \\ 는 줄바꿈\n",
    "str3 = \\\n",
    "'''\n",
    "Desc : This is a test code!\n",
    "Date : 2025-03-24\n",
    "(C) copyright\n",
    "'''\n",
    "print(str3)\n",
    "\n",
    "str4 = \"this is a 'double' quotation\"\n",
    "print(str4)"
   ]
  },
  {
   "cell_type": "markdown",
   "id": "ccd4196b-dd71-45ad-a8b1-9501c57f23c0",
   "metadata": {},
   "source": [
    "### 문자열의 indexing 과 slicing"
   ]
  },
  {
   "cell_type": "code",
   "execution_count": 13,
   "id": "de1bbcaf-927a-48b3-949c-c5ba3d9183b1",
   "metadata": {},
   "outputs": [
    {
     "name": "stdout",
     "output_type": "stream",
     "text": [
      "Life is too short, you need python\n",
      "L i f e [4]\n",
      "n o\n"
     ]
    }
   ],
   "source": [
    "# indexing : 문자열의 요소를 접근하는 방법, a[index] , 처음 0번으로 시작\n",
    "a = 'Life is too short, you need python'\n",
    "print(a)\n",
    "print(a[0],a[1],a[2],a[3],[4])\n",
    "print(a[-1],a[-2])   # 뒤에서부터 인덱싱\n",
    "\n",
    "b = a[0]\n",
    "# a[0] = 'N'   # TypeError: 'str' object does not support item assignment\n",
    "               # 불변형 데이터는 요소 수정이 불가"
   ]
  },
  {
   "cell_type": "code",
   "execution_count": 27,
   "id": "465867c4-37d2-427f-b5ab-5edcca7f5f91",
   "metadata": {},
   "outputs": [
    {
     "name": "stdout",
     "output_type": "stream",
     "text": [
      "Lif\n",
      "Life is to\n",
      "Life is too short, you need python\n",
      "too short, you need python\n",
      "Life is too short, you need pytho\n",
      "Lesosr ue \n",
      "nohtyp deen uoy ,trohs oot si efiL\n"
     ]
    }
   ],
   "source": [
    "# slicing :    a[start:end + 1:step]   , start <= data < end + 1\n",
    "a = 'Life is too short, you need python'\n",
    "print(a[0:3])   # from 0 to (3 - 1)\n",
    "print(a[0:10])  # from 0 to (10 - 1)\n",
    "\n",
    "print(a[:])   # 처음 부터  끝까지 , print(a[0:34])와 동일한 결과\n",
    "print(a[8:])  # 8번 요소 부터  끝까지 , print(a[8:34])와 동일한 결과\n",
    "\n",
    "print(a[:-1]) # 마지막 문자만 제외\n",
    "\n",
    "print(a[:30:3])  # 처음 부터 29번 째 까지 3개의 간격으로 slicing\n",
    "print(a[::-1])   # 전체 요소의 순서를 거꾸로 바꾼다"
   ]
  }
 ],
 "metadata": {
  "kernelspec": {
   "display_name": "Python 3 (ipykernel)",
   "language": "python",
   "name": "python3"
  },
  "language_info": {
   "codemirror_mode": {
    "name": "ipython",
    "version": 3
   },
   "file_extension": ".py",
   "mimetype": "text/x-python",
   "name": "python",
   "nbconvert_exporter": "python",
   "pygments_lexer": "ipython3",
   "version": "3.12.7"
  }
 },
 "nbformat": 4,
 "nbformat_minor": 5
}
