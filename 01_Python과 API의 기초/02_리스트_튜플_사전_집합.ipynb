{
 "cells": [
  {
   "cell_type": "markdown",
   "id": "c8360047-27d4-4f09-8f63-fb4821c070c4",
   "metadata": {},
   "source": [
    "### 리스트(list) : 가변형(mutable), 시퀀스, 가장 유용한 자료형, [ ] :대괄호, 중복 허용"
   ]
  },
  {
   "cell_type": "code",
   "execution_count": 5,
   "id": "5224f5ef-1cfa-429a-bf55-1ac7e2d225e0",
   "metadata": {},
   "outputs": [
    {
     "name": "stdout",
     "output_type": "stream",
     "text": [
      "[1, 2, 3, 4, 5, 6]\n",
      "<class 'list'>\n",
      "['a', 'hello', 1, 3.5, [1, 2, 3, 4, 5, 6], 3.5, 1]\n"
     ]
    }
   ],
   "source": [
    "a = [1,2,3,4,5,6]\n",
    "print(a)\n",
    "print(type(a))\n",
    "\n",
    "b = ['a','hello',1,3.5,a,3.5,1]\n",
    "print(b)"
   ]
  },
  {
   "cell_type": "code",
   "execution_count": 8,
   "id": "7004519e-a273-44e7-a7e8-76598042ddd1",
   "metadata": {},
   "outputs": [
    {
     "name": "stdout",
     "output_type": "stream",
     "text": [
      "1 2 3 6\n",
      "[10, 2, 3, 4, 5, 6]\n"
     ]
    }
   ],
   "source": [
    "# 인덱싱\n",
    "a = [1,2,3,4,5,6]\n",
    "print(a[0],a[1],a[2],a[-1])\n",
    "\n",
    "a[0] = 10   # 가변형이므로 요소 변경이 가능하다\n",
    "print(a)"
   ]
  },
  {
   "cell_type": "code",
   "execution_count": 11,
   "id": "9ec38f75-384a-4ce3-89d0-4f4ab0e76579",
   "metadata": {},
   "outputs": [
    {
     "name": "stdout",
     "output_type": "stream",
     "text": [
      "[10, 2, 3]\n",
      "[10, 2, 3, 4, 5]\n",
      "[6, 5, 4, 3, 2, 10]\n"
     ]
    }
   ],
   "source": [
    "# 슬라이싱\n",
    "print(a[0:3])  # from 0 to (3 - 1)\n",
    "print(a[:-1])  # 마지막 요소만 제외\n",
    "print(a[::-1]) # 요소의 순서를 거꾸로 변경한다"
   ]
  },
  {
   "cell_type": "code",
   "execution_count": 18,
   "id": "9d014a6e-6cfd-43ab-a456-036abe5b886f",
   "metadata": {},
   "outputs": [
    {
     "name": "stdout",
     "output_type": "stream",
     "text": [
      "[0, 1, 2, 3, 4, 5, 6, 7, 8, 9]\n",
      "[0, 1, 2, 3, 4, 5, 6, 7, 8, 9]\n",
      "[0, 1, 2, 3, 4, 5, 6, 7, 8, 9]\n"
     ]
    }
   ],
   "source": [
    "# range(start,end + 1, step)\n",
    "print(list(range(0,10,1)))\n",
    "print(list(range(10)))\n",
    "print(list(range(0,10)))"
   ]
  },
  {
   "cell_type": "markdown",
   "id": "da3ae0a4-8b84-41b6-82ee-e1ff276a4df6",
   "metadata": {},
   "source": [
    "### 튜플(tuple) : 불변형(immutable), 시퀀스형, ( ):소괄호 사용,중복 허용¶"
   ]
  },
  {
   "cell_type": "code",
   "execution_count": 20,
   "id": "4e63f1ef-4717-495c-b00f-d094c1966d44",
   "metadata": {},
   "outputs": [
    {
     "name": "stdout",
     "output_type": "stream",
     "text": [
      "(1, 2, 3, 4, 5)\n",
      "<class 'tuple'>\n"
     ]
    }
   ],
   "source": [
    "a = (1,2,3,4,5)\n",
    "print(a)\n",
    "print(type(a))"
   ]
  },
  {
   "cell_type": "code",
   "execution_count": 21,
   "id": "43761ee5-e956-401f-b974-027322f4b332",
   "metadata": {},
   "outputs": [],
   "source": [
    "# 문자열과 리스트,튜플은 인덱싱과 슬라이싱 방법이 동일"
   ]
  },
  {
   "cell_type": "code",
   "execution_count": 23,
   "id": "11c75c31-df7d-4a25-82ce-ce565cd6bd31",
   "metadata": {},
   "outputs": [],
   "source": [
    "# a[10] = 10  # TypeError  , 불변형이므로 요소 수정이 불가"
   ]
  },
  {
   "cell_type": "code",
   "execution_count": 28,
   "id": "9483f77e-8a14-4dec-a8d4-12c021962296",
   "metadata": {},
   "outputs": [
    {
     "name": "stdout",
     "output_type": "stream",
     "text": [
      "1 2 hello\n"
     ]
    }
   ],
   "source": [
    "# 패킹(packing), 언패킹 튜플\n",
    "t = 1,2,'hello'    # 괄호 생략이 가능, 쉼표로 데이터가 구분되어 있으면 튜플, 패킹\n",
    "print(type(t))\n",
    "\n",
    "x,y,z = t     # 언패킹\n",
    "print(x,y,z)"
   ]
  },
  {
   "cell_type": "code",
   "execution_count": 29,
   "id": "250fab17-7e4c-4688-a25c-c097b812d1c7",
   "metadata": {},
   "outputs": [],
   "source": [
    "a,b,c = 10,20,'hi'     # 언패킹"
   ]
  },
  {
   "cell_type": "code",
   "execution_count": 34,
   "id": "b54a2fad-7a09-4bd6-8ee5-9f7b0b9e4b69",
   "metadata": {},
   "outputs": [
    {
     "name": "stdout",
     "output_type": "stream",
     "text": [
      "<class 'tuple'>\n"
     ]
    }
   ],
   "source": [
    "a = (10,)\n",
    "print(type(a))"
   ]
  },
  {
   "cell_type": "code",
   "execution_count": 41,
   "id": "427b7030-b036-4a34-9164-a41f29408930",
   "metadata": {},
   "outputs": [
    {
     "name": "stdout",
     "output_type": "stream",
     "text": [
      "2 1\n",
      "2 1\n"
     ]
    }
   ],
   "source": [
    "# 두 개의 값을 서로 변경하는 코드\n",
    "# x : 1, y : 2\n",
    "\n",
    "# (1) 전통 언어 방식\n",
    "x = 1\n",
    "y = 2\n",
    "temp = x\n",
    "x = y\n",
    "y = temp\n",
    "print(x,y)\n",
    "\n",
    "# (2) 파이썬 방식(튜플의 언패킹 사용) \n",
    "x,y = 1,2\n",
    "x,y = y,x\n",
    "print(x,y)"
   ]
  },
  {
   "cell_type": "markdown",
   "id": "6616eb30-7f6f-40cf-ab7d-bb527d4cc59e",
   "metadata": {},
   "source": [
    "### 사전(dict): 가변형(mutable), 순서가 없다, 연관형, 매핑형 ,{ } : 중괄호사용\n",
    "#### {key:value,.....}, key 는 반드시 immutable형 이어야 한다(숫자형,문자열,튜플),\n",
    "#### value 는 mutable,immutable 모두 사용 가능하다"
   ]
  },
  {
   "cell_type": "code",
   "execution_count": 42,
   "id": "41ac1423-09e5-44c4-830a-18d22762cf29",
   "metadata": {},
   "outputs": [
    {
     "name": "stdout",
     "output_type": "stream",
     "text": [
      "{'name': '홍길동', 'age': 30, 'birth': '20250325', 10: 100}\n",
      "<class 'dict'>\n"
     ]
    }
   ],
   "source": [
    "a = { 'name':'홍길동', 'age':30,'birth':'20250325',10:100}\n",
    "print(a)\n",
    "print(type(a))"
   ]
  },
  {
   "cell_type": "code",
   "execution_count": 47,
   "id": "38a80ec6-98f8-41b3-8776-0dc74ef54870",
   "metadata": {},
   "outputs": [
    {
     "name": "stdout",
     "output_type": "stream",
     "text": [
      "홍길동 30 20250325 100\n"
     ]
    }
   ],
   "source": [
    "# 요소접근 : a[key]\n",
    "print(a['name'],a['age'],a['birth'],a[10])"
   ]
  },
  {
   "cell_type": "code",
   "execution_count": 49,
   "id": "1ccbc462-4fa1-4c82-be48-470af0d08460",
   "metadata": {},
   "outputs": [
    {
     "name": "stdout",
     "output_type": "stream",
     "text": [
      "{'name': '김철수', 'age': 30, 'birth': '20250325', 10: 100}\n"
     ]
    }
   ],
   "source": [
    "# 요소 수정\n",
    "a['name'] = '김철수'\n",
    "\n",
    "print(a)"
   ]
  },
  {
   "cell_type": "code",
   "execution_count": 50,
   "id": "df8bc848-92ae-4182-9d7c-2beaf5da5989",
   "metadata": {},
   "outputs": [
    {
     "name": "stdout",
     "output_type": "stream",
     "text": [
      "{'name': '김철수', 'age': 30, 'birth': '20250325', 10: 100, '주소': '서울시'}\n"
     ]
    }
   ],
   "source": [
    "# 요소 추가\n",
    "a['주소'] = '서울시'\n",
    "print(a)"
   ]
  },
  {
   "cell_type": "code",
   "execution_count": 51,
   "id": "836fe517-5266-4e00-8f56-0368c481a706",
   "metadata": {},
   "outputs": [
    {
     "name": "stdout",
     "output_type": "stream",
     "text": [
      "{'name': '김철수', 'age': 30, 'birth': '20250325', 10: 100}\n"
     ]
    }
   ],
   "source": [
    "# 제거\n",
    "del a['주소']\n",
    "print(a)"
   ]
  },
  {
   "cell_type": "code",
   "execution_count": 52,
   "id": "66416342-a1d7-49d8-9e1b-569249b432ea",
   "metadata": {},
   "outputs": [
    {
     "name": "stdout",
     "output_type": "stream",
     "text": [
      "{'a': 97, 'b': 98, 'c': 99, 'd': 100, 'e': 101, 'f': 102, 'g': 103}\n"
     ]
    }
   ],
   "source": [
    "# 사전 내장(dict comprehension)\n",
    "a = {k:ord(k) for k in 'abcdefg'}\n",
    "print(a)"
   ]
  },
  {
   "cell_type": "code",
   "execution_count": 53,
   "id": "8d077915-ca7a-46f3-a615-81683192b01b",
   "metadata": {},
   "outputs": [
    {
     "data": {
      "text/plain": [
       "97"
      ]
     },
     "execution_count": 53,
     "metadata": {},
     "output_type": "execute_result"
    }
   ],
   "source": [
    "ord('a')  # 문자 --> 아스키값"
   ]
  },
  {
   "cell_type": "code",
   "execution_count": 54,
   "id": "2ec26147-6dfb-4545-8bb6-916d201d4a9f",
   "metadata": {},
   "outputs": [
    {
     "data": {
      "text/plain": [
       "'a'"
      ]
     },
     "execution_count": 54,
     "metadata": {},
     "output_type": "execute_result"
    }
   ],
   "source": [
    "chr(97)  # 아스키값 --> 자자"
   ]
  },
  {
   "cell_type": "markdown",
   "id": "4aa68aa7-c25d-44f2-9e32-e8b0bb6f64e4",
   "metadata": {},
   "source": [
    "#### 집합(set) : mutable, 순서가 없다, { }중괄호 사용, 중복을 허용하지 않는다"
   ]
  },
  {
   "cell_type": "code",
   "execution_count": 55,
   "id": "4b227bdb-6165-4097-95ad-42a7d7e87391",
   "metadata": {},
   "outputs": [
    {
     "name": "stdout",
     "output_type": "stream",
     "text": [
      "{1, 2, 3, 4}\n",
      "<class 'set'>\n"
     ]
    }
   ],
   "source": [
    "s = {1,2,3,4}\n",
    "print(s)\n",
    "print(type(s))"
   ]
  },
  {
   "cell_type": "code",
   "execution_count": 56,
   "id": "3c2ce772-a837-456d-baf6-553982200021",
   "metadata": {},
   "outputs": [
    {
     "name": "stdout",
     "output_type": "stream",
     "text": [
      "{8, 1, 4, 6}\n"
     ]
    }
   ],
   "source": [
    "s = {4,4,4,6,6,6,1,1,1,8,8,8}\n",
    "print(s)"
   ]
  },
  {
   "cell_type": "code",
   "execution_count": 65,
   "id": "3ba76f3c-d2f3-4c9d-b702-11afc9aa5dcb",
   "metadata": {},
   "outputs": [
    {
     "name": "stdout",
     "output_type": "stream",
     "text": [
      "[8, 1, 4, 6]\n"
     ]
    }
   ],
   "source": [
    "# 리스트에서 중복된 요소를 제거\n",
    "l = [4,4,4,6,6,6,1,1,1,8,8,8]\n",
    "s = list(set(l))   \n",
    "print(s)"
   ]
  },
  {
   "cell_type": "code",
   "execution_count": 61,
   "id": "98c5a68e-c0d1-4ecc-a835-d065b0661da0",
   "metadata": {},
   "outputs": [
    {
     "name": "stdout",
     "output_type": "stream",
     "text": [
      "10.0 <class 'float'>\n"
     ]
    }
   ],
   "source": [
    "# 형변환\n",
    "a = 10\n",
    "f = float(a)\n",
    "print(f,type(f))"
   ]
  },
  {
   "cell_type": "code",
   "execution_count": null,
   "id": "079feade-c0a7-43c5-a5c8-1416c19325e1",
   "metadata": {},
   "outputs": [],
   "source": []
  }
 ],
 "metadata": {
  "kernelspec": {
   "display_name": "Python 3 (ipykernel)",
   "language": "python",
   "name": "python3"
  },
  "language_info": {
   "codemirror_mode": {
    "name": "ipython",
    "version": 3
   },
   "file_extension": ".py",
   "mimetype": "text/x-python",
   "name": "python",
   "nbconvert_exporter": "python",
   "pygments_lexer": "ipython3",
   "version": "3.12.7"
  }
 },
 "nbformat": 4,
 "nbformat_minor": 5
}
