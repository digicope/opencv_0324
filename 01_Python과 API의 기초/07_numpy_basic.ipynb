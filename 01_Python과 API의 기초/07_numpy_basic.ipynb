{
 "cells": [
  {
   "cell_type": "markdown",
   "id": "8d321fca-4f6e-4396-8225-304995642005",
   "metadata": {},
   "source": [
    "### 넘파이(Numpy) : 배열(ndarray, n dimension array)\n",
    "#### 리스트(list): Linked List 구조(불연속), 동작 속도가 느리다, comma로 요소 구별, 서로 다른 자료형 사용가능\n",
    "#### 배열(ndarray) : 연속된 메모리 구조, 동작 속도가 빠르다, comma를 사용하지 않고 공백으로 요소를 구별, 오직 한 가지 타입만 갖을 수 있다"
   ]
  },
  {
   "cell_type": "code",
   "execution_count": 7,
   "id": "31efe036-8912-43b0-a02a-5d72d8e69b25",
   "metadata": {},
   "outputs": [
    {
     "name": "stdout",
     "output_type": "stream",
     "text": [
      "[0, 1, 2, 3, 4, 5, 'hello'] <class 'list'>\n",
      "[0 1 2 3 4 5] <class 'numpy.ndarray'>\n",
      "int32\n"
     ]
    }
   ],
   "source": [
    "import numpy as np\n",
    "\n",
    "# list\n",
    "list1 = [0,1,2,3,4,5,'hello']\n",
    "print(list1,type(list1))\n",
    "\n",
    "# ndarray\n",
    "a = np.array([0,1,2,3,4,5])\n",
    "print(a,type(a))\n",
    "print(a.dtype)"
   ]
  },
  {
   "cell_type": "code",
   "execution_count": 10,
   "id": "91635f31-4e9f-4d4c-84a6-efa84de34d4e",
   "metadata": {},
   "outputs": [
    {
     "data": {
      "text/plain": [
       "dict_keys(['?', 0, 'byte', 'b', 1, 'ubyte', 'B', 2, 'short', 'h', 3, 'ushort', 'H', 4, 'i', 5, 'uint', 'I', 6, 'intp', 'p', 9, 'uintp', 'P', 10, 'long', 'l', 7, 'ulong', 'L', 8, 'longlong', 'q', 'ulonglong', 'Q', 'half', 'e', 23, 'f', 11, 'double', 'd', 12, 'longdouble', 'g', 13, 'cfloat', 'F', 14, 'cdouble', 'D', 15, 'clongdouble', 'G', 16, 'O', 17, 'S', 18, 'unicode', 'U', 19, 'void', 'V', 20, 'M', 21, 'm', 22, 'b1', 'bool8', 'i8', 'int64', 'u8', 'uint64', 'f2', 'float16', 'f4', 'float32', 'f8', 'float64', 'c8', 'complex64', 'c16', 'complex128', 'object0', 'bytes0', 'str0', 'void0', 'M8', 'datetime64', 'm8', 'timedelta64', 'int32', 'i4', 'uint32', 'u4', 'int16', 'i2', 'uint16', 'u2', 'int8', 'i1', 'uint8', 'u1', 'complex_', 'single', 'csingle', 'singlecomplex', 'float_', 'intc', 'uintc', 'int_', 'longfloat', 'clongfloat', 'longcomplex', 'bool_', 'bytes_', 'string_', 'str_', 'unicode_', 'object_', 'int', 'float', 'complex', 'bool', 'object', 'str', 'bytes', 'a', 'int0', 'uint0'])"
      ]
     },
     "execution_count": 10,
     "metadata": {},
     "output_type": "execute_result"
    }
   ],
   "source": [
    "# numpy 의 dtype 객체의 종류 : 대소문자 모두 사용 가능\n",
    "np.sctypeDict.keys()"
   ]
  },
  {
   "cell_type": "markdown",
   "id": "fb681636-48aa-4cb6-b060-59524e5a1821",
   "metadata": {},
   "source": [
    "### 차원(Dimension,Rank) 과 Shape\n",
    "#### * 차원(Dimension,Rank)  : 1,2,3차원,n차원, 첫 데이터까지의 대괄호의 갯수\n",
    "#### * Shape : 차원의 요소의 수, 튜플 형식\n",
    "####  1 차원 Shape : (x,) , 벡터(vector)\n",
    "####  2 차원 Shape : (x,y), 행렬(matrix)\n",
    "####  3 차원 Shape : (x,y,z) , (면,행,열) \n",
    "... \n",
    "####  n 차원 Shape : (x,y,z,....)"
   ]
  },
  {
   "cell_type": "code",
   "execution_count": 14,
   "id": "ddfaf427-b3a8-4136-98db-f0e817c93388",
   "metadata": {},
   "outputs": [
    {
     "name": "stdout",
     "output_type": "stream",
     "text": [
      "[ 0  1  2  3  4  5  6  7  8  9 10 11]\n",
      "(12,)\n",
      "1\n"
     ]
    }
   ],
   "source": [
    "# 1차원 배열의 shape\n",
    "a = np.arange(12)\n",
    "print(a)\n",
    "print(a.shape)   # (12,)\n",
    "print(a.ndim)    # 1차원"
   ]
  },
  {
   "cell_type": "code",
   "execution_count": 17,
   "id": "1386db41-a91c-4e2f-bf2c-b2c56cde0d71",
   "metadata": {},
   "outputs": [
    {
     "name": "stdout",
     "output_type": "stream",
     "text": [
      "[[0 1 2]\n",
      " [0 1 2]]\n",
      "(2, 3)\n",
      "2\n"
     ]
    }
   ],
   "source": [
    "# 2차원 배열의 Shape : 행(row,가로,수직,axis=0)과 열(column,세로,수평,axis=1) => 필수암기\n",
    "m = np.array([[0,1,2],\n",
    "              [0,1,2]])\n",
    "print(m)\n",
    "print(m.shape)   # (2,3)\n",
    "print(m.ndim)    # 2차원"
   ]
  },
  {
   "cell_type": "code",
   "execution_count": 22,
   "id": "e030c763-3c3d-45e8-a85c-56868b01cc5e",
   "metadata": {},
   "outputs": [
    {
     "name": "stdout",
     "output_type": "stream",
     "text": [
      "[[[0 1 2]\n",
      "  [3 4 5]]\n",
      "\n",
      " [[0 1 2]\n",
      "  [3 4 5]]]\n",
      "(2, 2, 3)\n",
      "3\n",
      "[[[0 1 2]]\n",
      "\n",
      " [[3 4 5]]\n",
      "\n",
      " [[0 1 2]]\n",
      "\n",
      " [[3 4 5]]] (4, 1, 3)\n"
     ]
    }
   ],
   "source": [
    "# 3 차원 배열의 Shape: (면,행,열)\n",
    "m = np.array([[[0,1,2],\n",
    "               [3,4,5]],\n",
    "              [[0,1,2],\n",
    "               [3,4,5]]])\n",
    "print(m)\n",
    "print(m.shape)  # (2,2,3)\n",
    "print(m.ndim)   # 3차원\n",
    "\n",
    "m = np.array([[[0, 1, 2]],\n",
    "              [[3, 4, 5]],\n",
    "              [[0, 1, 2]],\n",
    "              [[3, 4, 5]]])\n",
    "print(m,m.shape)"
   ]
  },
  {
   "cell_type": "code",
   "execution_count": 28,
   "id": "7ca8c5ea-d7e5-4b56-9c31-9d0ef4ec3cfe",
   "metadata": {},
   "outputs": [
    {
     "name": "stdout",
     "output_type": "stream",
     "text": [
      "[[[[ 0  1]]\n",
      "\n",
      "  [[ 2  3]]]\n",
      "\n",
      "\n",
      " [[[ 4  5]]\n",
      "\n",
      "  [[ 6  7]]]\n",
      "\n",
      "\n",
      " [[[ 8  9]]\n",
      "\n",
      "  [[10 11]]]]\n",
      "(3, 2, 1, 2)\n"
     ]
    }
   ],
   "source": [
    "# 4차원\n",
    "m1 = np.arange(12).reshape(3,2,1,2)\n",
    "print(m1)\n",
    "print(m1.shape)"
   ]
  },
  {
   "cell_type": "markdown",
   "id": "03ffb1f3-5a8d-4f43-a0c8-bb24be337b2c",
   "metadata": {},
   "source": [
    "### 배열의 인덱싱과 슬라이싱"
   ]
  },
  {
   "cell_type": "code",
   "execution_count": 30,
   "id": "dcc57c48-5a61-43fa-a99c-df6cbfa49027",
   "metadata": {},
   "outputs": [
    {
     "name": "stdout",
     "output_type": "stream",
     "text": [
      "[ 0  1  2  3  4  5  6  7  8  9 10 11] (12,)\n",
      "0 1 2 11 10\n",
      "[2 3 4 5 6 7] [ 0  1  2  3  4  5  6  7  8  9 10 11] [ 0  1  2  3  4  5  6  7  8  9 10]\n",
      "[ 0  2  4  6  8 10] [11 10  9  8  7  6  5  4  3  2  1  0]\n",
      "[10  1  2  3  4  5  6  7  8  9 10 11]\n"
     ]
    }
   ],
   "source": [
    "# 1차원 배열의 인덱싱과 슬라이싱 : list 와 동일한 방법\n",
    "d = np.arange(12)\n",
    "print(d,d.shape)\n",
    "\n",
    "# indexing\n",
    "print(d[0],d[1],d[2],d[-1],d[-2])\n",
    "\n",
    "# slicing\n",
    "print(d[2:8],d[:],d[:-1])\n",
    "print(d[::2],d[::-1])\n",
    "\n",
    "d[0] = 10   # list 처럼 요소 변경이 가능\n",
    "print(d)"
   ]
  },
  {
   "cell_type": "code",
   "execution_count": 48,
   "id": "75a4ef21-cbef-48a3-af79-efcd5a7f300c",
   "metadata": {},
   "outputs": [
    {
     "name": "stdout",
     "output_type": "stream",
     "text": [
      "[[ 0  1  2  3]\n",
      " [ 4  5  6  7]\n",
      " [ 8  9 10 11]] (3, 4)\n",
      "0\n",
      "0\n",
      "9\n"
     ]
    }
   ],
   "source": [
    "# 2차원 배열의 인덱싱과 슬라이싱 \n",
    "# data[행,열]\n",
    "d = np.arange(12).reshape(3,4)\n",
    "print(d,d.shape)  # (3, 4)\n",
    "\n",
    "# indexing\n",
    "print(d[0][0])  # 0\n",
    "print(d[0,0])   # 0\n",
    "print(d[2,1])   # 9\n",
    "\n"
   ]
  },
  {
   "cell_type": "code",
   "execution_count": null,
   "id": "bd79728d-19ec-4757-bdfc-aa8689263a97",
   "metadata": {},
   "outputs": [],
   "source": []
  }
 ],
 "metadata": {
  "kernelspec": {
   "display_name": "Python 3 (ipykernel)",
   "language": "python",
   "name": "python3"
  },
  "language_info": {
   "codemirror_mode": {
    "name": "ipython",
    "version": 3
   },
   "file_extension": ".py",
   "mimetype": "text/x-python",
   "name": "python",
   "nbconvert_exporter": "python",
   "pygments_lexer": "ipython3",
   "version": "3.12.7"
  }
 },
 "nbformat": 4,
 "nbformat_minor": 5
}
