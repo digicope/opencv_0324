{
 "cells": [
  {
   "cell_type": "markdown",
   "id": "f0eb3783-8250-4084-9fac-8c270b5b51b3",
   "metadata": {},
   "source": [
    "### 제어문  : if문, for 문, while문, with ~ as 문"
   ]
  },
  {
   "cell_type": "markdown",
   "id": "33a6df31-8601-43b0-97e1-018ae591457f",
   "metadata": {},
   "source": [
    "### [1] 조건문\n",
    "### if문"
   ]
  },
  {
   "cell_type": "code",
   "execution_count": 7,
   "id": "fcbc3bd6-7aa7-43db-a2cd-f84d8b020058",
   "metadata": {},
   "outputs": [
    {
     "name": "stdout",
     "output_type": "stream",
     "text": [
      "15\n"
     ]
    }
   ],
   "source": [
    "a = 15\n",
    "if a == 10:\n",
    "    print('a = 10')\n",
    "else:\n",
    "    print(a)    "
   ]
  },
  {
   "cell_type": "code",
   "execution_count": 16,
   "id": "92cf506f-9518-436f-b517-897b20c3042c",
   "metadata": {},
   "outputs": [
    {
     "name": "stdout",
     "output_type": "stream",
     "text": [
      "order price: 5000\n"
     ]
    }
   ],
   "source": [
    "order = 'spagetti'\n",
    "\n",
    "if order == 'spagetti':\n",
    "    price = 5000\n",
    "elif order == 'spam':\n",
    "    price = 6000\n",
    "elif order == 'egg':\n",
    "    price = 7000\n",
    "else:\n",
    "    price= 0\n",
    "\n",
    "print('order price: %d'%price) "
   ]
  },
  {
   "cell_type": "code",
   "execution_count": 21,
   "id": "06231648-99f0-4339-b7bc-0ebfd6f5b5ab",
   "metadata": {},
   "outputs": [
    {
     "name": "stdout",
     "output_type": "stream",
     "text": [
      "order price: 5000\n",
      "order price: 11000\n"
     ]
    }
   ],
   "source": [
    "# dict 사용\n",
    "order = {'spagetti':5000,'spam':6000,'egg':7000}\n",
    "print('order price: %d'%order['spagetti']) \n",
    "print('order price: %d'%(order['spagetti'] + order['spam'])) "
   ]
  },
  {
   "cell_type": "code",
   "execution_count": 25,
   "id": "a7b5e52a-3d3c-4fda-931a-538340b6d924",
   "metadata": {},
   "outputs": [
    {
     "name": "stdout",
     "output_type": "stream",
     "text": [
      "20\n"
     ]
    }
   ],
   "source": [
    "# 전통 언어 스타일\n",
    "a = 10\n",
    "if a > 5:\n",
    "    x = a * 2\n",
    "else:\n",
    "    x = a / 2\n",
    "print(x)  "
   ]
  },
  {
   "cell_type": "code",
   "execution_count": 37,
   "id": "c7c791a7-d66a-4f39-8679-28f6cfb67d88",
   "metadata": {},
   "outputs": [
    {
     "name": "stdout",
     "output_type": "stream",
     "text": [
      "2.0\n"
     ]
    }
   ],
   "source": [
    "# 파이썬 스타일\n",
    "a = 4\n",
    "x = (a/2,a*2)[a > 5]\n",
    "print(x)"
   ]
  },
  {
   "cell_type": "markdown",
   "id": "1186df73-c369-43db-8d37-0fc6fc9bc50b",
   "metadata": {},
   "source": [
    "### [2] 반복문\n",
    "### for문"
   ]
  },
  {
   "cell_type": "code",
   "execution_count": 53,
   "id": "e9ace038-8dd4-4417-b7aa-30e08eca7f4e",
   "metadata": {},
   "outputs": [
    {
     "name": "stdout",
     "output_type": "stream",
     "text": [
      "0\n",
      "1\n",
      "2\n",
      "3\n",
      "4\n",
      "5\n",
      "6\n",
      "7\n",
      "8\n",
      "9\n",
      "--------------------\n",
      "0\n",
      "1\n",
      "2\n",
      "3\n",
      "4\n",
      "5\n",
      "6\n",
      "7\n",
      "8\n",
      "9\n"
     ]
    }
   ],
   "source": [
    "for k in range(10):\n",
    "    print(k)\n",
    "print('-'*20)\n",
    "\n",
    "l = [0,1,2,3,4,5,6,7,8,9]\n",
    "for k in l:\n",
    "    print(k)    "
   ]
  },
  {
   "cell_type": "code",
   "execution_count": 58,
   "id": "1d359b81-50e0-461e-9f4b-aafaecdca7b9",
   "metadata": {},
   "outputs": [
    {
     "name": "stdout",
     "output_type": "stream",
     "text": [
      "0 cat\n",
      "1 dog\n",
      "2 bird\n",
      "3 pig\n",
      "4 tiger\n"
     ]
    }
   ],
   "source": [
    "l = ['cat','dog','bird','pig','tiger']\n",
    "for i,k in enumerate(l):   # enumerate()함수 : 요소의 인덱스와 요소를 함께 반환\n",
    "    print(i,k)"
   ]
  },
  {
   "cell_type": "code",
   "execution_count": 61,
   "id": "fd832789-f9b2-4d3e-a427-b2f28a1fd487",
   "metadata": {},
   "outputs": [],
   "source": [
    "# continue문 : for문(처음)으로 제어 흐름을 변경한다\n",
    "for x in range(10):\n",
    "    if x < 3:\n",
    "        continue\n",
    "    print(x)"
   ]
  },
  {
   "cell_type": "code",
   "execution_count": 63,
   "id": "54aaae4e-9c14-4f77-bb04-ff6d1c29f615",
   "metadata": {},
   "outputs": [
    {
     "name": "stdout",
     "output_type": "stream",
     "text": [
      "0\n",
      "1\n",
      "2\n",
      "3\n",
      "4\n",
      "5\n"
     ]
    }
   ],
   "source": [
    "# break문 : for 문의 루프에서 탈출\n",
    "for x in range(1000):\n",
    "    if x > 5:\n",
    "        break\n",
    "    print(x)"
   ]
  },
  {
   "cell_type": "markdown",
   "id": "8f16f22a-d1f2-4184-9617-8681a2ea47f5",
   "metadata": {},
   "source": [
    "### while문"
   ]
  },
  {
   "cell_type": "code",
   "execution_count": 65,
   "id": "2a03541e-a621-4fbc-81b1-fdbc7812013f",
   "metadata": {},
   "outputs": [
    {
     "name": "stdout",
     "output_type": "stream",
     "text": [
      "0\n",
      "1\n",
      "2\n",
      "3\n",
      "4\n",
      "5\n",
      "6\n",
      "7\n",
      "8\n",
      "9\n"
     ]
    }
   ],
   "source": [
    "a = 0\n",
    "while True:       # 무한 루프\n",
    "    print(a)\n",
    "    a +=  1  # a = a + 1\n",
    "    if a == 10:   # a가 10이면 무한 루프 탈출\n",
    "        break"
   ]
  },
  {
   "cell_type": "code",
   "execution_count": 66,
   "id": "a4aea915-6088-4bf5-bb3e-6228d476e7b2",
   "metadata": {},
   "outputs": [
    {
     "name": "stdout",
     "output_type": "stream",
     "text": [
      "10\n",
      "11\n",
      "12\n",
      "13\n",
      "14\n",
      "15\n",
      "16\n",
      "17\n",
      "18\n",
      "19\n",
      "20\n"
     ]
    }
   ],
   "source": [
    "a = 0\n",
    "while True:        # 무한 루프\n",
    "    a +=  1        # a = a + 1\n",
    "\n",
    "    if a < 10 :    # a < 10이면 continue\n",
    "        continue\n",
    "        \n",
    "    print(a)    \n",
    "    \n",
    "    if a == 20:    # a가 20이면 무한 루프 탈출\n",
    "        break"
   ]
  },
  {
   "cell_type": "code",
   "execution_count": 67,
   "id": "43da2a8d-3691-43c9-a10e-fe8cb20adead",
   "metadata": {},
   "outputs": [
    {
     "name": "stdout",
     "output_type": "stream",
     "text": [
      "0\n",
      "1\n",
      "2\n",
      "3\n",
      "4\n",
      "5\n",
      "6\n",
      "7\n",
      "8\n",
      "9\n"
     ]
    }
   ],
   "source": [
    "a = 0\n",
    "while a < 10:   # 조건식이 참일 때만 반복한다\n",
    "    print(a)\n",
    "    a += 1"
   ]
  },
  {
   "cell_type": "markdown",
   "id": "28922789-0466-4cea-bc0b-4c525f026eaf",
   "metadata": {},
   "source": [
    "### with ~ as문"
   ]
  },
  {
   "cell_type": "code",
   "execution_count": 70,
   "id": "baa2cc7b-ca34-4c6d-9f96-3181a82b6be9",
   "metadata": {},
   "outputs": [
    {
     "name": "stdout",
     "output_type": "stream",
     "text": [
      "1번째 줄입니다\n",
      "2번째 줄입니다\n",
      "3번째 줄입니다\n",
      "\n"
     ]
    }
   ],
   "source": [
    "# 저수준 파일 제어\n",
    "f = open('file.txt','w')  # 쓰기모드, 없으면 생성, 있으면 삭제해서 새로 생성\n",
    "f.write('1번째 줄입니다\\n')\n",
    "f.write('2번째 줄입니다\\n')\n",
    "f.write('3번째 줄입니다\\n')\n",
    "f.close()                 # file 객체를 소멸\n",
    "\n",
    "f = open('file.txt','r')  # 읽기 모드, file 객체를 생성\n",
    "data = f.read()\n",
    "print(data)\n",
    "f.close()"
   ]
  },
  {
   "cell_type": "code",
   "execution_count": 71,
   "id": "edb039cc-6da3-433c-a7b4-65fa01dca32c",
   "metadata": {},
   "outputs": [
    {
     "name": "stdout",
     "output_type": "stream",
     "text": [
      "#1번째 줄입니다\n",
      "#2번째 줄입니다\n",
      "#3번째 줄입니다\n",
      "\n"
     ]
    }
   ],
   "source": [
    "with open('file.txt','w') as f:\n",
    "    f.write('#1번째 줄입니다\\n')\n",
    "    f.write('#2번째 줄입니다\\n')\n",
    "    f.write('#3번째 줄입니다\\n')\n",
    "\n",
    "with open('file.txt','r') as f:\n",
    "    data = f.read()\n",
    "    print(data)"
   ]
  },
  {
   "cell_type": "code",
   "execution_count": 84,
   "id": "e4b5bc0a-34b3-4dc5-802d-b65c8c7d0d4a",
   "metadata": {},
   "outputs": [
    {
     "name": "stdout",
     "output_type": "stream",
     "text": [
      "[164, 190, 218, 248, 280, 314, 350, 388, 428, 470, 514, 560, 608, 658, 710, 764, 820, 878, 938, 1000, 1064, 1130, 1198, 1268, 1340, 1414, 1490, 1568, 1648, 1730, 1814, 1900, 1988, 2078, 2170, 2264, 2360, 2458, 2558, 2660, 2764, 2870, 2978, 3088, 3200, 3314, 3430, 3548, 3668, 3790, 3914, 4040, 4168, 4298, 4430, 4564, 4700, 4838, 4978, 5120, 5264, 5410, 5558, 5708, 5860, 6014, 6170, 6328, 6488, 6650, 6814, 6980, 7148, 7318, 7490, 7664, 7840, 8018, 8198, 8380, 8564, 8750, 8938, 9128, 9320, 9514, 9710, 9908, 10108]\n"
     ]
    }
   ],
   "source": [
    "# list comprehnsion\n",
    "l = [x**2 + 3*x + 10 for x in range(100) if x > 10]\n",
    "print(l)"
   ]
  },
  {
   "cell_type": "code",
   "execution_count": null,
   "id": "8a9fc1a6-8849-4073-9cb5-376f96593b26",
   "metadata": {},
   "outputs": [],
   "source": []
  }
 ],
 "metadata": {
  "kernelspec": {
   "display_name": "Python 3 (ipykernel)",
   "language": "python",
   "name": "python3"
  },
  "language_info": {
   "codemirror_mode": {
    "name": "ipython",
    "version": 3
   },
   "file_extension": ".py",
   "mimetype": "text/x-python",
   "name": "python",
   "nbconvert_exporter": "python",
   "pygments_lexer": "ipython3",
   "version": "3.12.7"
  }
 },
 "nbformat": 4,
 "nbformat_minor": 5
}
