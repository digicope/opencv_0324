{
 "cells": [
  {
   "cell_type": "markdown",
   "id": "786576de-c9d1-4b04-a81f-470f6811baa3",
   "metadata": {},
   "source": [
    "# Flask 웹 프레임워크\n",
    "### [1] Flask 기본 앱 실행  : 웹서버"
   ]
  },
  {
   "cell_type": "code",
   "execution_count": 15,
   "id": "bae4cc6a-35fa-4149-bce3-d0e2b7912235",
   "metadata": {
    "collapsed": true,
    "jupyter": {
     "outputs_hidden": true
    }
   },
   "outputs": [
    {
     "name": "stdout",
     "output_type": "stream",
     "text": [
      " * Serving Flask app '__main__'\n",
      " * Debug mode: off\n"
     ]
    },
    {
     "name": "stderr",
     "output_type": "stream",
     "text": [
      "WARNING: This is a development server. Do not use it in a production deployment. Use a production WSGI server instead.\n",
      " * Running on http://127.0.0.1:5000\n",
      "Press CTRL+C to quit\n",
      "127.0.0.1 - - [31/Mar/2025 20:49:34] \"GET / HTTP/1.1\" 404 -\n",
      "127.0.0.1 - - [31/Mar/2025 20:49:36] \"GET / HTTP/1.1\" 200 -\n",
      "127.0.0.1 - - [31/Mar/2025 20:49:42] \"GET /posts/1 HTTP/1.1\" 404 -\n",
      "127.0.0.1 - - [31/Mar/2025 20:50:07] \"GET / HTTP/1.1\" 200 -\n"
     ]
    }
   ],
   "source": [
    "# ! pip install flask\n",
    "\n",
    "from flask import Flask\n",
    "\n",
    "app = Flask(__name__)\n",
    "\n",
    "# print(type(app))\n",
    "\n",
    "@app.route('/')\n",
    "def home():\n",
    "    return \"Hello, Flask!\"\n",
    "    \n",
    "if __name__ == '__main__':\n",
    "    app.run(debug=False)"
   ]
  },
  {
   "cell_type": "markdown",
   "id": "3916bf2f-0c5c-4ed6-ae77-56d182ceb138",
   "metadata": {},
   "source": [
    "#####  Jupyter Notebook이나 IPython 환경에서 app.run(debug=True)를 실행하면 자동으로 SystemExit 예외가 발생할 수 있다.\n",
    "#####     이는 Flask의 개발 서버가 자체적으로 실행을 관리하는 방식과 Jupyter Notebook의 실행 방식이 충돌하기 때문이다."
   ]
  },
  {
   "cell_type": "code",
   "execution_count": 13,
   "id": "7162ae5f-70e5-46f3-90f7-682613321b0e",
   "metadata": {},
   "outputs": [
    {
     "name": "stdout",
     "output_type": "stream",
     "text": [
      "add function start\n",
      "add function end\n",
      "30\n"
     ]
    }
   ],
   "source": [
    "# Decorator (장식자)\n",
    "\n",
    "def my_decorator(func):\n",
    "    def wrapper(a,b):\n",
    "        print(\"add function start\")\n",
    "        print(\"함수 호출전\")\n",
    "        result = func(a,b)\n",
    "        print(\"add function end\")\n",
    "        print(\"함수 호출 후\")\n",
    "        return result\n",
    "    return wrapper    \n",
    "\n",
    "@my_decorator\n",
    "def add(a,b):\n",
    "    return a + b\n",
    "    \n",
    "print(add(10,20))"
   ]
  },
  {
   "cell_type": "markdown",
   "id": "485c53e2-1fab-4506-aa3d-de54510362b2",
   "metadata": {},
   "source": [
    "### [2] 라우팅 및 동적 처리"
   ]
  },
  {
   "cell_type": "raw",
   "id": "2ddf2d17-b104-49b9-b9bc-0ded010697a5",
   "metadata": {},
   "source": [
    "Flask는 기본적으로 templates 폴더에서 HTML 파일을 찾습니다. 프로젝트 폴더를 다음과 같이 구성하세요.\n",
    "\n",
    "/my_flask_app\n",
    "│-- app.py\n",
    "│-- /templates\n",
    "│   ├── index.html\n",
    "\n",
    "아래 템플릿 파일을 templates/index.html 로 먼저 저장해 놓는다"
   ]
  },
  {
   "cell_type": "raw",
   "id": "4c82bc99-7d45-41a0-abde-8e1f9777f7ab",
   "metadata": {},
   "source": [
    "<!DOCTYPE html>\n",
    "<html>\n",
    "<head>\n",
    "    <title>Flask Example</title>\n",
    "</head>\n",
    "<body>\n",
    "    <h1>Hello, {{ name }}!</h1>\n",
    "</body>\n",
    "</html>"
   ]
  },
  {
   "cell_type": "code",
   "execution_count": 18,
   "id": "6306e859-ce2e-4c23-8a5f-fe1f75e7dbe0",
   "metadata": {},
   "outputs": [
    {
     "name": "stdout",
     "output_type": "stream",
     "text": [
      " * Serving Flask app '__main__'\n",
      " * Debug mode: off\n"
     ]
    },
    {
     "name": "stderr",
     "output_type": "stream",
     "text": [
      "WARNING: This is a development server. Do not use it in a production deployment. Use a production WSGI server instead.\n",
      " * Running on http://127.0.0.1:5000\n",
      "Press CTRL+C to quit\n"
     ]
    }
   ],
   "source": [
    "from flask import Flask, render_template\n",
    "\n",
    "app = Flask(__name__)\n",
    "\n",
    "@app.route('/')\n",
    "def home():\n",
    "    return \"Hello, Flask!\"\n",
    "\n",
    "@app.route('/hello/<name>')\n",
    "def hello(name):\n",
    "    return render_template('index.html',name=name)\n",
    "\n",
    "if __name__ == '__main__':\n",
    "    app.run(debug=False)\n",
    "\n",
    "# 웹 브라우저에서 다음 주소로 이동하여 결과를 확인\n",
    "# http://127.0.0.1:5000/hello/홍길동"
   ]
  },
  {
   "cell_type": "markdown",
   "id": "0e03c441-0aa0-4c23-9b5d-c7ac6eab3d53",
   "metadata": {},
   "source": [
    "### [3] Flask 웹서버에서 HTTP 메서드 (GET,POST등) 처리\n",
    "Flask를 이용하여 GET, POST, PUT, DELETE 메서드를 처리하는 API를 구현\n",
    "\n",
    "- GET /data : 저장된 모든 데이터를 반환\n",
    "- POST /data : 새로운 데이터를 추가 (key, value 필요)\n",
    "- PUT /data/<key> : 특정 key 값을 업데이트\n",
    "- DELETE /data/<key> : 특정 key 데이터를 삭제"
   ]
  },
  {
   "cell_type": "code",
   "execution_count": null,
   "id": "91c918f6-4f0c-48c7-9283-2ac04829b674",
   "metadata": {},
   "outputs": [
    {
     "name": "stdout",
     "output_type": "stream",
     "text": [
      " * Serving Flask app '__main__'\n",
      " * Debug mode: off\n"
     ]
    },
    {
     "name": "stderr",
     "output_type": "stream",
     "text": [
      "WARNING: This is a development server. Do not use it in a production deployment. Use a production WSGI server instead.\n",
      " * Running on http://127.0.0.1:5000\n",
      "Press CTRL+C to quit\n",
      "127.0.0.1 - - [31/Mar/2025 22:37:03] \"DELETE /data/name HTTP/1.1\" 404 -\n",
      "127.0.0.1 - - [31/Mar/2025 22:37:52] \"DELETE /data/name HTTP/1.1\" 404 -\n",
      "127.0.0.1 - - [31/Mar/2025 22:37:57] \"PUT /data/name HTTP/1.1\" 404 -\n",
      "127.0.0.1 - - [31/Mar/2025 22:38:02] \"POST /data HTTP/1.1\" 201 -\n",
      "127.0.0.1 - - [31/Mar/2025 22:38:08] \"GET /data HTTP/1.1\" 200 -\n",
      "127.0.0.1 - - [31/Mar/2025 22:38:16] \"POST /data HTTP/1.1\" 201 -\n",
      "127.0.0.1 - - [31/Mar/2025 22:38:18] \"PUT /data/name HTTP/1.1\" 200 -\n",
      "127.0.0.1 - - [31/Mar/2025 22:38:23] \"DELETE /data/name HTTP/1.1\" 200 -\n",
      "127.0.0.1 - - [31/Mar/2025 22:38:28] \"DELETE /data/name HTTP/1.1\" 404 -\n",
      "127.0.0.1 - - [31/Mar/2025 22:38:32] \"PUT /data/name HTTP/1.1\" 404 -\n",
      "127.0.0.1 - - [31/Mar/2025 22:38:34] \"POST /data HTTP/1.1\" 201 -\n",
      "127.0.0.1 - - [31/Mar/2025 22:38:37] \"PUT /data/name HTTP/1.1\" 200 -\n",
      "127.0.0.1 - - [31/Mar/2025 22:38:43] \"DELETE /data/name HTTP/1.1\" 200 -\n"
     ]
    }
   ],
   "source": [
    "from flask import Flask, jsonify, request\n",
    "\n",
    "app = Flask(__name__)\n",
    "\n",
    "# 데이터 저장소 (간단한 딕셔너리 활용)\n",
    "data_store = {}\n",
    "\n",
    "@app.route('/')\n",
    "def home():\n",
    "    return \"Hello, Flask!\"\n",
    "\n",
    "@app.route('/data',methods=['GET'])\n",
    "def get_data():\n",
    "    return jsonify(data_store),200\n",
    "\n",
    "@app.route('/data',methods=['POST'])\n",
    "def creat_data():\n",
    "    new_data = request.json\n",
    "    key = new_data.get('key')\n",
    "    value = new_data.get('value')\n",
    "    if key and value:\n",
    "        data_store[key] = value\n",
    "        return jsonify({\"message\": \"Data added successfully\"}), 201\n",
    "    return jsonify({\"error\": \"Invalid data\"}), 400\n",
    "\n",
    "@app.route('/data/<key>',methods=['PUT'])\n",
    "def update_data(key):\n",
    "    if key not in data_store:\n",
    "        return jsonify({\"error\": \"Key not found\"}), 404\n",
    "\n",
    "    new_value = request.json.get('value')\n",
    "    if new_value:\n",
    "        data_store[key] = new_value\n",
    "        return jsonify({\"message\": \"Data updated successfully\"}), 200\n",
    "    return jsonify({\"error\": \"Invalid data\"}), 400\n",
    "\n",
    "@app.route('/data/<key>',methods=['DELETE'])\n",
    "def delete_data(key):\n",
    "    if key in data_store:\n",
    "        del data_store[key]\n",
    "        return jsonify({\"message\": \"Data deleted successfully\"}), 200\n",
    "\n",
    "    return jsonify({\"error\": \"Key not found\"}), 404\n",
    "\n",
    "if __name__ == '__main__':\n",
    "    app.run(debug=False)"
   ]
  },
  {
   "cell_type": "code",
   "execution_count": 10,
   "id": "7c78edc4-8126-4ece-a063-c7e51fc187d9",
   "metadata": {},
   "outputs": [
    {
     "name": "stdout",
     "output_type": "stream",
     "text": [
      "None\n"
     ]
    }
   ],
   "source": [
    "a = {'key':'name'}\n",
    "# a['key2']   # KeyError\n",
    "print(a.get('key2'))  # 사전에서 key가 없어도 오류를 발생시키지 않음"
   ]
  },
  {
   "cell_type": "code",
   "execution_count": 13,
   "id": "215ac74a-457b-4ae9-9ae6-21b8c96b6ff9",
   "metadata": {},
   "outputs": [
    {
     "name": "stdout",
     "output_type": "stream",
     "text": [
      "True\n"
     ]
    }
   ],
   "source": [
    "print(True and True)"
   ]
  },
  {
   "cell_type": "code",
   "execution_count": null,
   "id": "6ee5d5c7-512b-4528-8104-7eed1f91ac83",
   "metadata": {},
   "outputs": [],
   "source": []
  }
 ],
 "metadata": {
  "kernelspec": {
   "display_name": "Python 3 (ipykernel)",
   "language": "python",
   "name": "python3"
  },
  "language_info": {
   "codemirror_mode": {
    "name": "ipython",
    "version": 3
   },
   "file_extension": ".py",
   "mimetype": "text/x-python",
   "name": "python",
   "nbconvert_exporter": "python",
   "pygments_lexer": "ipython3",
   "version": "3.12.7"
  }
 },
 "nbformat": 4,
 "nbformat_minor": 5
}
