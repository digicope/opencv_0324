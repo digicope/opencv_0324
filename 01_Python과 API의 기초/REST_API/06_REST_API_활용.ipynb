{
 "cells": [
  {
   "cell_type": "markdown",
   "id": "8eb26c98-1df8-4db7-9320-7de976612d35",
   "metadata": {},
   "source": [
    "# REST API 활용\n",
    "### 1️⃣ 다중 API 호출 패턴\n",
    "여러 개의 엔드포인트를 활용하여 데이터를 조합할 때는 다음과 같은 패턴이 사용된다.\n",
    "\n",
    "#### ① 순차적 API 호출\n",
    "한 API 호출의 결과를 기반으로 다음 API를 호출하는 방식.\n",
    "예제: 사용자 정보를 조회한 후, 해당 사용자의 주문 정보를 가져오기"
   ]
  },
  {
   "cell_type": "code",
   "execution_count": 2,
   "id": "ab60b9d3-b604-4c5e-8991-6e8f4179cf5b",
   "metadata": {},
   "outputs": [
    {
     "name": "stdout",
     "output_type": "stream",
     "text": [
      "{'userId': 1, 'id': 1, 'title': 'sunt aut facere repellat provident occaecati excepturi optio reprehenderit', 'body': 'quia et suscipit\\nsuscipit recusandae consequuntur expedita et cum\\nreprehenderit molestiae ut ut quas totam\\nnostrum rerum est autem sunt rem eveniet architecto'}\n"
     ]
    }
   ],
   "source": [
    "import requests\n",
    "\n",
    "# 1. 예)사용자 정보 조회\n",
    "# user_response = requests.get(\"https://api.example.com/users/123\")\n",
    "user_response = requests.get(\"https://jsonplaceholder.typicode.com/posts/1\")\n",
    "user_data = user_response.json()\n",
    "\n",
    "# 2. 예) 사용자의 주문 정보 조회\n",
    "# orders_response = requests.get(f\"https://api.example.com/orders?user_id={user_data['id']}\")\n",
    "orders_response = requests.get(f\"https://jsonplaceholder.typicode.com/posts/1?user_id={user_data['id']}\") # 실습용 가짜 데이터임\n",
    "orders_data = orders_response.json()\n",
    "\n",
    "print(orders_data)"
   ]
  },
  {
   "cell_type": "markdown",
   "id": "868d86e3-98d9-4178-9c7d-beb13ecd278f",
   "metadata": {},
   "source": [
    "#### ② 병렬 API 호출\n",
    "여러 개의 API를 동시에 호출하여 성능을 최적화하는 방식.\n",
    "예제: asyncio와 aiohttp를 사용한 비동기 API 호출\n",
    "- Jupyter Notebook 환경에서는 nest_asyncio를 적용하면 asyncio.run()을 사용할 수 있습니다."
   ]
  },
  {
   "cell_type": "code",
   "execution_count": 6,
   "id": "63e85fda-2a8a-47df-93a1-44f1ba6581b5",
   "metadata": {},
   "outputs": [
    {
     "name": "stdout",
     "output_type": "stream",
     "text": [
      "{'userId': 1, 'id': 1, 'title': 'sunt aut facere repellat provident occaecati excepturi optio reprehenderit', 'body': 'quia et suscipit\\nsuscipit recusandae consequuntur expedita et cum\\nreprehenderit molestiae ut ut quas totam\\nnostrum rerum est autem sunt rem eveniet architecto'} {'userId': 1, 'id': 1, 'title': 'sunt aut facere repellat provident occaecati excepturi optio reprehenderit', 'body': 'quia et suscipit\\nsuscipit recusandae consequuntur expedita et cum\\nreprehenderit molestiae ut ut quas totam\\nnostrum rerum est autem sunt rem eveniet architecto'}\n"
     ]
    }
   ],
   "source": [
    "import nest_asyncio\n",
    "import asyncio\n",
    "import aiohttp\n",
    "\n",
    "nest_asyncio.apply()  # Jupyter 환경에서 asyncio 실행 가능하게 설정\n",
    "\n",
    "async def fetch_data(url):\n",
    "    async with aiohttp.ClientSession() as session:\n",
    "        async with session.get(url) as response:\n",
    "            return await response.json()\n",
    "\n",
    "async def main():\n",
    "    # user_url = \"https://api.example.com/users/123\"\n",
    "    # orders_url = \"https://api.example.com/orders?user_id=123\"\n",
    "\n",
    "    user_url = \"https://jsonplaceholder.typicode.com/posts/1\"\n",
    "    orders_url = \"https://jsonplaceholder.typicode.com/posts/1?user_id={user_data['id']}\"\n",
    "    \n",
    "    # 두 개의 API를 동시에 호출\n",
    "    user_data, orders_data = await asyncio.gather(\n",
    "        fetch_data(user_url),\n",
    "        fetch_data(orders_url)\n",
    "    )\n",
    "\n",
    "    print(user_data, orders_data)\n",
    "\n",
    "asyncio.run(main())\n"
   ]
  },
  {
   "cell_type": "markdown",
   "id": "8c42142a-88f8-4097-a06d-0b07141e36e0",
   "metadata": {},
   "source": [
    "### 2️⃣ 데이터 가공\n",
    "API로 가져온 데이터는 대부분 정제 및 가공 과정이 필요하다.\n",
    "\n",
    "(1) JSON 데이터 가공\n",
    "JSON 데이터에서 특정 필드만 추출하거나 변환하는 방법."
   ]
  },
  {
   "cell_type": "code",
   "execution_count": 7,
   "id": "46238c8d-7c87-405b-bbec-6b5b5f7474f1",
   "metadata": {},
   "outputs": [
    {
     "name": "stdout",
     "output_type": "stream",
     "text": [
      "{'id': 123, 'name': 'Jane Doe', 'total_orders': 2}\n"
     ]
    }
   ],
   "source": [
    "import json\n",
    "\n",
    "# 예제 JSON 데이터\n",
    "response_data = '''\n",
    "{\n",
    "    \"user\": {\n",
    "        \"id\": 123,\n",
    "        \"name\": \"Jane Doe\",\n",
    "        \"email\": \"jane.doe@example.com\"\n",
    "    },\n",
    "    \"orders\": [\n",
    "        {\"id\": 1, \"item\": \"Laptop\", \"price\": 1200},\n",
    "        {\"id\": 2, \"item\": \"Mouse\", \"price\": 50}\n",
    "    ]\n",
    "}\n",
    "'''\n",
    "\n",
    "# JSON 파싱\n",
    "data = json.loads(response_data)\n",
    "\n",
    "# 필요한 데이터만 가공\n",
    "user_info = {\n",
    "    \"id\": data[\"user\"][\"id\"],\n",
    "    \"name\": data[\"user\"][\"name\"],\n",
    "    \"total_orders\": len(data[\"orders\"])\n",
    "}\n",
    "\n",
    "print(user_info)"
   ]
  },
  {
   "cell_type": "markdown",
   "id": "43600ea5-a7d8-438e-96e8-bf5f73b77142",
   "metadata": {},
   "source": [
    "(2) Pandas를 활용한 데이터 정리\n",
    "- REST API 응답 데이터를 Pandas 데이터프레임으로 변환하여 분석."
   ]
  },
  {
   "cell_type": "code",
   "execution_count": 4,
   "id": "acda58eb-02c2-4c3c-afed-eb42bb1552ec",
   "metadata": {},
   "outputs": [
    {
     "data": {
      "text/html": [
       "<div>\n",
       "<style scoped>\n",
       "    .dataframe tbody tr th:only-of-type {\n",
       "        vertical-align: middle;\n",
       "    }\n",
       "\n",
       "    .dataframe tbody tr th {\n",
       "        vertical-align: top;\n",
       "    }\n",
       "\n",
       "    .dataframe thead th {\n",
       "        text-align: right;\n",
       "    }\n",
       "</style>\n",
       "<table border=\"1\" class=\"dataframe\">\n",
       "  <thead>\n",
       "    <tr style=\"text-align: right;\">\n",
       "      <th></th>\n",
       "      <th>id</th>\n",
       "      <th>item</th>\n",
       "      <th>price</th>\n",
       "      <th>total_price</th>\n",
       "    </tr>\n",
       "  </thead>\n",
       "  <tbody>\n",
       "    <tr>\n",
       "      <th>0</th>\n",
       "      <td>1</td>\n",
       "      <td>Laptop</td>\n",
       "      <td>1200</td>\n",
       "      <td>1320.0</td>\n",
       "    </tr>\n",
       "    <tr>\n",
       "      <th>1</th>\n",
       "      <td>2</td>\n",
       "      <td>Mouse</td>\n",
       "      <td>50</td>\n",
       "      <td>55.0</td>\n",
       "    </tr>\n",
       "    <tr>\n",
       "      <th>2</th>\n",
       "      <td>3</td>\n",
       "      <td>Keyboard</td>\n",
       "      <td>100</td>\n",
       "      <td>110.0</td>\n",
       "    </tr>\n",
       "  </tbody>\n",
       "</table>\n",
       "</div>"
      ],
      "text/plain": [
       "   id      item  price  total_price\n",
       "0   1    Laptop   1200       1320.0\n",
       "1   2     Mouse     50         55.0\n",
       "2   3  Keyboard    100        110.0"
      ]
     },
     "execution_count": 4,
     "metadata": {},
     "output_type": "execute_result"
    }
   ],
   "source": [
    "import pandas as pd\n",
    "\n",
    "# API 응답 데이터\n",
    "orders = [\n",
    "    {\"id\": 1, \"item\": \"Laptop\", \"price\": 1200},\n",
    "    {\"id\": 2, \"item\": \"Mouse\", \"price\": 50},\n",
    "    {\"id\": 3, \"item\": \"Keyboard\", \"price\": 100}\n",
    "]\n",
    "\n",
    "# 데이터프레임 변환\n",
    "df = pd.DataFrame(orders)\n",
    "\n",
    "# 총 가격 계산\n",
    "df[\"total_price\"] = df[\"price\"] * 1.1  # 부가세 10% 적용\n",
    "\n",
    "df"
   ]
  },
  {
   "cell_type": "markdown",
   "id": "c3f6063a-edb4-40ba-9eca-a988428789b3",
   "metadata": {},
   "source": [
    "#### (3) API 데이터 필터링 및 정렬\n",
    "- 특정 조건을 만족하는 데이터만 필터링하고 정렬할 수도 있다."
   ]
  },
  {
   "cell_type": "code",
   "execution_count": 7,
   "id": "12e2f2c0-9c84-4f18-8d61-d470a507f6c4",
   "metadata": {},
   "outputs": [
    {
     "data": {
      "text/html": [
       "<div>\n",
       "<style scoped>\n",
       "    .dataframe tbody tr th:only-of-type {\n",
       "        vertical-align: middle;\n",
       "    }\n",
       "\n",
       "    .dataframe tbody tr th {\n",
       "        vertical-align: top;\n",
       "    }\n",
       "\n",
       "    .dataframe thead th {\n",
       "        text-align: right;\n",
       "    }\n",
       "</style>\n",
       "<table border=\"1\" class=\"dataframe\">\n",
       "  <thead>\n",
       "    <tr style=\"text-align: right;\">\n",
       "      <th></th>\n",
       "      <th>id</th>\n",
       "      <th>item</th>\n",
       "      <th>price</th>\n",
       "      <th>total_price</th>\n",
       "    </tr>\n",
       "  </thead>\n",
       "  <tbody>\n",
       "    <tr>\n",
       "      <th>0</th>\n",
       "      <td>1</td>\n",
       "      <td>Laptop</td>\n",
       "      <td>1200</td>\n",
       "      <td>1320.0</td>\n",
       "    </tr>\n",
       "    <tr>\n",
       "      <th>2</th>\n",
       "      <td>3</td>\n",
       "      <td>Keyboard</td>\n",
       "      <td>100</td>\n",
       "      <td>110.0</td>\n",
       "    </tr>\n",
       "  </tbody>\n",
       "</table>\n",
       "</div>"
      ],
      "text/plain": [
       "   id      item  price  total_price\n",
       "0   1    Laptop   1200       1320.0\n",
       "2   3  Keyboard    100        110.0"
      ]
     },
     "execution_count": 7,
     "metadata": {},
     "output_type": "execute_result"
    }
   ],
   "source": [
    "# price가 100달러 이상인 주문만 필터링 후 가격 기준으로 정렬\n",
    "filtered_df = df[df[\"price\"] >= 100].sort_values(by=\"price\", ascending=False)\n",
    "\n",
    "filtered_df"
   ]
  },
  {
   "cell_type": "markdown",
   "id": "5a358e5e-602f-4097-adcf-662d1a77cfa1",
   "metadata": {},
   "source": [
    "### 3️⃣ REST API 데이터 활용 예제\n",
    "#### (1) 외부 API 활용 예제 - OpenWeather API\n",
    "- 날씨 데이터를 가져와서 현재 온도를 출력하는 예제."
   ]
  },
  {
   "cell_type": "code",
   "execution_count": 12,
   "id": "d8e89020-64e3-4eca-beea-cb62455e6634",
   "metadata": {},
   "outputs": [
    {
     "data": {
      "text/plain": [
       "{'cod': 401,\n",
       " 'message': 'Invalid API key. Please see https://openweathermap.org/faq#error401 for more info.'}"
      ]
     },
     "execution_count": 12,
     "metadata": {},
     "output_type": "execute_result"
    }
   ],
   "source": [
    "import requests\n",
    "\n",
    "API_KEY = \"your_api_key\"  # 실제 https://openweathermap.org/ 사이트에 무료/유료 서비스 구독해야 사용가능하다\n",
    "city = \"Seoul\"\n",
    "url = f\"http://api.openweathermap.org/data/2.5/weather?q={city}&appid={API_KEY}&units=metric\"\n",
    "\n",
    "response = requests.get(url)\n",
    "weather_data = response.json()\n",
    "\n",
    "# 필요한 데이터만 출력 : 이 소스는 API Key 미 사용으로 결과 데이터 얻을 수 없음\n",
    "# current_temp = weather_data[\"main\"][\"temp\"]\n",
    "# print(f\"{city}의 현재 온도: {current_temp}°C\")\n",
    "\n",
    "weather_data"
   ]
  },
  {
   "cell_type": "markdown",
   "id": "f6f20a51-1340-40fc-88ce-f0df8bc9bcd1",
   "metadata": {},
   "source": [
    "#### (2) 웹훅(Webhook) 활용\n",
    "- 특정 이벤트 발생 시 API 호출을 자동화\n",
    "예: 사용자가 가입하면 이메일 API를 호출하여 환영 이메일 발송"
   ]
  },
  {
   "cell_type": "code",
   "execution_count": 14,
   "id": "37a9179b-1f53-48d6-a065-67dfaa778454",
   "metadata": {},
   "outputs": [],
   "source": [
    "import requests\n",
    "\n",
    "# 이메일 API 엔드포인트 (예제) --> 실제 이메일 API가 아니라 실행 안됨\n",
    "email_api_url = \"https://api.emailservice.com/send\"\n",
    "\n",
    "# 이메일 전송 데이터\n",
    "payload = {\n",
    "    \"to\": \"jane.doe@example.com\",\n",
    "    \"subject\": \"Welcome!\",\n",
    "    \"body\": \"Jane, 환영합니다!\"\n",
    "}\n",
    "\n",
    "# POST 요청 보내기\n",
    "# response = requests.post(email_api_url, json=payload)\n",
    "# print(response.status_code, response.json())"
   ]
  },
  {
   "cell_type": "raw",
   "id": "a64a4296-81f3-4b69-a575-e00ce7bc6d87",
   "metadata": {},
   "source": [
    "실제 이메일 전송이 가능하도록 수정하기\n",
    "이메일 전송을 위해 SendGrid, Mailgun, SMTP (Gmail) 등의 실제 이메일 서비스 API를 사용해야 합니다. 여기서는 SendGrid API를 사용하는 방법을 설명하겠습니다.\n",
    "\n",
    "SendGrid API를 이용한 이메일 전송 예제\n",
    "SendGrid에서 계정을 만들고 API 키를 발급받는다.\n",
    "아래 코드를 사용하여 이메일을 보낸다."
   ]
  },
  {
   "cell_type": "code",
   "execution_count": null,
   "id": "9da5d135-0bc5-46aa-846e-db51f0c4358d",
   "metadata": {},
   "outputs": [],
   "source": [
    "import requests\n",
    "\n",
    "# SendGrid API 엔드포인트\n",
    "email_api_url = \"https://api.sendgrid.com/v3/mail/send\"\n",
    "\n",
    "# SendGrid API 키 (환경 변수로 관리 권장)\n",
    "API_KEY = \"YOUR_SENDGRID_API_KEY\"\n",
    "\n",
    "# 이메일 전송 데이터\n",
    "payload = {\n",
    "    \"personalizations\": [\n",
    "        {\n",
    "            \"to\": [{\"email\": \"jane.doe@example.com\"}],\n",
    "            \"subject\": \"Welcome!\"\n",
    "        }\n",
    "    ],\n",
    "    \"from\": {\"email\": \"your_email@example.com\"},\n",
    "    \"content\": [{\"type\": \"text/plain\", \"value\": \"Jane, 환영합니다!\"}]\n",
    "}\n",
    "\n",
    "# 헤더 설정\n",
    "headers = {\n",
    "    \"Authorization\": f\"Bearer {API_KEY}\",\n",
    "    \"Content-Type\": \"application/json\"\n",
    "}\n",
    "\n",
    "# POST 요청 보내기\n",
    "response = requests.post(email_api_url, headers=headers, json=payload)\n",
    "\n",
    "# 응답 출력\n",
    "print(response.status_code, response.json() if response.status_code != 202 else \"Email Sent Successfully!\")"
   ]
  },
  {
   "cell_type": "raw",
   "id": "152990d7-da28-4674-95d6-b93a90a5086f",
   "metadata": {},
   "source": [
    "SMTP(Gmail)로 이메일 보내기\n",
    "Gmail SMTP를 사용하면 Python에서 직접 이메일을 보낼 수도 있습니다."
   ]
  },
  {
   "cell_type": "code",
   "execution_count": null,
   "id": "7e32ec26-29b3-4cec-a8cb-f6223a117d64",
   "metadata": {},
   "outputs": [],
   "source": [
    "# import smtplib\n",
    "# from email.mime.text import MIMEText\n",
    "\n",
    "# # SMTP 서버 설정\n",
    "# SMTP_SERVER = \"smtp.gmail.com\"\n",
    "# SMTP_PORT = 587\n",
    "# EMAIL_ADDRESS = \"your_email@gmail.com\"  # Gmail 주소\n",
    "# EMAIL_PASSWORD = \"your_app_password\"   # 앱 비밀번호 사용 (일반 비밀번호 X)\n",
    "\n",
    "# # 이메일 내용 설정\n",
    "# msg = MIMEText(\"Jane, 환영합니다!\")\n",
    "# msg[\"Subject\"] = \"Welcome!\"\n",
    "# msg[\"From\"] = EMAIL_ADDRESS\n",
    "# msg[\"To\"] = \"jane.doe@example.com\"\n",
    "\n",
    "# # SMTP 서버 연결 및 이메일 전송\n",
    "# with smtplib.SMTP(SMTP_SERVER, SMTP_PORT) as server:\n",
    "#     server.starttls()\n",
    "#     server.login(EMAIL_ADDRESS, EMAIL_PASSWORD)\n",
    "#     server.sendmail(EMAIL_ADDRESS, \"jane.doe@example.com\", msg.as_string())\n",
    "\n",
    "# print(\"Email Sent Successfully!\")"
   ]
  },
  {
   "cell_type": "code",
   "execution_count": null,
   "id": "5f4032a8-6608-415d-94e3-9e64b2b4e5a6",
   "metadata": {},
   "outputs": [],
   "source": []
  }
 ],
 "metadata": {
  "kernelspec": {
   "display_name": "Python 3 (ipykernel)",
   "language": "python",
   "name": "python3"
  },
  "language_info": {
   "codemirror_mode": {
    "name": "ipython",
    "version": 3
   },
   "file_extension": ".py",
   "mimetype": "text/x-python",
   "name": "python",
   "nbconvert_exporter": "python",
   "pygments_lexer": "ipython3",
   "version": "3.10.12"
  }
 },
 "nbformat": 4,
 "nbformat_minor": 5
}
