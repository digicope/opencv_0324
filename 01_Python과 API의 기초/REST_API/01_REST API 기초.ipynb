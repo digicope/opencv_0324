{
 "cells": [
  {
   "cell_type": "markdown",
   "id": "ffdc81a0-02d4-4233-8479-afc69c8c2dac",
   "metadata": {},
   "source": [
    "## 파이썬 requests 라이브러리 사용 REST API 사용\n",
    "#\n",
    "### [1] GET 요청 : 서버에서 데이터 가져오기"
   ]
  },
  {
   "cell_type": "markdown",
   "id": "524ae553-70e1-4a46-96dc-217e87c64167",
   "metadata": {},
   "source": [
    "- jsonplaceholder.typicode.com은 개발자들이 REST API를 테스트할 수 있도록 제공하는 무료 가짜(API Mock) JSON 데이터 서버이다.\n",
    "  실제 데이터베이스를 필요로 하지 않고, 간단한 HTTP 요청을 통해 JSON 형식의 응답을 받을 수 있습니다. 인증 불필요, JSON 응답 제공,\n",
    "  사용자(User), 게시글(Post), 댓글(Comment), 사진(Photo), 할 일(To-Do) 등 다양한 샘플 리소스를 포함하고 있습니다.\n",
    "- 데이터가 실제로 저장되지 않음 → POST/PUT/DELETE 요청은 성공해도 실제 변경 사항은 반영되지 않음  "
   ]
  },
  {
   "cell_type": "code",
   "execution_count": 21,
   "id": "75534433-9c7a-4eae-84ce-c4b859b9dbda",
   "metadata": {},
   "outputs": [
    {
     "name": "stdout",
     "output_type": "stream",
     "text": [
      "GET 요청 성공: {'userId': 1, 'id': 1, 'title': 'sunt aut facere repellat provident occaecati excepturi optio reprehenderit', 'body': 'quia et suscipit\\nsuscipit recusandae consequuntur expedita et cum\\nreprehenderit molestiae ut ut quas totam\\nnostrum rerum est autem sunt rem eveniet architecto'}\n"
     ]
    }
   ],
   "source": [
    "import requests\n",
    "\n",
    "url = \"https://jsonplaceholder.typicode.com/posts/1\"   # API 엔드포인트\n",
    "\n",
    "response = requests.get(url)                           # requests.get(url)을 사용하여 데이터를 가져옴\n",
    "\n",
    "# print(type(response))  # <class 'requests.models.Response'>\n",
    "# print(response)\n",
    "\n",
    "# print(response.json())\n",
    "# print(response.status_code)\n",
    "\n",
    "if response.status_code == 200:                       # 응답이 200(성공)인지 확인 후 JSON 데이터를 출력\n",
    "    print(\"GET 요청 성공:\", response.json())           # 데이터를 JSON 형식으로 변환  -> dict로 반환\n",
    "else:\n",
    "    print(\"GET 요청 실패:\", response.status_code)\n"
   ]
  },
  {
   "cell_type": "code",
   "execution_count": 19,
   "id": "356cc4bb-1236-42c2-8844-eb4e312d84e0",
   "metadata": {},
   "outputs": [
    {
     "name": "stdout",
     "output_type": "stream",
     "text": [
      "<class 'dict'>\n",
      "sunt aut facere repellat provident occaecati excepturi optio reprehenderit\n"
     ]
    }
   ],
   "source": [
    "response = requests.get(url)   \n",
    "data = response.json()\n",
    "print(type(data))   # dict\n",
    "print(data['title'])"
   ]
  },
  {
   "cell_type": "code",
   "execution_count": 30,
   "id": "62cd8e0b-e906-4c56-b7f3-1d9ed5280534",
   "metadata": {
    "scrolled": true
   },
   "outputs": [
    {
     "data": {
      "text/plain": [
       "[{'userId': 1,\n",
       "  'id': 1,\n",
       "  'title': 'sunt aut facere repellat provident occaecati excepturi optio reprehenderit',\n",
       "  'body': 'quia et suscipit\\nsuscipit recusandae consequuntur expedita et cum\\nreprehenderit molestiae ut ut quas totam\\nnostrum rerum est autem sunt rem eveniet architecto'},\n",
       " {'userId': 1,\n",
       "  'id': 2,\n",
       "  'title': 'qui est esse',\n",
       "  'body': 'est rerum tempore vitae\\nsequi sint nihil reprehenderit dolor beatae ea dolores neque\\nfugiat blanditiis voluptate porro vel nihil molestiae ut reiciendis\\nqui aperiam non debitis possimus qui neque nisi nulla'},\n",
       " {'userId': 1,\n",
       "  'id': 3,\n",
       "  'title': 'ea molestias quasi exercitationem repellat qui ipsa sit aut',\n",
       "  'body': 'et iusto sed quo iure\\nvoluptatem occaecati omnis eligendi aut ad\\nvoluptatem doloribus vel accusantium quis pariatur\\nmolestiae porro eius odio et labore et velit aut'},\n",
       " {'userId': 1,\n",
       "  'id': 4,\n",
       "  'title': 'eum et est occaecati',\n",
       "  'body': 'ullam et saepe reiciendis voluptatem adipisci\\nsit amet autem assumenda provident rerum culpa\\nquis hic commodi nesciunt rem tenetur doloremque ipsam iure\\nquis sunt voluptatem rerum illo velit'},\n",
       " {'userId': 1,\n",
       "  'id': 5,\n",
       "  'title': 'nesciunt quas odio',\n",
       "  'body': 'repudiandae veniam quaerat sunt sed\\nalias aut fugiat sit autem sed est\\nvoluptatem omnis possimus esse voluptatibus quis\\nest aut tenetur dolor neque'},\n",
       " {'userId': 1,\n",
       "  'id': 6,\n",
       "  'title': 'dolorem eum magni eos aperiam quia',\n",
       "  'body': 'ut aspernatur corporis harum nihil quis provident sequi\\nmollitia nobis aliquid molestiae\\nperspiciatis et ea nemo ab reprehenderit accusantium quas\\nvoluptate dolores velit et doloremque molestiae'},\n",
       " {'userId': 1,\n",
       "  'id': 7,\n",
       "  'title': 'magnam facilis autem',\n",
       "  'body': 'dolore placeat quibusdam ea quo vitae\\nmagni quis enim qui quis quo nemo aut saepe\\nquidem repellat excepturi ut quia\\nsunt ut sequi eos ea sed quas'},\n",
       " {'userId': 1,\n",
       "  'id': 8,\n",
       "  'title': 'dolorem dolore est ipsam',\n",
       "  'body': 'dignissimos aperiam dolorem qui eum\\nfacilis quibusdam animi sint suscipit qui sint possimus cum\\nquaerat magni maiores excepturi\\nipsam ut commodi dolor voluptatum modi aut vitae'},\n",
       " {'userId': 1,\n",
       "  'id': 9,\n",
       "  'title': 'nesciunt iure omnis dolorem tempora et accusantium',\n",
       "  'body': 'consectetur animi nesciunt iure dolore\\nenim quia ad\\nveniam autem ut quam aut nobis\\net est aut quod aut provident voluptas autem voluptas'},\n",
       " {'userId': 1,\n",
       "  'id': 10,\n",
       "  'title': 'optio molestias id quia eum',\n",
       "  'body': 'quo et expedita modi cum officia vel magni\\ndoloribus qui repudiandae\\nvero nisi sit\\nquos veniam quod sed accusamus veritatis error'}]"
      ]
     },
     "execution_count": 30,
     "metadata": {},
     "output_type": "execute_result"
    }
   ],
   "source": [
    "user_id = 1\n",
    "response = requests.get(f'https://jsonplaceholder.typicode.com/posts?userId={user_id}')\n",
    "response.json()"
   ]
  },
  {
   "cell_type": "markdown",
   "id": "9199086f-acea-4eff-bebf-7038a564ad4d",
   "metadata": {},
   "source": [
    "### [2] POST 요청 : 새로운 데이터 생성"
   ]
  },
  {
   "cell_type": "code",
   "execution_count": 40,
   "id": "360a1af9-2529-44a2-8e85-a52eb96360ae",
   "metadata": {},
   "outputs": [
    {
     "name": "stdout",
     "output_type": "stream",
     "text": [
      "POST 요청 성공: {'userId': 1, 'tittle': '새로운 제목', 'body': '이것은 본문입니다', 'id': 101}\n"
     ]
    }
   ],
   "source": [
    "import requests\n",
    "\n",
    "url = \"https://jsonplaceholder.typicode.com/posts\"   # API 엔드포인트\n",
    "data = {\n",
    "    'userId' : 1, \n",
    "    'tittle' : '새로운 제목', \n",
    "    'body' : '이것은 본문입니다' \n",
    "}\n",
    "\n",
    "response = requests.post(url,json=data)     # data를 서버에 전송\n",
    "\n",
    "# print(response)  # <Response [201]>\n",
    "\n",
    "if response.status_code == 201:                       # 응답이 201(생성 성공)인지 확인 후 JSON 데이터를 출력\n",
    "    print(\"POST 요청 성공:\", response.json())           # 데이터를 JSON 형식으로 변환  -> dict로 반환\n",
    "else:\n",
    "    print(\"POST 요청 실패:\", response.status_code)\n"
   ]
  },
  {
   "cell_type": "markdown",
   "id": "febd380b-e52e-4e31-ba88-f636d1d79ba0",
   "metadata": {},
   "source": [
    "### [3] PUT 요청 : 기존 데이터 수정"
   ]
  },
  {
   "cell_type": "code",
   "execution_count": 51,
   "id": "0cad150a-3c45-4b79-8a8a-259c55a0cb8c",
   "metadata": {},
   "outputs": [
    {
     "name": "stdout",
     "output_type": "stream",
     "text": [
      "PUT 요청 성공: {'id': 1, 'title': '수정된 제목', 'body': '수정된 본문 내용입니다.', 'userId': 1}\n"
     ]
    }
   ],
   "source": [
    "import requests\n",
    "\n",
    "url = \"https://jsonplaceholder.typicode.com/posts/1\"   # API 엔드포인트\n",
    "data = {\n",
    "    \"id\": 1,\n",
    "    \"title\": \"수정된 제목\",\n",
    "    \"body\": \"수정된 본문 내용입니다.\",\n",
    "    \"userId\": 1\n",
    "}\n",
    "\n",
    "response = requests.put(url,json=data)     # 기존 데이터를 수정\n",
    "                                           # 모든 필드를 포함해야 하며, 일부 필드만 수정하려면 PATCH 요청을 사용해야 한다\n",
    "\n",
    "# print(response)  # <Response [200]>\n",
    "\n",
    "if response.status_code == 200:                       # 응답이 201(생성 성공)인지 확인 후 JSON 데이터를 출력\n",
    "    print(\"PUT 요청 성공:\", response.json())           # 데이터를 JSON 형식으로 변환  -> dict로 반환\n",
    "else:\n",
    "    print(\"PUT 요청 실패:\", response.status_code)\n"
   ]
  },
  {
   "cell_type": "code",
   "execution_count": null,
   "id": "9b7f4431-0cc5-4f91-86d5-87fa51d53718",
   "metadata": {},
   "outputs": [],
   "source": []
  }
 ],
 "metadata": {
  "kernelspec": {
   "display_name": "Python 3 (ipykernel)",
   "language": "python",
   "name": "python3"
  },
  "language_info": {
   "codemirror_mode": {
    "name": "ipython",
    "version": 3
   },
   "file_extension": ".py",
   "mimetype": "text/x-python",
   "name": "python",
   "nbconvert_exporter": "python",
   "pygments_lexer": "ipython3",
   "version": "3.12.7"
  }
 },
 "nbformat": 4,
 "nbformat_minor": 5
}
