{
 "cells": [
  {
   "cell_type": "markdown",
   "id": "44baeda1-9bcd-4c31-baef-94feb818af4d",
   "metadata": {},
   "source": [
    "# Flask를 사용한 API 인증 및 키 관리\n",
    "### 1️⃣ Flask 기본 API 코드"
   ]
  },
  {
   "cell_type": "code",
   "execution_count": 1,
   "id": "87ef1d34-a5b6-451f-86e8-75e8042b4095",
   "metadata": {},
   "outputs": [
    {
     "name": "stdout",
     "output_type": "stream",
     "text": [
      " * Serving Flask app '__main__'\n",
      " * Debug mode: off\n"
     ]
    },
    {
     "name": "stderr",
     "output_type": "stream",
     "text": [
      "WARNING: This is a development server. Do not use it in a production deployment. Use a production WSGI server instead.\n",
      " * Running on http://127.0.0.1:5000\n",
      "Press CTRL+C to quit\n",
      "127.0.0.1 - - [01/Apr/2025 19:19:05] \"GET / HTTP/1.1\" 404 -\n",
      "127.0.0.1 - - [01/Apr/2025 19:19:05] \"GET /favicon.ico HTTP/1.1\" 404 -\n",
      "127.0.0.1 - - [01/Apr/2025 19:19:15] \"GET /api/data HTTP/1.1\" 200 -\n"
     ]
    }
   ],
   "source": [
    "from flask import Flask, jsonify, request\n",
    "\n",
    "app = Flask(__name__)\n",
    "\n",
    "@app.route('/api/data', methods=['GET'])\n",
    "def get_data():\n",
    "    return jsonify({\"message\": \"Hello, API!\"})\n",
    "\n",
    "if __name__ == '__main__':\n",
    "    app.run(debug=False)"
   ]
  },
  {
   "cell_type": "markdown",
   "id": "9fc685bd-99d2-455e-a22f-188b8f30ea67",
   "metadata": {},
   "source": [
    "### 2️⃣ API 키를 사용한 인증\n",
    "- 클라이언트가 보낸 Authorization 헤더에서 API 키를 확인"
   ]
  },
  {
   "cell_type": "code",
   "execution_count": 4,
   "id": "7e0a78bd-5e89-42a0-b6bf-5e13e3fc71ae",
   "metadata": {},
   "outputs": [
    {
     "name": "stdout",
     "output_type": "stream",
     "text": [
      " * Serving Flask app '__main__'\n",
      " * Debug mode: off\n"
     ]
    },
    {
     "name": "stderr",
     "output_type": "stream",
     "text": [
      "WARNING: This is a development server. Do not use it in a production deployment. Use a production WSGI server instead.\n",
      " * Running on http://127.0.0.1:5000\n",
      "Press CTRL+C to quit\n",
      "127.0.0.1 - - [01/Apr/2025 20:03:39] \"GET /api/data HTTP/1.1\" 401 -\n"
     ]
    }
   ],
   "source": [
    "from flask import Flask, jsonify, request\n",
    "\n",
    "app = Flask(__name__)\n",
    "\n",
    "API_KEY = \"my_secret_api_key_1234\"  # API 키 설정\n",
    "\n",
    "# 요청 API 키를 검증하는 함수\n",
    "def verify_api_key(request):\n",
    "    api_key = request.headers.get(\"Authorization\")\n",
    "    if api_key and api_key == f\"Bearer {API_KEY}\":\n",
    "        return True\n",
    "    return False   \n",
    "\n",
    "@app.route('/api/data', methods=['GET'])\n",
    "def get_data():\n",
    "    if not verify_api_key(request):\n",
    "        return jsonify({\"error\": \"Unauthorized!\"}), 401\n",
    "        \n",
    "    return jsonify({\"message\": \"Authenticated!\", \"data\": [1,2,3,4,5]})\n",
    "\n",
    "if __name__ == '__main__':\n",
    "    app.run(debug=False)\n",
    "\n",
    "# http://127.0.0.1:5000/api/data"
   ]
  },
  {
   "cell_type": "markdown",
   "id": "d14ce252-590b-4fc8-bd33-05421f4783b0",
   "metadata": {},
   "source": [
    "### 3️⃣ 쿼리 파라미터로 API 키 인증\n",
    "- API 키를 헤더가 아니라 URL 파라미터로 전달"
   ]
  },
  {
   "cell_type": "code",
   "execution_count": 5,
   "id": "b1b8978e-52fa-416b-9036-cebbafa8b5eb",
   "metadata": {},
   "outputs": [
    {
     "name": "stdout",
     "output_type": "stream",
     "text": [
      " * Serving Flask app '__main__'\n",
      " * Debug mode: off\n"
     ]
    },
    {
     "name": "stderr",
     "output_type": "stream",
     "text": [
      "WARNING: This is a development server. Do not use it in a production deployment. Use a production WSGI server instead.\n",
      " * Running on http://127.0.0.1:5000\n",
      "Press CTRL+C to quit\n",
      "127.0.0.1 - - [01/Apr/2025 20:16:15] \"GET /api/data?api_key=my_secret_api_key_1234 HTTP/1.1\" 200 -\n",
      "127.0.0.1 - - [01/Apr/2025 20:16:45] \"GET /api/data?api_key=my_secret_api_key_1234 HTTP/1.1\" 200 -\n",
      "127.0.0.1 - - [01/Apr/2025 20:16:57] \"GET /api/data?api_key=my_secret_api_key_12345 HTTP/1.1\" 401 -\n",
      "127.0.0.1 - - [01/Apr/2025 20:17:06] \"GET /api/data HTTP/1.1\" 401 -\n",
      "127.0.0.1 - - [01/Apr/2025 20:17:12] \"GET /api/data?api_key=my_secret_api_key_1234 HTTP/1.1\" 200 -\n",
      "127.0.0.1 - - [01/Apr/2025 20:17:22] \"GET /api/data HTTP/1.1\" 401 -\n",
      "127.0.0.1 - - [01/Apr/2025 20:17:32] \"GET /api/data HTTP/1.1\" 401 -\n"
     ]
    }
   ],
   "source": [
    "from flask import Flask, jsonify, request\n",
    "\n",
    "app = Flask(__name__)\n",
    "\n",
    "API_KEY = \"my_secret_api_key_1234\"  # API 키 설정\n",
    "\n",
    "@app.route('/api/data', methods=['GET'])\n",
    "def get_data():\n",
    "    api_key = request.args.get(\"api_key\")\n",
    "    if not api_key or api_key != API_KEY:\n",
    "        return jsonify({\"error\": \"Unauthorized!\"}), 401\n",
    "        \n",
    "    return jsonify({\"message\": \"Authenticated!\", \"data\": [1,2,3,4,5]})\n",
    "\n",
    "if __name__ == '__main__':\n",
    "    app.run(debug=False)"
   ]
  },
  {
   "cell_type": "markdown",
   "id": "5957f5f7-2c61-4f8a-bc6c-b52e21349365",
   "metadata": {},
   "source": [
    "### 4️⃣ 보안 강화 : Flask-Limiter를 적용한 API 예제"
   ]
  },
  {
   "cell_type": "code",
   "execution_count": 10,
   "id": "34ffb129-3b5b-41bc-afad-b20102d50df5",
   "metadata": {},
   "outputs": [],
   "source": [
    "# Flask-Limiter 설치\n",
    "# !pip install flask_limiter"
   ]
  },
  {
   "cell_type": "code",
   "execution_count": 12,
   "id": "1eaf4148-21a1-438a-830d-96b0ac31e9fa",
   "metadata": {},
   "outputs": [
    {
     "name": "stdout",
     "output_type": "stream",
     "text": [
      " * Serving Flask app '__main__'\n",
      " * Debug mode: off\n"
     ]
    },
    {
     "name": "stderr",
     "output_type": "stream",
     "text": [
      "C:\\Users\\storm\\AppData\\Roaming\\Python\\Python312\\site-packages\\flask_limiter\\extension.py:324: UserWarning: Using the in-memory storage for tracking rate limits as no storage was explicitly specified. This is not recommended for production use. See: https://flask-limiter.readthedocs.io#configuring-a-storage-backend for documentation about configuring the storage backend.\n",
      "  warnings.warn(\n",
      "WARNING: This is a development server. Do not use it in a production deployment. Use a production WSGI server instead.\n",
      " * Running on http://127.0.0.1:5000\n",
      "Press CTRL+C to quit\n",
      "127.0.0.1 - - [01/Apr/2025 20:25:50] \"GET /api/data?api_key=my_secret_api_key_1234 HTTP/1.1\" 200 -\n",
      "127.0.0.1 - - [01/Apr/2025 20:25:53] \"GET /api/data?api_key=my_secret_api_key_1234 HTTP/1.1\" 200 -\n",
      "127.0.0.1 - - [01/Apr/2025 20:25:54] \"GET /api/data?api_key=my_secret_api_key_1234 HTTP/1.1\" 200 -\n",
      "127.0.0.1 - - [01/Apr/2025 20:25:55] \"GET /api/data?api_key=my_secret_api_key_1234 HTTP/1.1\" 200 -\n",
      "127.0.0.1 - - [01/Apr/2025 20:25:56] \"GET /api/data?api_key=my_secret_api_key_1234 HTTP/1.1\" 200 -\n",
      "127.0.0.1 - - [01/Apr/2025 20:25:57] \"GET /api/data?api_key=my_secret_api_key_1234 HTTP/1.1\" 429 -\n",
      "127.0.0.1 - - [01/Apr/2025 20:26:10] \"GET /api/data?api_key=my_secret_api_key_1234 HTTP/1.1\" 429 -\n",
      "127.0.0.1 - - [01/Apr/2025 20:27:34] \"GET /api/data?api_key=my_secret_api_key_1234 HTTP/1.1\" 200 -\n",
      "127.0.0.1 - - [01/Apr/2025 20:27:36] \"GET /api/data?api_key=my_secret_api_key_1234 HTTP/1.1\" 200 -\n",
      "127.0.0.1 - - [01/Apr/2025 20:27:37] \"GET /api/data?api_key=my_secret_api_key_1234 HTTP/1.1\" 200 -\n",
      "127.0.0.1 - - [01/Apr/2025 20:27:38] \"GET /api/data?api_key=my_secret_api_key_1234 HTTP/1.1\" 200 -\n",
      "127.0.0.1 - - [01/Apr/2025 20:27:39] \"GET /api/data?api_key=my_secret_api_key_1234 HTTP/1.1\" 200 -\n",
      "127.0.0.1 - - [01/Apr/2025 20:27:40] \"GET /api/data?api_key=my_secret_api_key_1234 HTTP/1.1\" 429 -\n"
     ]
    }
   ],
   "source": [
    "from flask import Flask, jsonify, request\n",
    "from flask_limiter import Limiter\n",
    "from flask_limiter.util import get_remote_address\n",
    "\n",
    "app = Flask(__name__)\n",
    "\n",
    "# 요청 제한 설정 (IP 기반으로 1분에 10번 요청 가능)\n",
    "limiter = Limiter(get_remote_address, app=app, default_limits=[\"10 per minute\"])\n",
    "\n",
    "@app.route('/api/data', methods=['GET'])\n",
    "@limiter.limit(\"5 per minute\")  # 특정 라우트에서 별도의 제한 설정 가능 (여기서는 1분에 5번)\n",
    "def get_data():\n",
    "    return jsonify({\"message\": \"Success!\", \"data\": [1, 2, 3, 4, 5]})\n",
    "\n",
    "if __name__ == '__main__':\n",
    "    app.run(debug=False)\n",
    "\n",
    "# Web Browser : http://127.0.0.1:5000/api/data?api_key=my_secret_api_key_1234\n",
    "# 1분 내에 5번을 초과하면 아래 메시지 출력 (429 Too Many Requests)\n",
    "# Too Many Requests\n",
    "# 5 per 1 minute"
   ]
  },
  {
   "cell_type": "markdown",
   "id": "71397bcb-ebb1-46f8-b87a-dfa271330b14",
   "metadata": {},
   "source": [
    "### API 키를 환경 변수에 저장 (코드에 직접 포함하지 않음)"
   ]
  },
  {
   "cell_type": "code",
   "execution_count": 13,
   "id": "6e564f29-07a4-4d2c-af38-9c5de5cb737d",
   "metadata": {},
   "outputs": [],
   "source": [
    "import os\n",
    "API_KEY = os.getenv(\"API_KEY\", \"default_key\")"
   ]
  },
  {
   "cell_type": "code",
   "execution_count": 14,
   "id": "1cc06148-f6f0-4959-874d-66b144e9aecf",
   "metadata": {},
   "outputs": [
    {
     "data": {
      "text/plain": [
       "'default_key'"
      ]
     },
     "execution_count": 14,
     "metadata": {},
     "output_type": "execute_result"
    }
   ],
   "source": [
    "API_KEY"
   ]
  },
  {
   "cell_type": "code",
   "execution_count": 15,
   "id": "52c4552f-b55c-4331-90e0-40999ec5b670",
   "metadata": {},
   "outputs": [],
   "source": [
    "# .env 파일에 API_KEY=my_secret_api_key1234를 저장하고 python-dotenv 패키지로 불러올 수도 있음.\n",
    "# 추후 실습"
   ]
  },
  {
   "cell_type": "raw",
   "id": "958f197e-99ff-49c6-9287-03e95f1e8956",
   "metadata": {},
   "source": [
    "🔹 HTTPS 사용 (API 키 노출 방지)란?\n",
    "API 키를 사용할 때 HTTPS(HyperText Transfer Protocol Secure)를 사용하면, 데이터가 암호화되어 네트워크에서 API 키가 노출되는 것을 방지할 수 있습니다.\n",
    "\n",
    "curl -H \"Authorization: Bearer my_secret_api_key\" http://api.example.com/data\n",
    "📌 이 요청은 네트워크에서 가로채기(패킷 스니핑)가 가능하며, API 키가 그대로 노출될 위험이 있습니다.\n",
    "\n",
    "curl -H \"Authorization: Bearer my_secret_api_key\" https://api.example.com/data\n",
    "📌 https://를 사용하면 데이터가 암호화되어 API 키가 안전하게 전송됩니다."
   ]
  },
  {
   "cell_type": "raw",
   "id": "0ccb5cc0-9cde-4a58-9ca0-078c5faee282",
   "metadata": {},
   "source": [
    "# 기본적으로 Flask는 HTTP로 실행되므로, ssl_context를 사용하여 HTTPS를 활성화할 수 있다\n",
    "\n",
    "from flask import Flask\n",
    "\n",
    "app = Flask(__name__)\n",
    "\n",
    "@app.route('/')\n",
    "def home():\n",
    "    return \"Hello, Secure API!\"\n",
    "\n",
    "if __name__ == '__main__':\n",
    "    app.run(ssl_context=('cert.pem', 'key.pem'))  # SSL 인증서 적용\n",
    "# 이코드는 실행시 PC에 인증서가 없으므로 FileNotFoundError 출력됨!"
   ]
  },
  {
   "cell_type": "code",
   "execution_count": null,
   "id": "bad1b9f3-bc2f-4acf-ba0a-5cee246c59b1",
   "metadata": {},
   "outputs": [],
   "source": []
  }
 ],
 "metadata": {
  "kernelspec": {
   "display_name": "Python 3 (ipykernel)",
   "language": "python",
   "name": "python3"
  },
  "language_info": {
   "codemirror_mode": {
    "name": "ipython",
    "version": 3
   },
   "file_extension": ".py",
   "mimetype": "text/x-python",
   "name": "python",
   "nbconvert_exporter": "python",
   "pygments_lexer": "ipython3",
   "version": "3.12.7"
  }
 },
 "nbformat": 4,
 "nbformat_minor": 5
}
