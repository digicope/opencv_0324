{
 "cells": [
  {
   "cell_type": "markdown",
   "id": "1d9a3504-06cb-4d11-87d5-30a9e99cefe5",
   "metadata": {},
   "source": [
    "### Flask Web Server 호출 클라이언트 requests 사용 소스 코드\n",
    "#### [Flask 웹 서버 소스 실행 시킨 후 실행할것]"
   ]
  },
  {
   "cell_type": "code",
   "execution_count": 21,
   "id": "26ddba06-d2a4-4372-8996-fcec2597fdaf",
   "metadata": {},
   "outputs": [
    {
     "name": "stdout",
     "output_type": "stream",
     "text": [
      "{'name': 'Tom'} 200\n"
     ]
    }
   ],
   "source": [
    "# (1) GET /data - 저장된 모든 데이터 조회\n",
    "\n",
    "# shell 명령\n",
    "# curl -X GET http://127.0.0.1:5000/data\n",
    "\n",
    "# windows powershell 명령 \n",
    "# Invoke-WebRequest -Uri \"http://127.0.0.1:5000/data\" -Method GET\n",
    "\n",
    "# Web Browser : http://127.0.0.1:5000/data\n",
    "\n",
    "import requests\n",
    "response = requests.get(\"http://127.0.0.1:5000/data\")\n",
    "print(response.json(),response.status_code)"
   ]
  },
  {
   "cell_type": "code",
   "execution_count": 27,
   "id": "5c6b8563-6134-499f-ae00-3777005fd8b5",
   "metadata": {},
   "outputs": [
    {
     "name": "stdout",
     "output_type": "stream",
     "text": [
      "{'message': 'Data added successfully'} 201\n"
     ]
    }
   ],
   "source": [
    "# (2) POST /data - 데이터 추가 (key, value 필요)\n",
    "\n",
    "# curl -X POST http://127.0.0.1:5000/data -H \"Content-Type: application/json\" -d '{\"key\": \"name\", \"value\": \"Jane\"}'\n",
    "# Invoke-RestMethod -Uri \"http://127.0.0.1:5000/data\" -Method POST -ContentType \"application/json\" -Body '{\"key\": \"name\", \"value\": \"Jane\"}'\n",
    "\n",
    "import requests\n",
    "data = {\"key\": \"name\", \"value\": \"Tom\"}\n",
    "response = requests.post(\"http://127.0.0.1:5000/data\", json=data)\n",
    "print(response.json(),response.status_code)"
   ]
  },
  {
   "cell_type": "code",
   "execution_count": 28,
   "id": "98250a73-1a20-4d2d-96c0-ef27902fa54c",
   "metadata": {},
   "outputs": [
    {
     "name": "stdout",
     "output_type": "stream",
     "text": [
      "{'message': 'Data updated successfully'} 200\n"
     ]
    }
   ],
   "source": [
    "# (3) PUT /data/<key> - 특정 key 값 업데이트\n",
    "\n",
    "# curl -X PUT http://127.0.0.1:5000/data/name -H \"Content-Type: application/json\" -d '{\"value\": \"John\"}'\n",
    "# Invoke-RestMethod -Uri \"http://127.0.0.1:5000/data/name\" -Method PUT -ContentType \"application/json\" -Body '{\"value\": \"John\"}'\n",
    "\n",
    "import requests\n",
    "data = {\"value\": \"John\"}\n",
    "response = requests.put(\"http://127.0.0.1:5000/data/name\", json=data)\n",
    "print(response.json(),response.status_code)"
   ]
  },
  {
   "cell_type": "code",
   "execution_count": 29,
   "id": "00249315-83f5-429a-a3f0-db5e994c3864",
   "metadata": {},
   "outputs": [
    {
     "name": "stdout",
     "output_type": "stream",
     "text": [
      "{'message': 'Data deleted successfully'} 200\n"
     ]
    }
   ],
   "source": [
    "# (4) DELETE /data/<key> - 특정 key 데이터 삭제\n",
    "\n",
    "# curl -X DELETE http://127.0.0.1:5000/data/name\n",
    "# Invoke-RestMethod -Uri \"http://127.0.0.1:5000/data/name\" -Method DELETE\n",
    "\n",
    "import requests\n",
    "response = requests.delete(\"http://127.0.0.1:5000/data/name\")\n",
    "print(response.json(),response.status_code)"
   ]
  },
  {
   "cell_type": "code",
   "execution_count": null,
   "id": "35394fb0-6b70-43eb-ae5a-d66c3799d856",
   "metadata": {},
   "outputs": [],
   "source": []
  }
 ],
 "metadata": {
  "kernelspec": {
   "display_name": "Python 3 (ipykernel)",
   "language": "python",
   "name": "python3"
  },
  "language_info": {
   "codemirror_mode": {
    "name": "ipython",
    "version": 3
   },
   "file_extension": ".py",
   "mimetype": "text/x-python",
   "name": "python",
   "nbconvert_exporter": "python",
   "pygments_lexer": "ipython3",
   "version": "3.12.7"
  }
 },
 "nbformat": 4,
 "nbformat_minor": 5
}
