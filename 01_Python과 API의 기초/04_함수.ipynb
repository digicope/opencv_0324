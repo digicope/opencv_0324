{
 "cells": [
  {
   "cell_type": "markdown",
   "id": "19e07a8d-d4e5-493b-839a-4464ddd7182d",
   "metadata": {},
   "source": [
    "### 함수(function)\n",
    "- 함수 구현의 목적 : 재사용, 모듈화"
   ]
  },
  {
   "cell_type": "code",
   "execution_count": 1,
   "id": "9cb5aab0-5c34-4d7f-9664-7f097db863d0",
   "metadata": {},
   "outputs": [],
   "source": [
    "# 함수 구현 방법\n",
    "# '''\n",
    "# def 함수명(매개변수,.....):\n",
    "#     <수행할 문장1>\n",
    "#     <수행할 문장2>\n",
    "#     <수행할 문장3>\n",
    "#     ..\n",
    "#     return 반환할값\n",
    "# '''"
   ]
  },
  {
   "cell_type": "code",
   "execution_count": 2,
   "id": "3165ca5c-b26e-4b69-be2b-f403d0989b2f",
   "metadata": {},
   "outputs": [],
   "source": [
    "# 수학 함수\n",
    "# f(x) = 10*x + 1   \n",
    "# f(2) = 10*2 + 1 = 21\n",
    "# f(a,b) = a + b\n",
    "# f(10,20) = 10 + 20 = 30"
   ]
  },
  {
   "cell_type": "code",
   "execution_count": 21,
   "id": "ac253fc0-72f9-471d-949c-5901f57bb15d",
   "metadata": {},
   "outputs": [
    {
     "name": "stdout",
     "output_type": "stream",
     "text": [
      "add is called!\n",
      "30\n",
      "subtract is called!\n",
      "-10\n",
      "mutiply is called!\n",
      "200\n",
      "divide is called!\n",
      "0.5\n",
      "<class 'function'>\n",
      "add is called!\n",
      "7.7\n",
      "add is called!\n",
      "GoodMorning\n",
      "add is called!\n",
      "[1, 2, 3, 4, 5, 6]\n"
     ]
    }
   ],
   "source": [
    "# 함수 정의\n",
    "def add(a,b):\n",
    "    c = a + b\n",
    "    print('add is called!')\n",
    "    return c\n",
    "\n",
    "def subtract(a,b):\n",
    "    c = a - b\n",
    "    print('subtract is called!')\n",
    "    return c\n",
    "\n",
    "def mutiply(a,b):\n",
    "    c = a * b\n",
    "    print('mutiply is called!')\n",
    "    return c\n",
    "\n",
    "def divide(a,b):\n",
    "    c = a / b\n",
    "    print('divide is called!')\n",
    "    return c\n",
    "    \n",
    "# 함수 호출\n",
    "ret = add(10,20)  # add함수를 호출한다\n",
    "print(ret)\n",
    "\n",
    "ret = subtract(10,20)  # subtract 함수를 호출한다\n",
    "print(ret)\n",
    "\n",
    "ret = mutiply(10,20)  # mutiply 함수를 호출한다\n",
    "print(ret)\n",
    "\n",
    "ret = divide(10,20)  # mutiply 함수를 호출한다\n",
    "print(ret)\n",
    "\n",
    "print(type(add))  # add는 함수 객체이다, <class 'function'>\n",
    "\n",
    "print(add(3.5,4.2))           # float\n",
    "print(add('Good','Morning'))  # str\n",
    "print(add([1,2,3],[4,5,6]))   # list"
   ]
  },
  {
   "cell_type": "code",
   "execution_count": 11,
   "id": "0daf7ee1-2781-4485-a0f2-ca2ac20a794e",
   "metadata": {
    "collapsed": true,
    "jupyter": {
     "outputs_hidden": true
    }
   },
   "outputs": [
    {
     "data": {
      "text/plain": [
       "['__annotations__',\n",
       " '__builtins__',\n",
       " '__call__',\n",
       " '__class__',\n",
       " '__closure__',\n",
       " '__code__',\n",
       " '__defaults__',\n",
       " '__delattr__',\n",
       " '__dict__',\n",
       " '__dir__',\n",
       " '__doc__',\n",
       " '__eq__',\n",
       " '__format__',\n",
       " '__ge__',\n",
       " '__get__',\n",
       " '__getattribute__',\n",
       " '__getstate__',\n",
       " '__globals__',\n",
       " '__gt__',\n",
       " '__hash__',\n",
       " '__init__',\n",
       " '__init_subclass__',\n",
       " '__kwdefaults__',\n",
       " '__le__',\n",
       " '__lt__',\n",
       " '__module__',\n",
       " '__name__',\n",
       " '__ne__',\n",
       " '__new__',\n",
       " '__qualname__',\n",
       " '__reduce__',\n",
       " '__reduce_ex__',\n",
       " '__repr__',\n",
       " '__setattr__',\n",
       " '__sizeof__',\n",
       " '__str__',\n",
       " '__subclasshook__',\n",
       " '__type_params__']"
      ]
     },
     "execution_count": 11,
     "metadata": {},
     "output_type": "execute_result"
    }
   ],
   "source": [
    "dir(add)    # '__call__' : callable"
   ]
  },
  {
   "cell_type": "markdown",
   "id": "74ab8a63-9329-4119-ab90-d8556adf38a4",
   "metadata": {},
   "source": [
    "### 함수 구현 순서\n",
    "#### (1) def 를 사용하고 함수이름을 결정\n",
    "#### (2) 매개변수(인자)를 결정\n",
    "#### (3) 인자를 사용하여 처리하는 코드를 구현\n",
    "#### (4) return 을 사용하여 결과값을 반환\n",
    "#### (5) 인자를 설정하여 함수를 호출하여 결과를 확인"
   ]
  },
  {
   "cell_type": "code",
   "execution_count": 29,
   "id": "473d93c9-22db-450c-9fd5-d456eff8bc5e",
   "metadata": {},
   "outputs": [],
   "source": [
    "# 함수의 유형 4가지\n",
    "# [1] 반환값이 없고 인자도 없는 경우\n",
    "# [2] 반환값이 없고 인자는 있는 경우\n",
    "# [3] 반환값이 있고 인자는 없는 경우\n",
    "# [4] 반환값이 있고 인자도 있는 경우"
   ]
  },
  {
   "cell_type": "code",
   "execution_count": 33,
   "id": "6c2c5107-b023-4ae6-b9c4-164bf48ea4a1",
   "metadata": {},
   "outputs": [
    {
     "name": "stdout",
     "output_type": "stream",
     "text": [
      "f_1 is called!\n",
      "None\n",
      "<class 'NoneType'>\n"
     ]
    }
   ],
   "source": [
    "# [1] 반환값이 없고 인자도 없는 경우\n",
    "def f_1():\n",
    "    print('f_1 is called!')\n",
    "\n",
    "ret = f_1()     # None\n",
    "print(ret)\n",
    "print(type(None))"
   ]
  },
  {
   "cell_type": "code",
   "execution_count": 38,
   "id": "287199ae-0116-450b-b3bf-8f972d8446c1",
   "metadata": {},
   "outputs": [
    {
     "name": "stdout",
     "output_type": "stream",
     "text": [
      "f_2 is called!\n",
      "13 7\n",
      "None\n"
     ]
    }
   ],
   "source": [
    "# [2] 반환값이 없고 인자는 있는 경우\n",
    "def f_2(a,b):\n",
    "    print('f_2 is called!')\n",
    "    print(a + b, a - b)\n",
    "\n",
    "ret = f_2(10,3)\n",
    "print(ret)     # None"
   ]
  },
  {
   "cell_type": "code",
   "execution_count": 45,
   "id": "c42ecb3a-e2b7-4170-9c8d-e125177ae63c",
   "metadata": {},
   "outputs": [
    {
     "name": "stdout",
     "output_type": "stream",
     "text": [
      "f_3 is called!\n",
      "('Bread', 'Butter', 100, [1, 2, 3])\n",
      "<class 'tuple'>\n",
      "f_3 is called!\n",
      "Bread Butter 100 [1, 2, 3]\n"
     ]
    }
   ],
   "source": [
    "# [3] 반환값이 있고 인자는 없는 경우\n",
    "def f_3():\n",
    "    print('f_3 is called!') \n",
    "    return 'Bread','Butter',100,[1,2,3]\n",
    "\n",
    "ret = f_3()     # tuple로 반환\n",
    "print(ret)\n",
    "print(type(ret))    \n",
    "\n",
    "a,b,c,_ = f_3()  # tuple의 언패킹\n",
    "print(a,b,c,_)"
   ]
  },
  {
   "cell_type": "code",
   "execution_count": 46,
   "id": "4dac8f86-98f7-4515-86e8-71e777aed57a",
   "metadata": {},
   "outputs": [
    {
     "name": "stdout",
     "output_type": "stream",
     "text": [
      "f_4 is called!\n",
      "(8, -2, 15, 0.6)\n"
     ]
    }
   ],
   "source": [
    "# [4] 반환값이 있고 인자도 있는 경우\n",
    "def f_4(a,b):\n",
    "    print('f_4 is called!') \n",
    "    return a+b,a-b,a*b,a/b\n",
    "\n",
    "print(f_4(3,5))"
   ]
  },
  {
   "cell_type": "code",
   "execution_count": null,
   "id": "7d227d4b-1ac9-41cd-a220-50812c1c8c91",
   "metadata": {},
   "outputs": [],
   "source": []
  }
 ],
 "metadata": {
  "kernelspec": {
   "display_name": "Python 3 (ipykernel)",
   "language": "python",
   "name": "python3"
  },
  "language_info": {
   "codemirror_mode": {
    "name": "ipython",
    "version": 3
   },
   "file_extension": ".py",
   "mimetype": "text/x-python",
   "name": "python",
   "nbconvert_exporter": "python",
   "pygments_lexer": "ipython3",
   "version": "3.12.7"
  }
 },
 "nbformat": 4,
 "nbformat_minor": 5
}
