{
 "cells": [
  {
   "cell_type": "markdown",
   "id": "19e07a8d-d4e5-493b-839a-4464ddd7182d",
   "metadata": {},
   "source": [
    "### 함수(function)\n",
    "- 함수 구현의 목적 : 재사용, 모듈화"
   ]
  },
  {
   "cell_type": "code",
   "execution_count": 1,
   "id": "9cb5aab0-5c34-4d7f-9664-7f097db863d0",
   "metadata": {},
   "outputs": [],
   "source": [
    "# 함수 구현 방법\n",
    "# '''\n",
    "# def 함수명(매개변수,.....):\n",
    "#     <수행할 문장1>\n",
    "#     <수행할 문장2>\n",
    "#     <수행할 문장3>\n",
    "#     ..\n",
    "#     return 반환할값\n",
    "# '''"
   ]
  },
  {
   "cell_type": "code",
   "execution_count": 2,
   "id": "3165ca5c-b26e-4b69-be2b-f403d0989b2f",
   "metadata": {},
   "outputs": [],
   "source": [
    "# 수학 함수\n",
    "# f(x) = 10*x + 1   \n",
    "# f(2) = 10*2 + 1 = 21\n",
    "# f(a,b) = a + b\n",
    "# f(10,20) = 10 + 20 = 30"
   ]
  },
  {
   "cell_type": "code",
   "execution_count": 3,
   "id": "ac253fc0-72f9-471d-949c-5901f57bb15d",
   "metadata": {},
   "outputs": [
    {
     "name": "stdout",
     "output_type": "stream",
     "text": [
      "add is called!\n",
      "30\n",
      "subtract is called!\n",
      "-10\n",
      "mutiply is called!\n",
      "200\n",
      "divide is called!\n",
      "0.5\n",
      "<class 'function'>\n",
      "add is called!\n",
      "7.7\n",
      "add is called!\n",
      "GoodMorning\n",
      "add is called!\n",
      "[1, 2, 3, 4, 5, 6]\n"
     ]
    }
   ],
   "source": [
    "# 함수 정의\n",
    "def add(a,b):\n",
    "    c = a + b\n",
    "    print('add is called!')\n",
    "    return c\n",
    "\n",
    "def subtract(a,b):\n",
    "    c = a - b\n",
    "    print('subtract is called!')\n",
    "    return c\n",
    "\n",
    "def multiply(a,b):\n",
    "    c = a * b\n",
    "    print('mutiply is called!')\n",
    "    return c\n",
    "\n",
    "def divide(a,b):\n",
    "    c = a / b\n",
    "    print('divide is called!')\n",
    "    return c\n",
    "    \n",
    "# 함수 호출\n",
    "ret = add(10,20)  # add함수를 호출한다\n",
    "print(ret)\n",
    "\n",
    "ret = subtract(10,20)  # subtract 함수를 호출한다\n",
    "print(ret)\n",
    "\n",
    "ret = multiply(10,20)  # mutiply 함수를 호출한다\n",
    "print(ret)\n",
    "\n",
    "ret = divide(10,20)  # mutiply 함수를 호출한다\n",
    "print(ret)\n",
    "\n",
    "print(type(add))  # add는 함수 객체이다, <class 'function'>\n",
    "\n",
    "print(add(3.5,4.2))           # float\n",
    "print(add('Good','Morning'))  # str\n",
    "print(add([1,2,3],[4,5,6]))   # list"
   ]
  },
  {
   "cell_type": "code",
   "execution_count": 4,
   "id": "0daf7ee1-2781-4485-a0f2-ca2ac20a794e",
   "metadata": {
    "scrolled": true
   },
   "outputs": [
    {
     "data": {
      "text/plain": [
       "['__annotations__',\n",
       " '__builtins__',\n",
       " '__call__',\n",
       " '__class__',\n",
       " '__closure__',\n",
       " '__code__',\n",
       " '__defaults__',\n",
       " '__delattr__',\n",
       " '__dict__',\n",
       " '__dir__',\n",
       " '__doc__',\n",
       " '__eq__',\n",
       " '__format__',\n",
       " '__ge__',\n",
       " '__get__',\n",
       " '__getattribute__',\n",
       " '__getstate__',\n",
       " '__globals__',\n",
       " '__gt__',\n",
       " '__hash__',\n",
       " '__init__',\n",
       " '__init_subclass__',\n",
       " '__kwdefaults__',\n",
       " '__le__',\n",
       " '__lt__',\n",
       " '__module__',\n",
       " '__name__',\n",
       " '__ne__',\n",
       " '__new__',\n",
       " '__qualname__',\n",
       " '__reduce__',\n",
       " '__reduce_ex__',\n",
       " '__repr__',\n",
       " '__setattr__',\n",
       " '__sizeof__',\n",
       " '__str__',\n",
       " '__subclasshook__',\n",
       " '__type_params__']"
      ]
     },
     "execution_count": 4,
     "metadata": {},
     "output_type": "execute_result"
    }
   ],
   "source": [
    "dir(add)    # '__call__' : callable"
   ]
  },
  {
   "cell_type": "markdown",
   "id": "74ab8a63-9329-4119-ab90-d8556adf38a4",
   "metadata": {},
   "source": [
    "### 함수 구현 순서\n",
    "#### (1) def 를 사용하고 함수이름을 결정\n",
    "#### (2) 매개변수(인자)를 결정\n",
    "#### (3) 인자를 사용하여 처리하는 코드를 구현\n",
    "#### (4) return 을 사용하여 결과값을 반환\n",
    "#### (5) 인자를 설정하여 함수를 호출하여 결과를 확인"
   ]
  },
  {
   "cell_type": "code",
   "execution_count": 5,
   "id": "473d93c9-22db-450c-9fd5-d456eff8bc5e",
   "metadata": {},
   "outputs": [],
   "source": [
    "# 함수의 유형 4가지\n",
    "# [1] 반환값이 없고 인자도 없는 경우\n",
    "# [2] 반환값이 없고 인자는 있는 경우\n",
    "# [3] 반환값이 있고 인자는 없는 경우\n",
    "# [4] 반환값이 있고 인자도 있는 경우"
   ]
  },
  {
   "cell_type": "code",
   "execution_count": 6,
   "id": "6c2c5107-b023-4ae6-b9c4-164bf48ea4a1",
   "metadata": {},
   "outputs": [
    {
     "name": "stdout",
     "output_type": "stream",
     "text": [
      "f_1 is called!\n",
      "None\n",
      "<class 'NoneType'>\n"
     ]
    }
   ],
   "source": [
    "# [1] 반환값이 없고 인자도 없는 경우\n",
    "def f_1():\n",
    "    print('f_1 is called!')\n",
    "\n",
    "ret = f_1()     # None\n",
    "print(ret)\n",
    "print(type(None))"
   ]
  },
  {
   "cell_type": "code",
   "execution_count": 7,
   "id": "287199ae-0116-450b-b3bf-8f972d8446c1",
   "metadata": {},
   "outputs": [
    {
     "name": "stdout",
     "output_type": "stream",
     "text": [
      "f_2 is called!\n",
      "13 7\n",
      "None\n"
     ]
    }
   ],
   "source": [
    "# [2] 반환값이 없고 인자는 있는 경우\n",
    "def f_2(a,b):\n",
    "    print('f_2 is called!')\n",
    "    print(a + b, a - b)\n",
    "\n",
    "ret = f_2(10,3)\n",
    "print(ret)     # None"
   ]
  },
  {
   "cell_type": "code",
   "execution_count": 8,
   "id": "c42ecb3a-e2b7-4170-9c8d-e125177ae63c",
   "metadata": {},
   "outputs": [
    {
     "name": "stdout",
     "output_type": "stream",
     "text": [
      "f_3 is called!\n",
      "('Bread', 'Butter', 100, [1, 2, 3])\n",
      "<class 'tuple'>\n",
      "f_3 is called!\n",
      "Bread Butter 100 [1, 2, 3]\n"
     ]
    }
   ],
   "source": [
    "# [3] 반환값이 있고 인자는 없는 경우\n",
    "def f_3():\n",
    "    print('f_3 is called!') \n",
    "    return 'Bread','Butter',100,[1,2,3]\n",
    "\n",
    "ret = f_3()     # tuple로 반환\n",
    "print(ret)\n",
    "print(type(ret))    \n",
    "\n",
    "a,b,c,_ = f_3()  # tuple의 언패킹\n",
    "print(a,b,c,_)"
   ]
  },
  {
   "cell_type": "code",
   "execution_count": 9,
   "id": "4dac8f86-98f7-4515-86e8-71e777aed57a",
   "metadata": {},
   "outputs": [
    {
     "name": "stdout",
     "output_type": "stream",
     "text": [
      "f_4 is called!\n",
      "(8, -2, 15, 0.6)\n"
     ]
    }
   ],
   "source": [
    "# [4] 반환값이 있고 인자도 있는 경우\n",
    "def f_4(a,b):\n",
    "    print('f_4 is called!') \n",
    "    return a+b,a-b,a*b,a/b\n",
    "\n",
    "print(f_4(3,5))"
   ]
  },
  {
   "cell_type": "code",
   "execution_count": 12,
   "id": "7d227d4b-1ac9-41cd-a220-50812c1c8c91",
   "metadata": {},
   "outputs": [
    {
     "name": "stdout",
     "output_type": "stream",
     "text": [
      "10 20\n",
      "() <class 'tuple'>\n",
      "30\n",
      "10 20\n",
      "(30,) <class 'tuple'>\n",
      "60\n",
      "10 20\n",
      "(30, 40, 50, 60, 70) <class 'tuple'>\n",
      "280\n"
     ]
    }
   ],
   "source": [
    "# 인자가 고정되지 않은 함수 처리 방법\n",
    "\n",
    "# (1) *인자 : tuple 방식, 가변 인수\n",
    "def add_many(a,b,*args):   \n",
    "    total = a + b\n",
    "    print(a,b)\n",
    "    print(args,type(args))\n",
    "    for k in args:\n",
    "        total += k\n",
    "    return total\n",
    "\n",
    "print(add_many(10,20))    \n",
    "print(add_many(10,20,30))\n",
    "print(add_many(10,20,30,40,50,60,70))        "
   ]
  },
  {
   "cell_type": "code",
   "execution_count": 25,
   "id": "537ca9c1-1e81-4187-aa16-31061c3a9130",
   "metadata": {},
   "outputs": [
    {
     "name": "stdout",
     "output_type": "stream",
     "text": [
      "10 20\n",
      "{} <class 'dict'>\n",
      "10 20\n",
      "{'depth': 5, 'dimension': 3} <class 'dict'>\n",
      "10 20\n",
      "{'depth': 5, 'dimension': 3} <class 'dict'>\n",
      "20 10\n",
      "{'depth': 5, 'dimension': 3} <class 'dict'>\n"
     ]
    }
   ],
   "source": [
    "# (2) **인자 : dict형식, 키워드 인수\n",
    "def func(width,height,**kw):\n",
    "    print(width,height)\n",
    "    print(kw,type(kw))\n",
    "    \n",
    "func(10,20) \n",
    "func(10,20,depth=5,dimension=3)\n",
    "func(width=10,height=20,depth=5,dimension=3)\n",
    "func(height=10,width=20,depth=5,dimension=3)"
   ]
  },
  {
   "cell_type": "code",
   "execution_count": 35,
   "id": "76640b41-9820-4ded-a922-dfc402d38873",
   "metadata": {},
   "outputs": [
    {
     "name": "stdout",
     "output_type": "stream",
     "text": [
      "None 30 0000-0000-0000 True\n",
      "lee 20 010-1234-1234 False\n",
      "Park 40 0000-0000-0000 True\n",
      "Ko 10 0000-0000-0000 False\n"
     ]
    }
   ],
   "source": [
    "# 기본인수, default 인수\n",
    "def show_info(name=None,age=30,phone='0000-0000-0000',emp=True):\n",
    "    print(name,age,phone,emp)\n",
    "\n",
    "show_info()\n",
    "show_info('lee',20,'010-1234-1234',False)\n",
    "show_info(age=40,name='Park')\n",
    "show_info('Ko',10,emp=False)"
   ]
  },
  {
   "cell_type": "code",
   "execution_count": 15,
   "id": "9b7c7ebd-db83-46bf-92ab-ccb72db780bd",
   "metadata": {},
   "outputs": [
    {
     "name": "stdout",
     "output_type": "stream",
     "text": [
      "foo: 20\n",
      "foo: [1, 2, 3]\n",
      "bar: 30 20 11\n",
      "Global: 10\n"
     ]
    }
   ],
   "source": [
    "# 함수 사용시 변수의 유효 범위 규칙 (Scope Rule)\n",
    "# local 변수 : 지역 변수  , 변수가 선언된 함수내에서만 사용가능\n",
    "# global 변수 : 전역 변수 , 모든 함수안에서 접근 가능\n",
    "# LEGB 규칙 : Local > Enclosing Function Local > Global > Built-in\n",
    "# 핵심 : 지역변수가 전역변수보다 우선한다!!\n",
    "\n",
    "x = 10                            # G:전역변수(Global Variable)\n",
    "y = 11                            # G:전역변수(Global Variable)\n",
    "\n",
    "def foo():    \n",
    "    # global x                    #  x가 전역 변수임을 명시 \n",
    "    x = 20                        #  L:지역변수(Local Variable)   \n",
    "    foo_list = [1,2,3]            #  L:지역변수(Local Variable) \n",
    "    print('foo:',x)\n",
    "    print('foo:',foo_list)\n",
    "\n",
    "    def bar():\n",
    "        a = 30                    #  L:지역변수(Local Variable)   \n",
    "        print('bar:',a,x,y)       # a : L  , x : E\n",
    "\n",
    "    bar()\n",
    "    return x,bar  \n",
    "    \n",
    "foo()\n",
    "print('Global:',x)"
   ]
  },
  {
   "cell_type": "markdown",
   "id": "5124c954-b443-4066-95cb-f5e0d2fa6dbd",
   "metadata": {},
   "source": [
    "### 일급함수(First Class Function) : 함수이름을 변수처럼 사용가능하다\n",
    "#### (1) 함수객체를 다른 함수의 인자로 전달할 수 있다\n",
    "#### (2) 함수객체를 반환 값으로 전달할 수 있다\n",
    "#### (3) 함수객체를 다른 자료 구조에 저장해서 사용 가능"
   ]
  },
  {
   "cell_type": "code",
   "execution_count": 32,
   "id": "e4e2e681-0482-4de8-aa85-f098eb0f3a80",
   "metadata": {},
   "outputs": [
    {
     "name": "stdout",
     "output_type": "stream",
     "text": [
      "func_two is called!\n"
     ]
    },
    {
     "name": "stdin",
     "output_type": "stream",
     "text": [
      " \n"
     ]
    },
    {
     "name": "stdout",
     "output_type": "stream",
     "text": [
      "add_two is called!\n"
     ]
    },
    {
     "name": "stdin",
     "output_type": "stream",
     "text": [
      " \n"
     ]
    },
    {
     "name": "stdout",
     "output_type": "stream",
     "text": [
      "30\n"
     ]
    }
   ],
   "source": [
    "# (1) 함수객체를 다른 함수의 인자로 전달할 수 있다\n",
    "def add_two(a,b):                     # (4)\n",
    "    print('add_two is called!')\n",
    "    return a + b                      # (5) \n",
    "\n",
    "# b = add_two\n",
    "# print(type(b))\n",
    "# print(b(10,20))\n",
    "\n",
    "def func_two(func,a,b):                # (2)\n",
    "    print('func_two is called!')\n",
    "    result = func(a,b)                 # (3)  add_two()함수 호출  , (6)\n",
    "    return result                      # (7)\n",
    "\n",
    "result = func_two(add_two,10,20)       # (1)  func_two() 함수 호출, (8)\n",
    "print(result)                          # (9)"
   ]
  },
  {
   "cell_type": "code",
   "execution_count": 37,
   "id": "585d3cd2-7d60-4802-bd85-91b38cffca53",
   "metadata": {},
   "outputs": [
    {
     "name": "stdout",
     "output_type": "stream",
     "text": [
      "foo2 is called!\n",
      "<class 'function'>\n",
      "bar2 is called!\n"
     ]
    }
   ],
   "source": [
    "# (2) 함수객체를 반환 값으로 전달할 수 있다\n",
    "def foo2():\n",
    "    print('foo2 is called!')\n",
    "    \n",
    "    def bar2():\n",
    "        print('bar2 is called!')\n",
    "     \n",
    "    return bar2\n",
    "\n",
    "ret = foo2()\n",
    "print(type(ret))\n",
    "ret()"
   ]
  },
  {
   "cell_type": "code",
   "execution_count": 57,
   "id": "6980f98b-bcd8-4b57-ac12-74ca0c7b99bf",
   "metadata": {},
   "outputs": [
    {
     "name": "stdout",
     "output_type": "stream",
     "text": [
      "[<function add at 0x000001F99F74D3A0>, <function subtract at 0x000001F99F74E160>, <function multiply at 0x000001F99F74D6C0>, <function divide at 0x000001F99F74EF20>]\n",
      "add is called!\n",
      "30\n",
      "subtract is called!\n",
      "-10\n",
      "mutiply is called!\n",
      "200\n",
      "divide is called!\n",
      "0.5\n",
      "--------------------\n",
      "add is called!\n",
      "30\n",
      "subtract is called!\n",
      "-10\n",
      "mutiply is called!\n",
      "200\n",
      "divide is called!\n",
      "0.5\n"
     ]
    }
   ],
   "source": [
    "# (3) 함수객체를 다른 자료 구조에 저장해서 사용 가능\n",
    "\n",
    "# 함수 정의\n",
    "def add(a,b):\n",
    "    c = a + b\n",
    "    print('add is called!')\n",
    "    return c\n",
    "\n",
    "def subtract(a,b):\n",
    "    c = a - b\n",
    "    print('subtract is called!')\n",
    "    return c\n",
    "\n",
    "def multiply(a,b):\n",
    "    c = a * b\n",
    "    print('mutiply is called!')\n",
    "    return c\n",
    "\n",
    "def divide(a,b):\n",
    "    c = a / b\n",
    "    print('divide is called!')\n",
    "    return c\n",
    "\n",
    "# List 사용\n",
    "func_list = [add,subtract,multiply,divide]\n",
    "print(func_list)\n",
    "\n",
    "result = func_list[0](10,20)\n",
    "print(result)\n",
    "\n",
    "result = func_list[1](10,20)\n",
    "print(result)\n",
    "\n",
    "result = func_list[2](10,20)\n",
    "print(result)\n",
    "\n",
    "result = func_list[-1](10,20)\n",
    "print(result)\n",
    "\n",
    "print('-'*20)\n",
    "\n",
    "for k in func_list:\n",
    "    print(k(10,20))"
   ]
  },
  {
   "cell_type": "code",
   "execution_count": 58,
   "id": "bac77c40-2da9-4afb-8c8c-63551e4187bc",
   "metadata": {},
   "outputs": [
    {
     "name": "stdout",
     "output_type": "stream",
     "text": [
      "add is called!\n",
      "30\n",
      "subtract is called!\n",
      "-10\n"
     ]
    }
   ],
   "source": [
    "# dict 사용\n",
    "func_dict = {'add함수':add,'subtract함수':subtract, 'multiply함수':multiply,\n",
    "             'divide함수':divide}\n",
    "result = func_dict['add함수'](10,20)\n",
    "print(result)\n",
    "\n",
    "result = func_dict['subtract함수'](10,20)\n",
    "print(result)"
   ]
  },
  {
   "cell_type": "markdown",
   "id": "aafb09a6-03cb-4de7-a0ca-903e50256fff",
   "metadata": {},
   "source": [
    "### 람다(lambda) 함수 , 람다식\n",
    "#### : 한줄 짜리 함수식, 식을 정의하는 순간 바로 함수 객체로 사용, 바로 인수로 전달할 수 있다, def 키워드를 사용하지 않는다\n",
    "#### 함수명 = lambda 인수1,인수2,..: 반환할 식"
   ]
  },
  {
   "cell_type": "code",
   "execution_count": 64,
   "id": "5596c57e-f5ec-499d-a66c-4683830f94ed",
   "metadata": {},
   "outputs": [
    {
     "name": "stdout",
     "output_type": "stream",
     "text": [
      "<class 'function'>\n",
      "<class 'function'>\n",
      "30\n"
     ]
    }
   ],
   "source": [
    "def add(a,b):\n",
    "    return a + b\n",
    "add(10,20)    \n",
    "add(3,4)\n",
    "print(type(add))\n",
    "\n",
    "add_new = lambda a,b : a + b\n",
    "print(type(add_new))\n",
    "print(add_new(10,20))"
   ]
  },
  {
   "cell_type": "code",
   "execution_count": 81,
   "id": "2228e394-5f71-4acc-a77e-7f1c440874b7",
   "metadata": {},
   "outputs": [
    {
     "name": "stdout",
     "output_type": "stream",
     "text": [
      "[2, 5, 10, 17]\n",
      "[3, 5, 7, 9]\n"
     ]
    }
   ],
   "source": [
    "def f1(x):\n",
    "    return x*x + 1\n",
    "\n",
    "def f2(x):\n",
    "    return 2*x + 1\n",
    "    \n",
    "def g(func):\n",
    "    return [func(x) for x in range(1,5)]\n",
    "\n",
    "# print([f1(1),f1(2),f1(3),f1(4)])\n",
    "# print([f1(x) for x in range(1,5)])  # List comprehension\n",
    "print(g(f1))\n",
    "print(g(f2))"
   ]
  },
  {
   "cell_type": "code",
   "execution_count": 86,
   "id": "c28c1996-5d65-48f4-a6fc-7fdee7a0b17d",
   "metadata": {},
   "outputs": [
    {
     "name": "stdout",
     "output_type": "stream",
     "text": [
      "[2, 5, 10, 17]\n",
      "[3, 5, 7, 9]\n",
      "[3, 13, 37, 81]\n",
      "[2, 3, 4, 5]\n"
     ]
    }
   ],
   "source": [
    "# 람다 사용\n",
    "def g(func):\n",
    "    return [func(x) for x in range(1,5)]\n",
    "\n",
    "print(g(lambda x:x*x + 1))\n",
    "print(g(lambda x:2*x + 1))\n",
    "print(g(lambda x:x**3 + x**2 + 1))\n",
    "print(g(lambda x:x + 1))"
   ]
  },
  {
   "cell_type": "markdown",
   "id": "c5981efe-1c40-406a-9872-eea408c420f2",
   "metadata": {},
   "source": [
    "### 파이썬 내장(Built-in) 함수\n",
    ":map()/max()/min()/sum()/round()/id()/hex()/zip()등 다양한 내장 함수가 존재"
   ]
  },
  {
   "cell_type": "code",
   "execution_count": 96,
   "id": "9aca6d58-2584-4f6b-9fc6-ab6e438adf33",
   "metadata": {},
   "outputs": [
    {
     "name": "stdout",
     "output_type": "stream",
     "text": [
      "1 10 55 10\n",
      "3.52\n"
     ]
    }
   ],
   "source": [
    "a = [1,2,3,4,5,6,7,8,9,10]\n",
    "print(min(a),max(a),sum(a),len(a))\n",
    "a = 3.515464\n",
    "print(round(a,2))  # 반올림 처리, 소수점 자리 갯수 설정"
   ]
  },
  {
   "cell_type": "code",
   "execution_count": 101,
   "id": "522c91c4-9622-4fc6-a50f-bf85e9737544",
   "metadata": {},
   "outputs": [
    {
     "name": "stdout",
     "output_type": "stream",
     "text": [
      "<class 'map'>\n"
     ]
    }
   ],
   "source": [
    "# map() 함수\n",
    "def multi_two(x):\n",
    "    print('multi_two is called!')\n",
    "    return x*2\n",
    "\n",
    "# for k in [1,2,3,4,5,6]:\n",
    "#     print(multi_two(k))\n",
    "\n",
    "ret = map(multi_two, [1,2,3,4,5,6])    # map객체를 생성 \n",
    "print(type(ret))                       # <class 'map'>\n",
    "\n",
    "print(list(ret))    # list로 형 변환 , map객체로 데이터 접근시에 함수가 실제 호출됨"
   ]
  },
  {
   "cell_type": "code",
   "execution_count": 103,
   "id": "a162be32-a1fa-4b82-aabb-89cc38f89cc0",
   "metadata": {},
   "outputs": [],
   "source": [
    "# dir(map)   # '__next__' : Generator"
   ]
  },
  {
   "cell_type": "code",
   "execution_count": 105,
   "id": "09f1700e-9fdd-480a-8d92-d02edeec250b",
   "metadata": {},
   "outputs": [
    {
     "name": "stdout",
     "output_type": "stream",
     "text": [
      "<map object at 0x000001F99FB5DAE0>\n",
      "multi_two is called!\n"
     ]
    },
    {
     "data": {
      "text/plain": [
       "2"
      ]
     },
     "execution_count": 105,
     "metadata": {},
     "output_type": "execute_result"
    }
   ],
   "source": [
    "ret = map(multi_two, [1,2,3,4,5,6])\n",
    "print(ret)\n",
    "next(ret)"
   ]
  },
  {
   "cell_type": "code",
   "execution_count": 115,
   "id": "52133e59-b1d5-4923-955d-b8f38cb5ac1f",
   "metadata": {},
   "outputs": [
    {
     "name": "stdout",
     "output_type": "stream",
     "text": [
      "multi_two is called!\n",
      "2\n",
      "multi_two is called!\n",
      "4\n",
      "multi_two is called!\n",
      "6\n",
      "multi_two is called!\n",
      "8\n",
      "multi_two is called!\n",
      "10\n",
      "multi_two is called!\n",
      "12\n"
     ]
    }
   ],
   "source": [
    "ret = map(multi_two, [1,2,3,4,5,6])\n",
    "for k in ret:\n",
    "    print(k)"
   ]
  },
  {
   "cell_type": "code",
   "execution_count": 118,
   "id": "a5de29c2-c3f0-4bd7-8585-748f880644ec",
   "metadata": {},
   "outputs": [
    {
     "name": "stdout",
     "output_type": "stream",
     "text": [
      "[2, 4, 6, 8, 10, 12]\n"
     ]
    }
   ],
   "source": [
    "# 문제 : 아래 코드를 람다 함수를 사용하여 구현해 보세요(def를 사용하지 않고 람다식으로 함수객체 생성)\n",
    "# def multi_two(x):     # 함수를 반복해서 재사용할 예정인 경우에는 def를 사용한다\n",
    "#     return x*2\n",
    "\n",
    "# ret = map(multi_two,[1,2,3,4,5,6])\n",
    "# print(list(ret))\n",
    "\n",
    "ret = map(lambda x:x*2 ,[1,2,3,4,5,6])  # 한번만 사용될 함수는 람다함수를 사용\n",
    "print(list(ret))"
   ]
  },
  {
   "cell_type": "code",
   "execution_count": null,
   "id": "c136f9df-0537-4b54-b33e-c1a9708a5331",
   "metadata": {},
   "outputs": [],
   "source": []
  }
 ],
 "metadata": {
  "kernelspec": {
   "display_name": "Python 3 (ipykernel)",
   "language": "python",
   "name": "python3"
  },
  "language_info": {
   "codemirror_mode": {
    "name": "ipython",
    "version": 3
   },
   "file_extension": ".py",
   "mimetype": "text/x-python",
   "name": "python",
   "nbconvert_exporter": "python",
   "pygments_lexer": "ipython3",
   "version": "3.12.7"
  }
 },
 "nbformat": 4,
 "nbformat_minor": 5
}
