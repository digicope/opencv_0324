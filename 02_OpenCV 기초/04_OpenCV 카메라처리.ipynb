{
 "cells": [
  {
   "cell_type": "markdown",
   "id": "a22cc785-ec0d-4227-a4f6-9023a000dd95",
   "metadata": {},
   "source": [
    "# OpenCV 카메라 처리\n",
    "#### OpenCV는 쉽게 카메라 영상처리를 할 수 있는 API를 제공한다\n",
    "\n",
    "- 카메라 열기 (cv2.VideoCapture(0)) <br>\n",
    "0: 기본 웹캠 (노트북 내장 카메라)   <br>\n",
    "1: 외장 카메라 또는 다른 비디오 입력 장치 사용 가능.\n",
    "\n",
    "- 프레임 읽기 (cap.read()) <br>\n",
    "ret: 프레임을 성공적으로 읽었는지 여부 (True or False). <br>\n",
    "frame: 읽어온 비디오 프레임(이미지 데이터).\n",
    "\n",
    "- 영상 출력 (cv2.imshow())  <br>\n",
    "cv2.imshow(\"Camera Output\", frame): 카메라 화면을 실시간으로 표시. <br>\n",
    "\n",
    "- 카메라 해제 및 창 닫기 <br>\n",
    "cap.release(): 카메라 사용 종료.  <br>\n",
    "cv2.destroyAllWindows(): 모든 OpenCV 창 닫기."
   ]
  },
  {
   "cell_type": "code",
   "execution_count": 3,
   "id": "ba9364b7-ed23-4d64-a1d0-fdc06e0a2767",
   "metadata": {},
   "outputs": [
    {
     "name": "stdout",
     "output_type": "stream",
     "text": [
      "카메라를 열기 성공!!\n"
     ]
    }
   ],
   "source": [
    "import cv2\n",
    "\n",
    "# 웹캠(카메라) 열기 (0: 기본 카메라, 1: 외장 카메라)\n",
    "cam = cv2.VideoCapture(0)\n",
    "\n",
    "# 카메라가 정상적으로 열렸는지 확인\n",
    "if not cam.isOpened():\n",
    "    print(\"카메라를 열 수 없습니다.\")\n",
    "    exit()    # 프로그램 종료\n",
    "\n",
    "print(\"카메라를 열기 성공!!\")\n",
    "\n",
    "while True:\n",
    "    ret,frame = cam.read()    # 프레임 읽기\n",
    "    if not ret:\n",
    "        print(\"프레임을 가져올 수 없습니다.\")\n",
    "        break\n",
    "\n",
    "    # 화면에 출력\n",
    "    cv2.imshow(\"Camera Output\",frame)\n",
    "\n",
    "    # 'q'키를 누르면 종료\n",
    "    if cv2.waitKey(1) & 0xFF == ord('q'):\n",
    "        break \n",
    "        \n",
    "# 자원 해제 및 창 닫기    \n",
    "cam.release()\n",
    "cv2.destroyAllWindows()"
   ]
  },
  {
   "cell_type": "markdown",
   "id": "9929fa88-95de-4d0e-81e5-565f5cd915db",
   "metadata": {},
   "source": [
    "### 카메라에서 이미지 캡처 저장하기"
   ]
  },
  {
   "cell_type": "code",
   "execution_count": 6,
   "id": "20db546e-ba0b-4c22-9d9e-b97ec897ae2e",
   "metadata": {},
   "outputs": [
    {
     "name": "stdout",
     "output_type": "stream",
     "text": [
      "카메라를 열기 성공!!\n",
      "이미지 저장 완료: captured_20250410-201325_0.jpg\n",
      "이미지 저장 완료: captured_20250410-201333_1.jpg\n",
      "이미지 저장 완료: captured_20250410-201333_2.jpg\n"
     ]
    }
   ],
   "source": [
    "import cv2\n",
    "import time\n",
    "\n",
    "# 웹캠(카메라) 열기 (0: 기본 카메라, 1: 외장 카메라)\n",
    "cam = cv2.VideoCapture(0)\n",
    "\n",
    "# 카메라가 정상적으로 열렸는지 확인\n",
    "if not cam.isOpened():\n",
    "    print(\"카메라를 열 수 없습니다.\")\n",
    "    exit()    # 프로그램 종료\n",
    "\n",
    "print(\"카메라를 열기 성공!!\")\n",
    "\n",
    "capture_count = 0  # 캡처한 이미지 개수를 저장하는 변수\n",
    "\n",
    "while True:\n",
    "    ret,frame = cam.read()    # 프레임 읽기\n",
    "    if not ret:\n",
    "        print(\"프레임을 가져올 수 없습니다.\")\n",
    "        break\n",
    "\n",
    "    # 화면에 현재 프레임을 출력\n",
    "    cv2.imshow(\"Camera Output\",frame)\n",
    "\n",
    "    # 'c' 키를 누르면 새로운 파일 이름으로 이미지 캡처하여 저장\n",
    "    key = cv2.waitKey(1) & 0xFF\n",
    "    if key == ord('c'):\n",
    "        timestamp = time.strftime(\"%Y%m%d-%H%M%S\")  # 현재 시간 기반 파일명 생성\n",
    "        filename = f\"captured_{timestamp}_{capture_count}.jpg\"\n",
    "        cv2.imwrite(filename, frame)  # 이미지 저장\n",
    "        print(f\"이미지 저장 완료: {filename}\")\n",
    "        capture_count +=1  # 캡처 카운트 증가   \n",
    "\n",
    "    # 'q'키를 누르면 종료\n",
    "    if  key == ord('q'):\n",
    "        break \n",
    "        \n",
    "# 자원 해제 및 창 닫기    \n",
    "cam.release()\n",
    "cv2.destroyAllWindows()"
   ]
  },
  {
   "cell_type": "markdown",
   "id": "7b45b4e7-2d3a-4895-bbf9-82816ff5f10a",
   "metadata": {},
   "source": [
    "### 카메라 영상으로 녹화하기"
   ]
  },
  {
   "cell_type": "code",
   "execution_count": 1,
   "id": "1d0f8565-603a-465e-96d5-97057c0ce310",
   "metadata": {},
   "outputs": [
    {
     "name": "stdout",
     "output_type": "stream",
     "text": [
      "녹화를 시작합니다. 'q' 키를 누르면 종료됩니다.\n",
      "녹화를 종료합니다.\n",
      "녹화된 비디오가 저장되었습니다: recorded_video.avi\n"
     ]
    }
   ],
   "source": [
    "import cv2\n",
    "import time\n",
    "\n",
    "# 웹캠(카메라) 열기 (0: 기본 카메라, 1: 외장 카메라)\n",
    "cap = cv2.VideoCapture(0)\n",
    "\n",
    "# 카메라가 정상적으로 열렸는지 확인\n",
    "if not cap.isOpened():\n",
    "    print(\"카메라를 열 수 없습니다.\")\n",
    "    exit()    # 프로그램 종료\n",
    "\n",
    "print(\"녹화를 시작합니다. 'q' 키를 누르면 종료됩니다.\")\n",
    "\n",
    "# 비디오 저장 설정\n",
    "fourcc = cv2.VideoWriter_fourcc(*\"XVID\")  # 코덱 설정 (XVID, MP4V, MJPG 등)\n",
    "fps = 30.0   # 초당 프레임 수\n",
    "frame_width = int(cap.get(cv2.CAP_PROP_FRAME_WIDTH))    # 프레임 너비  \n",
    "frame_height =int(cap.get(cv2.CAP_PROP_FRAME_HEIGHT))   # 프레임 높이\n",
    "output_filename = \"recorded_video.avi\"  # 저장할 파일명\n",
    "\n",
    "# 비디오 저장 객체 생성\n",
    "out = cv2.VideoWriter(output_filename,fourcc,fps,(frame_width,frame_height))\n",
    "\n",
    "# capture_count = 0  # 캡처한 이미지 개수를 저장하는 변수\n",
    "\n",
    "while True:\n",
    "    ret,frame = cap.read()    # 프레임 읽기\n",
    "    if not ret:\n",
    "        print(\"프레임을 가져올 수 없습니다.\")\n",
    "        break\n",
    "\n",
    "    out.write(frame)   # 녹화 프레임 저장\n",
    "    \n",
    "    # 화면에 현재 프레임을 출력\n",
    "    cv2.imshow(\"Recording...\",frame)\n",
    "\n",
    "    # 'q'키를 누르면 종료\n",
    "    if  cv2.waitKey(1) & 0xFF == ord('q'):\n",
    "        print(\"녹화를 종료합니다.\")\n",
    "        break \n",
    "        \n",
    "# 자원 해제 및 창 닫기    \n",
    "cap.release()\n",
    "out.release()\n",
    "cv2.destroyAllWindows()\n",
    "\n",
    "print(f\"녹화된 비디오가 저장되었습니다: {output_filename}\")"
   ]
  },
  {
   "cell_type": "markdown",
   "id": "246f7fd3-80d3-4fcc-b90a-a7c103b7fa6a",
   "metadata": {},
   "source": [
    "### 이미지 변환 처리 파이썬 모듈 구현"
   ]
  },
  {
   "cell_type": "code",
   "execution_count": 2,
   "id": "a423866c-d0b3-46ef-9c2b-5cc9b529f10a",
   "metadata": {},
   "outputs": [
    {
     "name": "stdout",
     "output_type": "stream",
     "text": [
      "Writing opencv_exam_01.py\n"
     ]
    }
   ],
   "source": [
    "%%writefile opencv_exam_01.py\n",
    "# opencv_exam_01.py\n",
    "# 이미지 변환 처리 파이썬 모듈 \n",
    "\n",
    "import cv2\n",
    "import numpy as np\n",
    "\n",
    "# 색상 변경 함수\n",
    "def cvt_color(img):\n",
    "    pass\n"
   ]
  },
  {
   "cell_type": "code",
   "execution_count": null,
   "id": "e3f1061d-6d72-4810-8c73-f48b109c6d3f",
   "metadata": {},
   "outputs": [],
   "source": []
  }
 ],
 "metadata": {
  "kernelspec": {
   "display_name": "Python 3 (ipykernel)",
   "language": "python",
   "name": "python3"
  },
  "language_info": {
   "codemirror_mode": {
    "name": "ipython",
    "version": 3
   },
   "file_extension": ".py",
   "mimetype": "text/x-python",
   "name": "python",
   "nbconvert_exporter": "python",
   "pygments_lexer": "ipython3",
   "version": "3.12.7"
  }
 },
 "nbformat": 4,
 "nbformat_minor": 5
}
