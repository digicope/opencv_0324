{
 "cells": [
  {
   "cell_type": "markdown",
   "id": "4645c10d-5e40-42c9-b388-e41089ec9cb3",
   "metadata": {},
   "source": [
    "### OpenCV 기초"
   ]
  },
  {
   "cell_type": "code",
   "execution_count": 1,
   "id": "da2065f0-a942-4c7c-a93c-dd9807d072fa",
   "metadata": {},
   "outputs": [],
   "source": [
    "# ! pip install opencv-python\n",
    "import cv2\n",
    "import numpy as np\n",
    "import time\n",
    "import matplotlib.pyplot as plt\n",
    "%matplotlib inline"
   ]
  },
  {
   "cell_type": "code",
   "execution_count": 2,
   "id": "ecbc2d30-9063-43e1-9fb5-49693d7c134e",
   "metadata": {},
   "outputs": [
    {
     "data": {
      "text/plain": [
       "'4.11.0'"
      ]
     },
     "execution_count": 2,
     "metadata": {},
     "output_type": "execute_result"
    }
   ],
   "source": [
    "cv2.__version__"
   ]
  },
  {
   "cell_type": "markdown",
   "id": "e9a9703f-576e-4513-9f1a-1919926145d0",
   "metadata": {},
   "source": [
    "### [1] 직선(Line) 그리기"
   ]
  },
  {
   "cell_type": "code",
   "execution_count": 3,
   "id": "89e9e3b9-8f81-4e45-8fe7-9b9a844b66ea",
   "metadata": {},
   "outputs": [],
   "source": [
    "# 직선(Line) 그리기\n",
    "# 흰색 배경의 빈 이미지 생성\n",
    "image = np.ones((500,500,3), dtype=np.uint8)  # 요소를 1로 초기화 해서 생성\n",
    "image = image *255                         # 요소에 255를 곱함\n",
    "\n",
    "# 직선 그리기 (시작점, 끝점, 색상, 두께)\n",
    "cv2.line(image,(50,150),(450,150),(255,0,0),3)   # Color:Blue\n",
    "cv2.line(image,(150,50),(150,450),(0,255,0),3)   # Color:Green\n",
    "cv2.line(image,(50,50),(450,450),(0,0,255),3)    # Color:Red\n",
    "\n",
    "cv2.imshow(\"Line Drawing\",image)\n",
    "cv2.waitKey(0)                    # 이후 예제 모두 'ESC' 키로 종료 가능\n",
    "cv2.destroyAllWindows()"
   ]
  },
  {
   "cell_type": "code",
   "execution_count": 35,
   "id": "72c70d36-a582-4581-9090-e375bf670427",
   "metadata": {},
   "outputs": [],
   "source": [
    "# 여러 개의 랜덤한 직선을 그리는 프로그램\n",
    "import random\n",
    "\n",
    "# 캔버스 크기 설정\n",
    "width, height = 500, 500\n",
    "image = np.ones((height, width, 3), dtype=np.uint8) * 255  # 흰색 배경\n",
    "\n",
    "# 랜덤한 직선을 여러 개 그리기\n",
    "num_lines = 10  # 그릴 직선 개수\n",
    "\n",
    "for _ in range(num_lines):\n",
    "    # 랜덤한 시작점과 끝점 생성\n",
    "    x1, y1 = random.randint(0,width), random.randint(0,height)\n",
    "    x2, y2 = random.randint(0,width), random.randint(0,height)\n",
    "\n",
    "    # 랜덤한 색상 생성 (B, G, R)\n",
    "    color = (random.randint(0,255),random.randint(0,255),random.randint(0,255))\n",
    "\n",
    "    # 랜덤한 두께 설정\n",
    "    thickness = random.randint(1,5)\n",
    "\n",
    "    # 직선 그리기\n",
    "    cv2.line(image, (x1,y1), (x2,y2), color, thickness)\n",
    "\n",
    "# 결과 출력\n",
    "cv2.imshow(\"Random Lines\", image)\n",
    "cv2.waitKey(0)\n",
    "cv2.destroyAllWindows()"
   ]
  },
  {
   "cell_type": "markdown",
   "id": "f8cc07af-0eb1-4476-87ad-9425bbe82363",
   "metadata": {},
   "source": [
    "### [2] 사각형(Rectangle) 그리기"
   ]
  },
  {
   "cell_type": "code",
   "execution_count": 44,
   "id": "e49b7ebc-d263-4f28-a7bc-46813e26b0e7",
   "metadata": {},
   "outputs": [],
   "source": [
    "# 흰색 배경의 빈 이미지 생성\n",
    "image = np.ones((500,500,3), dtype=np.uint8) *255\n",
    "\n",
    "# 사각형 그리기 (시작점, 끝점, 색상, 두께)\n",
    "cv2.rectangle(image, (100, 100), (200,200), (255,0,0), 3)\n",
    "\n",
    "# 결과 출력\n",
    "cv2.imshow(\"Rectangle Drawing\", image)\n",
    "cv2.waitKey(0)\n",
    "cv2.destroyAllWindows()"
   ]
  },
  {
   "cell_type": "code",
   "execution_count": 50,
   "id": "082cf358-08f2-4af5-8618-c5eab87f6c9f",
   "metadata": {},
   "outputs": [],
   "source": [
    "import random\n",
    "\n",
    "# 캔버스 크기 설정\n",
    "width, height = 500, 500\n",
    "image = np.ones((height, width, 3), dtype=np.uint8) * 255  # 흰색 배경\n",
    "\n",
    "# 랜덤한 사각형 여러 개 그리기\n",
    "num_rectangles = 10  # 그릴 사각형 개수\n",
    "\n",
    "for _ in range(num_rectangles):\n",
    "    # 랜덤한 좌표 생성 (왼쪽 상단과 오른쪽 하단)\n",
    "    x1, y1 = random.randint(0,width - 50), random.randint(0,height - 50)\n",
    "    x2, y2 = random.randint(x1 + 20, width), random.randint(y1 + 20,height)\n",
    "\n",
    "    # 랜덤한 색상 생성 (B, G, R)\n",
    "    color = (random.randint(0,255),random.randint(0,255),random.randint(0,255))\n",
    "\n",
    "    # 랜덤한 두께 설정\n",
    "    thickness = random.choice([1,2,3,-1])    # -1이면 채운 사각형\n",
    "\n",
    "    # 사각형 그리기 (시작점, 끝점, 색상, 두께)\n",
    "    cv2.rectangle(image, (x1, y1), (x2, y2), color, thickness)    \n",
    "\n",
    "# 결과 출력\n",
    "cv2.imshow(\"Random Rectangles\", image)\n",
    "cv2.waitKey(0)\n",
    "cv2.destroyAllWindows()"
   ]
  },
  {
   "cell_type": "code",
   "execution_count": 53,
   "id": "7011ebc1-a6af-42ec-a59d-b36dd852e009",
   "metadata": {},
   "outputs": [
    {
     "name": "stdout",
     "output_type": "stream",
     "text": [
      "(140, 100) (260, 399)\n"
     ]
    }
   ],
   "source": [
    "# 직선과 사각형의 교차점 그리기\n",
    "img = np.zeros(shape=(512,512,3), dtype=np.uint8) + 255\n",
    "\n",
    "x1, x2 = 100, 400\n",
    "y1, y2 = 100, 400\n",
    "cv2.rectangle(img, (x1, y1), (x2, y2), (0, 0, 255))\n",
    "\n",
    "pt1 = 120, 50\n",
    "pt2 = 300, 500\n",
    "cv2.line(img, pt1, pt2, (255,0,0), 2)\n",
    "\n",
    "imgRect = (x1, y1, x2-x1, y2-y1)\n",
    "retval, rpt1, rpt2 = cv2.clipLine(imgRect, pt1, pt2)\n",
    "print(rpt1,rpt2)\n",
    "if retval:\n",
    "    cv2.circle(img, rpt1, radius=5, color=(0, 255, 0), thickness=-1)\n",
    "    cv2.circle(img, rpt2, radius=5, color=(0, 255, 0), thickness=-1)\n",
    "\n",
    "cv2.imshow('img', img)\n",
    "cv2.waitKey()\n",
    "cv2.destroyAllWindows()"
   ]
  },
  {
   "cell_type": "markdown",
   "id": "99a73783-ce70-46c0-8c77-ca1d2d504b36",
   "metadata": {},
   "source": [
    "### [3] 원(Circle) 및 타원(Ellipse) 그리기"
   ]
  },
  {
   "cell_type": "code",
   "execution_count": 68,
   "id": "bc7e43ad-0414-4f39-a7f4-294c1327f3d5",
   "metadata": {},
   "outputs": [],
   "source": [
    "# 흰색 배경의 빈 이미지 생성\n",
    "image = np.ones((500,500,3), dtype=np.uint8) *255\n",
    "\n",
    "# 원 그리기 (중심 좌표, 반지름, 색상, 두께)\n",
    "cv2.circle(image, (250, 250), 100, (0,255,0), 3)\n",
    "\n",
    "# 결과 출력\n",
    "cv2.imshow(\"Circle Drawing\", image)\n",
    "cv2.waitKey(0)\n",
    "cv2.destroyAllWindows()"
   ]
  },
  {
   "cell_type": "code",
   "execution_count": 90,
   "id": "f4f37306-b334-45f7-94dd-74ba8390cea3",
   "metadata": {},
   "outputs": [],
   "source": [
    "# 원 내부 채우기\n",
    "img = np.zeros(shape=(512,512,3), dtype=np.uint8) + 255\n",
    "cy = img.shape[0]//2\n",
    "cx = img.shape[1]//2\n",
    "\n",
    "for r in range(200, 0, -100):\n",
    "    cv2.circle(img, (cx, cy), r, color=(255, 0, 0))\n",
    "\n",
    "cv2.circle(img, (cx, cy), radius=50, color=(0,0,255), thickness=-1)   # thickness : Negative values, like #FILLED,\n",
    "\n",
    "cv2.imshow('img', img)\n",
    "cv2.waitKey()\n",
    "cv2.destroyAllWindows()"
   ]
  },
  {
   "cell_type": "code",
   "execution_count": 93,
   "id": "0131a5a8-da4d-4217-a9b4-d735b7b6c68e",
   "metadata": {},
   "outputs": [],
   "source": [
    "# 타원 그리기\n",
    "# cv2.ellipse(image, center, axes, angle, startAngle, endAngle, color, thickness)\n",
    "# center: 타원의 중심 좌표 (이미지 중앙 (250, 250))\n",
    "# axes: 타원의 가로 반지름과 세로 반지름 (150, 100)\n",
    "# angle: 타원의 회전 각도 (0도)\n",
    "# startAngle: 시작 각도 (0도)\n",
    "# endAngle: 끝 각도 (360도 → 완전한 타원)\n",
    "# color: 타원의 색상 (파란색 (255, 0, 0))\n",
    "# thickness: 테두리 두께 (3픽셀, -1을 사용하면 채워진 타원)\n",
    "\n",
    "# 흰색 배경의 빈 이미지 생성\n",
    "image = np.ones((500,500,3), dtype=np.uint8) *255\n",
    "\n",
    "# 원 그리기 (중심 좌표, 크기, 회전 각도, 시작 각도, 끝 각도, 색상, 두께)\n",
    "cv2.ellipse(image, (250, 250), (150,100),0,0,360,(255,0,0), 3)\n",
    "\n",
    "# 결과 출력\n",
    "cv2.imshow(\"Ellipse Drawing\", image)\n",
    "cv2.waitKey(0)\n",
    "cv2.destroyAllWindows()"
   ]
  },
  {
   "cell_type": "code",
   "execution_count": 94,
   "id": "c724d00e-ae5b-41ad-a188-96af99007bed",
   "metadata": {},
   "outputs": [],
   "source": [
    "# 다양한 타원 그리기\n",
    "img = np.zeros(shape=(512,512,3), dtype=np.uint8) + 255\n",
    "ptCenter = img.shape[1]//2, img.shape[0]//2\n",
    "size = 200,100\n",
    "\n",
    "cv2.ellipse(img, ptCenter, size, 0, 0, 360, (255, 0, 0))\n",
    "cv2.ellipse(img, ptCenter, size, 45, 0, 360, (0, 0, 255))\n",
    "\n",
    "box = (ptCenter, size, 0)\n",
    "cv2.ellipse(img, box,  (255, 0, 0), 5)\n",
    "\n",
    "box = (ptCenter, size, 45)\n",
    "cv2.ellipse(img, box,  (0, 0, 255), 5)\n",
    "\n",
    "cv2.imshow('img', img)\n",
    "cv2.waitKey()\n",
    "cv2.destroyAllWindows()"
   ]
  },
  {
   "cell_type": "markdown",
   "id": "3b32102e-2719-46df-9112-b291ff4d7a65",
   "metadata": {},
   "source": [
    "### [4] 다각형(Polygon) 그리기"
   ]
  },
  {
   "cell_type": "code",
   "execution_count": 113,
   "id": "167a4ee2-1d0a-4659-afde-01c3c9830805",
   "metadata": {},
   "outputs": [
    {
     "name": "stdout",
     "output_type": "stream",
     "text": [
      "(6, 2)\n",
      "[[[150 250]]\n",
      "\n",
      " [[200 150]]\n",
      "\n",
      " [[300 150]]\n",
      "\n",
      " [[350 250]]\n",
      "\n",
      " [[300 350]]\n",
      "\n",
      " [[200 350]]]\n"
     ]
    }
   ],
   "source": [
    "# 오각형 그리기\n",
    "# 흰색 배경의 빈 이미지 생성\n",
    "image = np.ones((500, 500, 3), dtype=np.uint8) * 255\n",
    "\n",
    "# 오각형의 꼭지점 좌표 정의\n",
    "points = np.array([[250, 100], [150, 200], [175, 350], \n",
    "                   [325, 350], [350, 200]], np.int32)\n",
    "\n",
    "# 육각형의 꼭짓점 좌표 정의\n",
    "# points = np.array([[150, 250], [200, 150], [300, 150], \n",
    "#                    [350, 250], [300, 350], [200, 350]], np.int32)\n",
    "\n",
    "print(points.shape)                 # (5,2)\n",
    "points = points.reshape((-1,1,2))   # (5,1,2),  OpenCV에 맞게 변환\n",
    "print(points)\n",
    "\n",
    "# 다각형 그리기 (닫힌 도형)\n",
    "cv2.polylines(image,[points],isClosed=True,color=(255,0,0),thickness=3)\n",
    "\n",
    "# 결과 출력\n",
    "cv2.imshow(\"Polygon Drawing\", image)\n",
    "cv2.waitKey(0)\n",
    "cv2.destroyAllWindows()"
   ]
  },
  {
   "cell_type": "code",
   "execution_count": 108,
   "id": "6902d55d-993f-434d-990f-442f6f1cd326",
   "metadata": {},
   "outputs": [],
   "source": [
    "# 두 개의 다각형(삼각형과 사각형) 그리기\n",
    "img = np.zeros(shape=(512,512,3), dtype=np.uint8) + 255\n",
    "\n",
    "pts1 = np.array([[100, 100], [200, 100], [200, 200], [100, 200]])\n",
    "pts2 = np.array([[300, 200], [400, 100], [400, 200]])\n",
    "\n",
    "cv2.polylines(img, [pts1, pts2], isClosed=True, color=(255, 0, 0))\n",
    "\n",
    "cv2.imshow('img', img)\n",
    "cv2.waitKey()\n",
    "cv2.destroyAllWindows()"
   ]
  },
  {
   "cell_type": "code",
   "execution_count": 112,
   "id": "aefb8955-019a-47e2-aa7d-d0a67842607a",
   "metadata": {},
   "outputs": [
    {
     "name": "stdout",
     "output_type": "stream",
     "text": [
      "[[156 356]\n",
      " [156 156]\n",
      " [356 156]\n",
      " [356 356]]\n",
      "[[140 337]\n",
      " [174 140]\n",
      " [371 174]\n",
      " [337 371]]\n",
      "[[127 315]\n",
      " [196 127]\n",
      " [384 196]\n",
      " [315 384]]\n",
      "[[119 292]\n",
      " [219 119]\n",
      " [392 219]\n",
      " [292 392]]\n",
      "[[115 268]\n",
      " [243 115]\n",
      " [396 243]\n",
      " [268 396]]\n",
      "[[115 243]\n",
      " [268 115]\n",
      " [396 268]\n",
      " [243 396]]\n",
      "[[119 219]\n",
      " [292 119]\n",
      " [392 292]\n",
      " [219 392]]\n",
      "[[127 196]\n",
      " [315 127]\n",
      " [384 315]\n",
      " [196 384]]\n",
      "[[140 174]\n",
      " [337 140]\n",
      " [371 337]\n",
      " [174 371]]\n"
     ]
    }
   ],
   "source": [
    "# 회전 사각형 그리기\n",
    "img = np.zeros(shape=(512,512,3), dtype=np.uint8) + 255\n",
    "\n",
    "x, y = 256, 256\n",
    "size = 200\n",
    "\n",
    "for angle in range(0, 90, 10):\n",
    "    rect = ((256, 256), (size, size), angle)\n",
    "    box = cv2.boxPoints(rect).astype(np.int32)\n",
    "    print(box)\n",
    "    r = np.random.randint(256)\n",
    "    g = np.random.randint(256)\n",
    "    b = np.random.randint(256)   \n",
    "    cv2.polylines(img, [box], True, (b, g, r), 2)\n",
    "    \n",
    "cv2.imshow('img', img)\n",
    "cv2.waitKey()\n",
    "cv2.destroyAllWindows()"
   ]
  },
  {
   "cell_type": "code",
   "execution_count": 119,
   "id": "c2d989ce-f400-43b3-8da7-20f8eeaa7133",
   "metadata": {},
   "outputs": [],
   "source": [
    "# 다각형 채우기\n",
    "\n",
    "img = np.zeros(shape=(512,512,3), dtype=np.uint8) + 255\n",
    "\n",
    "pts1 = np.array([[100, 100], [200, 100], [200, 200], [100, 200]])\n",
    "pts2 = np.array([[300, 200], [400, 100], [400, 200]])\n",
    "\n",
    "# 한 개의 다각형 채우기\n",
    "# cv2.fillConvexPoly(img, pts1, color=(255, 0, 0))\n",
    "\n",
    "# 여러 개의 다각형 채우기\n",
    "# cv2.fillPoly(img, [pts2], color=(0, 0, 255))   # 1개\n",
    "cv2.fillPoly(img, [pts1, pts2], color=(0, 0, 255)) # 2개  \n",
    "\n",
    "cv2.imshow('img', img)\n",
    "cv2.waitKey()\n",
    "cv2.destroyAllWindows()"
   ]
  },
  {
   "cell_type": "markdown",
   "id": "479e57dd-541a-4416-bbb7-dd470296d342",
   "metadata": {},
   "source": [
    "### [5] 문자열(Text) 출력"
   ]
  },
  {
   "cell_type": "code",
   "execution_count": 125,
   "id": "658cd084-2b72-415b-b378-a4acb34dc028",
   "metadata": {},
   "outputs": [],
   "source": [
    "# 문자열 출력\n",
    "\n",
    "# 흰색 배경의 빈 이미지 생성\n",
    "image = np.ones((500, 500, 3), dtype=np.uint8) * 255\n",
    "\n",
    "# 텍스트 추가\n",
    "cv2.putText(image, \"Hello, OpenCV!\",(50,250),\n",
    "            cv2.FONT_HERSHEY_SIMPLEX,1,(0,0,255),2,cv2.LINE_AA)  # Anti-Aliased : 텍스트의 외곽선을 부드럽게 그리는 방법\n",
    "\n",
    "# 결과 출력\n",
    "cv2.imshow(\"Text Example\", image)\n",
    "cv2.waitKey(0)\n",
    "cv2.destroyAllWindows()"
   ]
  },
  {
   "cell_type": "code",
   "execution_count": 127,
   "id": "35c04efb-0d77-40c1-913c-01d1676f979c",
   "metadata": {},
   "outputs": [],
   "source": [
    "# 타이핑 효과가 있는 텍스트 출력\n",
    "import time\n",
    "\n",
    "# 흰색 배경 이미지 생성\n",
    "image = np.ones((500, 500, 3), dtype=np.uint8) * 255\n",
    "\n",
    "# 출력할 텍스트\n",
    "text = \"Hello, OpenCV!\"\n",
    "\n",
    "# 텍스트 속성 설정\n",
    "font = cv2.FONT_HERSHEY_SIMPLEX\n",
    "font_scale = 1\n",
    "thickness = 2\n",
    "color = (0, 0, 255)  # 빨간색 (BGR)\n",
    "start_x, start_y = 50, 250  # 시작 위치\n",
    "\n",
    "# 한 글자씩 출력하는 애니메이션 효과\n",
    "for i in range(len(text) + 1):\n",
    "    temp_image = image.copy()  # 원본 이미지 유지\n",
    "    cv2.putText(temp_image, text[:i], (start_x, start_y), font, font_scale, color, thickness, cv2.LINE_AA)\n",
    "    cv2.imshow(\"Typing Effect\", temp_image)\n",
    "    cv2.waitKey(200)  # 200ms 대기 (입력 속도 조절)\n",
    "\n",
    "cv2.waitKey(0)\n",
    "cv2.destroyAllWindows()"
   ]
  },
  {
   "cell_type": "code",
   "execution_count": 2,
   "id": "5e51760e-5ea3-4879-8e64-2ba6f0bbf767",
   "metadata": {},
   "outputs": [
    {
     "name": "stdout",
     "output_type": "stream",
     "text": [
      "size: (345, 22)\n",
      "baseLine: 10\n"
     ]
    }
   ],
   "source": [
    "# 문자열에 사각형 씌우기\n",
    "img = np.zeros(shape=(512,512,3), dtype=np.uint8) + 255\n",
    "text = 'OpenCV Programming'\n",
    "org = (50,100)\n",
    "font = cv2.FONT_HERSHEY_SIMPLEX\n",
    "cv2.putText(img,text, org, font, 1, (255,0,0), 2)\n",
    "\n",
    "size, baseLine = cv2.getTextSize(text,font,1,2)\n",
    "print('size:',size)\n",
    "print('baseLine:',baseLine)\n",
    "\n",
    "cv2.rectangle(img,org,(org[0]+size[0], org[1]-size[1]), (0, 0, 255))\n",
    "cv2.circle(img, org, 3, (0, 255,0), 2)\n",
    "\n",
    "cv2.imshow('img', img)\n",
    "cv2.waitKey()\n",
    "cv2.destroyAllWindows()"
   ]
  },
  {
   "cell_type": "markdown",
   "id": "224d6202-e3f8-42a5-8f4d-3525a4d743ae",
   "metadata": {},
   "source": [
    "### [6] 키보드 이벤트 처리"
   ]
  },
  {
   "cell_type": "code",
   "execution_count": 24,
   "id": "acb1e4f8-0d42-4618-af01-e0f2b71df3ba",
   "metadata": {},
   "outputs": [
    {
     "name": "stdout",
     "output_type": "stream",
     "text": [
      "S 키가 눌렸습니다.\n",
      "S 키가 눌렸습니다.\n",
      "S 키가 눌렸습니다.\n",
      "S 키가 눌렸습니다.\n",
      "S 키가 눌렸습니다.\n",
      "S 키가 눌렸습니다.\n",
      "프로그램 종료\n"
     ]
    }
   ],
   "source": [
    "# 키보드 이벤트 감지 및 처리\n",
    "\n",
    "\n",
    "# 흰색 배경 이미지 생성\n",
    "image = np.ones((500, 500, 3), dtype=np.uint8) * 255\n",
    "\n",
    "cv2.imshow(\"Keyboard Event\", image)\n",
    "\n",
    "# cv2.waitKey(delay=0)\n",
    "# delay\t기다릴 시간(밀리초 단위, ms)\n",
    "# 예: 1000이면 1초 동안 키 입력을 기다림\n",
    "# 0\t : 무한정 기다림 (사용자가 키를 누를 때까지 창이 유지됨)\n",
    "# >0 : 해당 시간만큼 기다렸다가 자동으로 다음 코드 실행됨\n",
    "while True:\n",
    "    key = cv2.waitKey(0) & 0xFF   #  키 입력 대기\n",
    "    # print(key)\n",
    "    # 'q' 키를 누르면 종료\n",
    "    if key == ord('q'):\n",
    "        print('프로그램 종료')\n",
    "        break\n",
    "\n",
    "    # 's' 키를 누르면 화면에 텍스트 출력\n",
    "    elif key == ord('s'):\n",
    "        cv2.putText(image, \"Key 'S' Pressed!\", (100, 250), \n",
    "                    cv2.FONT_HERSHEY_SIMPLEX, 1, (0, 0, 255), 2, cv2.LINE_AA)\n",
    "        cv2.imshow(\"Keyboard Event\", image)\n",
    "        print(\"S 키가 눌렸습니다.\")\n",
    "        \n",
    "cv2.destroyAllWindows()"
   ]
  },
  {
   "cell_type": "code",
   "execution_count": 22,
   "id": "97b15a30-f91f-44bf-a44a-7481c5b142b7",
   "metadata": {},
   "outputs": [
    {
     "name": "stdout",
     "output_type": "stream",
     "text": [
      "프로그램 종료\n"
     ]
    }
   ],
   "source": [
    "# 키보드로 출력 제어\n",
    "\n",
    "width, height = 512, 512\n",
    "x, y, R = 256, 256, 50\n",
    "direction = 0 # right\n",
    "\n",
    "while True:   \n",
    "    key = cv2.waitKeyEx(30)      \n",
    "    if key == 0x1B:       # 'ESC' : 프로그램 종료\n",
    "        print(\"프로그램 종료\")\n",
    "        break;\n",
    "    \n",
    "# 방향키 방향전환 \n",
    "    elif key == 0x270000: # right\n",
    "        direction = 0\n",
    "    elif key == 0x280000: # down\n",
    "        direction = 1\n",
    "    elif key == 0x250000: # left\n",
    "        direction = 2\n",
    "    elif key == 0x260000: # up\n",
    "        direction = 3\n",
    "        \n",
    "# 방향으로 이동 \n",
    "    if direction == 0:     # right\n",
    "        x += 10\n",
    "    elif direction == 1:   # down\n",
    "        y += 10\n",
    "    elif direction == 2:   # left\n",
    "        x -= 10\n",
    "    else: # 3, up\n",
    "        y -= 10\n",
    "\n",
    "#   경계확인 \n",
    "    if x < R:\n",
    "        x = R\n",
    "        direction = 0\n",
    "    if x > width - R:\n",
    "        x = width - R\n",
    "        direction = 2\n",
    "    if y < R:\n",
    "        y = R\n",
    "        direction = 1\n",
    "    if y > height - R:\n",
    "        y = height - R\n",
    "        direction = 3\n",
    "        \n",
    "# 지우고, 그리기        \n",
    "    img = np.zeros((width, height,3), np.uint8) + 255 # 지우기\n",
    "    cv2.circle(img, (x, y), R, (0, 0, 255), -1) \n",
    "    cv2.imshow('img', img)\n",
    "    \n",
    "cv2.destroyAllWindows()\n"
   ]
  },
  {
   "cell_type": "code",
   "execution_count": null,
   "id": "1713f091-09a7-4c43-a3ae-bc69f811d0de",
   "metadata": {},
   "outputs": [],
   "source": [
    "0x00FF"
   ]
  }
 ],
 "metadata": {
  "kernelspec": {
   "display_name": "Python 3 (ipykernel)",
   "language": "python",
   "name": "python3"
  },
  "language_info": {
   "codemirror_mode": {
    "name": "ipython",
    "version": 3
   },
   "file_extension": ".py",
   "mimetype": "text/x-python",
   "name": "python",
   "nbconvert_exporter": "python",
   "pygments_lexer": "ipython3",
   "version": "3.12.7"
  }
 },
 "nbformat": 4,
 "nbformat_minor": 5
}
