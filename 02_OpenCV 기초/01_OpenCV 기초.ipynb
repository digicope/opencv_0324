{
 "cells": [
  {
   "cell_type": "markdown",
   "id": "4645c10d-5e40-42c9-b388-e41089ec9cb3",
   "metadata": {},
   "source": [
    "### OpenCV 기초"
   ]
  },
  {
   "cell_type": "code",
   "execution_count": 1,
   "id": "da2065f0-a942-4c7c-a93c-dd9807d072fa",
   "metadata": {},
   "outputs": [],
   "source": [
    "# ! pip install opencv-python\n",
    "import cv2\n",
    "import numpy as np\n",
    "import time\n",
    "import matplotlib.pyplot as plt\n",
    "%matplotlib inline"
   ]
  },
  {
   "cell_type": "code",
   "execution_count": 2,
   "id": "ecbc2d30-9063-43e1-9fb5-49693d7c134e",
   "metadata": {},
   "outputs": [
    {
     "data": {
      "text/plain": [
       "'4.11.0'"
      ]
     },
     "execution_count": 2,
     "metadata": {},
     "output_type": "execute_result"
    }
   ],
   "source": [
    "cv2.__version__"
   ]
  },
  {
   "cell_type": "markdown",
   "id": "e9a9703f-576e-4513-9f1a-1919926145d0",
   "metadata": {},
   "source": [
    "### [1] 직선(Line) 그리기"
   ]
  },
  {
   "cell_type": "code",
   "execution_count": 15,
   "id": "89e9e3b9-8f81-4e45-8fe7-9b9a844b66ea",
   "metadata": {},
   "outputs": [],
   "source": [
    "# 직선(Line) 그리기\n",
    "# 흰색 배경의 빈 이미지 생성\n",
    "image = np.ones((500,500,3), dtype=np.uint8)  # 요소를 1로 초기화 해서 생성\n",
    "image = image *255                         # 요소에 255를 곱함\n",
    "\n",
    "# 직선 그리기 (시작점, 끝점, 색상, 두께)\n",
    "cv2.line(image,(50,150),(450,150),(255,0,0),3)   # Color:Blue\n",
    "cv2.line(image,(150,50),(150,450),(0,255,0),3)   # Color:Green\n",
    "cv2.line(image,(50,50),(450,450),(0,0,255),3)    # Color:Red\n",
    "\n",
    "cv2.imshow(\"Line Drawing\",image)\n",
    "cv2.waitKey(0)                    # 이후 예제 모두 'ESC' 키로 종료 가능\n",
    "cv2.destroyAllWindows()"
   ]
  },
  {
   "cell_type": "code",
   "execution_count": 4,
   "id": "72c70d36-a582-4581-9090-e375bf670427",
   "metadata": {},
   "outputs": [],
   "source": []
  },
  {
   "cell_type": "code",
   "execution_count": null,
   "id": "c0993591-1c31-4e95-920c-c731069888c8",
   "metadata": {},
   "outputs": [],
   "source": []
  }
 ],
 "metadata": {
  "kernelspec": {
   "display_name": "Python 3 (ipykernel)",
   "language": "python",
   "name": "python3"
  },
  "language_info": {
   "codemirror_mode": {
    "name": "ipython",
    "version": 3
   },
   "file_extension": ".py",
   "mimetype": "text/x-python",
   "name": "python",
   "nbconvert_exporter": "python",
   "pygments_lexer": "ipython3",
   "version": "3.12.7"
  }
 },
 "nbformat": 4,
 "nbformat_minor": 5
}
