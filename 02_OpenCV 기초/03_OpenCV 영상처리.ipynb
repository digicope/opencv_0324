{
 "cells": [
  {
   "cell_type": "markdown",
   "id": "7723d5ec-aef0-4a09-a091-49336902a8b2",
   "metadata": {},
   "source": [
    "# OpenCV 영상 처리\n",
    "- OpenCV는 쉽게 비디오 영상처리를 할 수 있는 API를 제공한다\n",
    "- VideoCapture 객체는 Video Streaming을 Frame 별로 Capture하여 처리할 수 있는 기능 제공\n",
    "- VideoWriter 객체는 VideoCapture로 읽어들인 Frame을 동영상으로 Write하는 기능 제공"
   ]
  },
  {
   "cell_type": "code",
   "execution_count": 1,
   "id": "03532de7-ff31-4dea-bcf0-ac9ab6742c0c",
   "metadata": {},
   "outputs": [
    {
     "data": {
      "text/html": [
       "<video src=\"Justice_League-02.mp4\" controls  width=\"480\" >\n",
       "      Your browser does not support the <code>video</code> element.\n",
       "    </video>"
      ],
      "text/plain": [
       "<IPython.core.display.Video object>"
      ]
     },
     "execution_count": 1,
     "metadata": {},
     "output_type": "execute_result"
    }
   ],
   "source": [
    "# ! pip install ipython\n",
    "# IPython.display는 Jupyter Notebook 및 IPython 환경에서 다양한 멀티미디어(이미지, 동영상, HTML 등)를 출력하는 기능을 제공하는 모듈\n",
    "from IPython.display import clear_output, Image, display, Video, HTML\n",
    "Video('Justice_League-02.mp4',width=480)"
   ]
  },
  {
   "cell_type": "code",
   "execution_count": null,
   "id": "6f3cf268-f9d7-4ce4-b216-e35fdf75e34e",
   "metadata": {},
   "outputs": [],
   "source": []
  }
 ],
 "metadata": {
  "kernelspec": {
   "display_name": "Python 3 (ipykernel)",
   "language": "python",
   "name": "python3"
  },
  "language_info": {
   "codemirror_mode": {
    "name": "ipython",
    "version": 3
   },
   "file_extension": ".py",
   "mimetype": "text/x-python",
   "name": "python",
   "nbconvert_exporter": "python",
   "pygments_lexer": "ipython3",
   "version": "3.12.7"
  }
 },
 "nbformat": 4,
 "nbformat_minor": 5
}
